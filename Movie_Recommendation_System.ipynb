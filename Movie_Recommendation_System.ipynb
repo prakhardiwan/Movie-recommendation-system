{
  "cells": [
    {
      "cell_type": "markdown",
      "metadata": {
        "id": "zvRQUUD9onul"
      },
      "source": [
        "#**MOVIE RECOMMENDATION SYSTEM**\n",
        "CS419M Course Project \\\n",
        "\\\n",
        "For this task, we utilized following 3 approaches: \n",
        "1. Collaborative Filtering \n",
        "2. Content-based Filtering \n",
        "3. Demographic Filtering \n",
        "\n",
        "The code for each of them is listed below"
      ]
    },
    {
      "cell_type": "markdown",
      "metadata": {
        "id": "5UcVK2UILOl_"
      },
      "source": [
        "#Demographic filtering"
      ]
    },
    {
      "cell_type": "markdown",
      "metadata": {
        "id": "X9m8AQPaLYHe"
      },
      "source": [
        "Demographic filtering is a technique used in recommender technique which recommends movies taking into consideration the general popularity of a movie.Since each user is different , this approach is considered to be too simple. The basic idea behind this system is that movies that are more popular and critically acclaimed will have a higher probability of being liked by the average audience.(But that's the best u can do when u know nothing in specific about the user,this is typically the case with new subscribers) \\\n",
        "So,first lets go through the aspects of demographic filtering "
      ]
    },
    {
      "cell_type": "markdown",
      "metadata": {
        "id": "bT-WY7dDKbMT"
      },
      "source": [
        "###![](https://makesmarttv.net/wp-content/uploads/2014/10/netflix_more_movies.jpg)"
      ]
    },
    {
      "cell_type": "markdown",
      "metadata": {
        "id": "oOEUzMuFOQ1a"
      },
      "source": [
        "So,lets get started we will try doing something like the NETFLIX demographic filtering shown above\n",
        "\n",
        "We would try recommending the top 10 highly rated films,top 10 most popular films etc.\n",
        "\n",
        "Followed by more specific recommendations like top 10 of each genre(comedy,action,children&family movies etc.),followed by 5 best movies of popular actors\n",
        "\n",
        "This doesn't involve any machine learning(though ML techniques would be extensively used in content-based & collaborative filtering) but is mainly about capitalizing on the critical stats from the TMDB ratings data\n",
        "\n",
        "Thus,demographic filtering is about giving crude recommendation knowing nothing about the viewer(which is the case for most new subscribers to NETFLIX or other streaming platforms)\n",
        "\n",
        "\n",
        "\n"
      ]
    },
    {
      "cell_type": "markdown",
      "metadata": {
        "id": "kRx108FNXP3L"
      },
      "source": [
        "##Importing libraries and a peek into the dataset"
      ]
    },
    {
      "cell_type": "code",
      "execution_count": 82,
      "metadata": {
        "colab": {
          "base_uri": "https://localhost:8080/"
        },
        "id": "mcSK2DXDkAqs",
        "outputId": "ff8051bb-3719-47a2-ef7a-465e8e6b7ca5"
      },
      "outputs": [
        {
          "name": "stdout",
          "output_type": "stream",
          "text": [
            "Drive already mounted at /content/drive; to attempt to forcibly remount, call drive.mount(\"/content/drive\", force_remount=True).\n"
          ]
        }
      ],
      "source": [
        "from google.colab import drive\n",
        "drive.mount('/content/drive')"
      ]
    },
    {
      "cell_type": "code",
      "execution_count": 83,
      "metadata": {
        "colab": {
          "base_uri": "https://localhost:8080/"
        },
        "id": "FNQwwd3kKRWF",
        "outputId": "baeba196-b21f-4bd3-e873-251cf5540ba3"
      },
      "outputs": [
        {
          "name": "stdout",
          "output_type": "stream",
          "text": [
            "(4803, 20) (4803, 4)\n"
          ]
        }
      ],
      "source": [
        "import numpy as np\n",
        "import pandas as pd\n",
        "import matplotlib.pyplot as plt\n",
        "import seaborn as sns\n",
        "movies=pd.read_csv(\"/content/drive/MyDrive/movies_data/tmdb_5000_movies.csv/tmdb_5000_movies.csv\")\n",
        "credits=pd.read_csv(\"/content/drive/MyDrive/movies_data/tmdb_5000_credits.csv/tmdb_5000_credits.csv\")\n",
        "print(movies.shape,credits.shape)"
      ]
    },
    {
      "cell_type": "code",
      "execution_count": 84,
      "metadata": {
        "colab": {
          "base_uri": "https://localhost:8080/",
          "height": 773
        },
        "id": "GNYCH5SROD5m",
        "outputId": "c6a3ee93-7ddd-4664-9c82-003ec5e92c3c"
      },
      "outputs": [
        {
          "data": {
            "text/html": [
              "\n",
              "  <div id=\"df-f1de38a1-1b55-4f0c-a807-526a9675d1db\">\n",
              "    <div class=\"colab-df-container\">\n",
              "      <div>\n",
              "<style scoped>\n",
              "    .dataframe tbody tr th:only-of-type {\n",
              "        vertical-align: middle;\n",
              "    }\n",
              "\n",
              "    .dataframe tbody tr th {\n",
              "        vertical-align: top;\n",
              "    }\n",
              "\n",
              "    .dataframe thead th {\n",
              "        text-align: right;\n",
              "    }\n",
              "</style>\n",
              "<table border=\"1\" class=\"dataframe\">\n",
              "  <thead>\n",
              "    <tr style=\"text-align: right;\">\n",
              "      <th></th>\n",
              "      <th>budget</th>\n",
              "      <th>genres</th>\n",
              "      <th>homepage</th>\n",
              "      <th>id</th>\n",
              "      <th>keywords</th>\n",
              "      <th>original_language</th>\n",
              "      <th>original_title</th>\n",
              "      <th>overview</th>\n",
              "      <th>popularity</th>\n",
              "      <th>production_companies</th>\n",
              "      <th>production_countries</th>\n",
              "      <th>release_date</th>\n",
              "      <th>revenue</th>\n",
              "      <th>runtime</th>\n",
              "      <th>spoken_languages</th>\n",
              "      <th>status</th>\n",
              "      <th>tagline</th>\n",
              "      <th>title</th>\n",
              "      <th>vote_average</th>\n",
              "      <th>vote_count</th>\n",
              "    </tr>\n",
              "  </thead>\n",
              "  <tbody>\n",
              "    <tr>\n",
              "      <th>0</th>\n",
              "      <td>237000000</td>\n",
              "      <td>[{\"id\": 28, \"name\": \"Action\"}, {\"id\": 12, \"nam...</td>\n",
              "      <td>http://www.avatarmovie.com/</td>\n",
              "      <td>19995</td>\n",
              "      <td>[{\"id\": 1463, \"name\": \"culture clash\"}, {\"id\":...</td>\n",
              "      <td>en</td>\n",
              "      <td>Avatar</td>\n",
              "      <td>In the 22nd century, a paraplegic Marine is di...</td>\n",
              "      <td>150.437577</td>\n",
              "      <td>[{\"name\": \"Ingenious Film Partners\", \"id\": 289...</td>\n",
              "      <td>[{\"iso_3166_1\": \"US\", \"name\": \"United States o...</td>\n",
              "      <td>2009-12-10</td>\n",
              "      <td>2787965087</td>\n",
              "      <td>162.0</td>\n",
              "      <td>[{\"iso_639_1\": \"en\", \"name\": \"English\"}, {\"iso...</td>\n",
              "      <td>Released</td>\n",
              "      <td>Enter the World of Pandora.</td>\n",
              "      <td>Avatar</td>\n",
              "      <td>7.2</td>\n",
              "      <td>11800</td>\n",
              "    </tr>\n",
              "    <tr>\n",
              "      <th>1</th>\n",
              "      <td>300000000</td>\n",
              "      <td>[{\"id\": 12, \"name\": \"Adventure\"}, {\"id\": 14, \"...</td>\n",
              "      <td>http://disney.go.com/disneypictures/pirates/</td>\n",
              "      <td>285</td>\n",
              "      <td>[{\"id\": 270, \"name\": \"ocean\"}, {\"id\": 726, \"na...</td>\n",
              "      <td>en</td>\n",
              "      <td>Pirates of the Caribbean: At World's End</td>\n",
              "      <td>Captain Barbossa, long believed to be dead, ha...</td>\n",
              "      <td>139.082615</td>\n",
              "      <td>[{\"name\": \"Walt Disney Pictures\", \"id\": 2}, {\"...</td>\n",
              "      <td>[{\"iso_3166_1\": \"US\", \"name\": \"United States o...</td>\n",
              "      <td>2007-05-19</td>\n",
              "      <td>961000000</td>\n",
              "      <td>169.0</td>\n",
              "      <td>[{\"iso_639_1\": \"en\", \"name\": \"English\"}]</td>\n",
              "      <td>Released</td>\n",
              "      <td>At the end of the world, the adventure begins.</td>\n",
              "      <td>Pirates of the Caribbean: At World's End</td>\n",
              "      <td>6.9</td>\n",
              "      <td>4500</td>\n",
              "    </tr>\n",
              "    <tr>\n",
              "      <th>2</th>\n",
              "      <td>245000000</td>\n",
              "      <td>[{\"id\": 28, \"name\": \"Action\"}, {\"id\": 12, \"nam...</td>\n",
              "      <td>http://www.sonypictures.com/movies/spectre/</td>\n",
              "      <td>206647</td>\n",
              "      <td>[{\"id\": 470, \"name\": \"spy\"}, {\"id\": 818, \"name...</td>\n",
              "      <td>en</td>\n",
              "      <td>Spectre</td>\n",
              "      <td>A cryptic message from Bond’s past sends him o...</td>\n",
              "      <td>107.376788</td>\n",
              "      <td>[{\"name\": \"Columbia Pictures\", \"id\": 5}, {\"nam...</td>\n",
              "      <td>[{\"iso_3166_1\": \"GB\", \"name\": \"United Kingdom\"...</td>\n",
              "      <td>2015-10-26</td>\n",
              "      <td>880674609</td>\n",
              "      <td>148.0</td>\n",
              "      <td>[{\"iso_639_1\": \"fr\", \"name\": \"Fran\\u00e7ais\"},...</td>\n",
              "      <td>Released</td>\n",
              "      <td>A Plan No One Escapes</td>\n",
              "      <td>Spectre</td>\n",
              "      <td>6.3</td>\n",
              "      <td>4466</td>\n",
              "    </tr>\n",
              "    <tr>\n",
              "      <th>3</th>\n",
              "      <td>250000000</td>\n",
              "      <td>[{\"id\": 28, \"name\": \"Action\"}, {\"id\": 80, \"nam...</td>\n",
              "      <td>http://www.thedarkknightrises.com/</td>\n",
              "      <td>49026</td>\n",
              "      <td>[{\"id\": 849, \"name\": \"dc comics\"}, {\"id\": 853,...</td>\n",
              "      <td>en</td>\n",
              "      <td>The Dark Knight Rises</td>\n",
              "      <td>Following the death of District Attorney Harve...</td>\n",
              "      <td>112.312950</td>\n",
              "      <td>[{\"name\": \"Legendary Pictures\", \"id\": 923}, {\"...</td>\n",
              "      <td>[{\"iso_3166_1\": \"US\", \"name\": \"United States o...</td>\n",
              "      <td>2012-07-16</td>\n",
              "      <td>1084939099</td>\n",
              "      <td>165.0</td>\n",
              "      <td>[{\"iso_639_1\": \"en\", \"name\": \"English\"}]</td>\n",
              "      <td>Released</td>\n",
              "      <td>The Legend Ends</td>\n",
              "      <td>The Dark Knight Rises</td>\n",
              "      <td>7.6</td>\n",
              "      <td>9106</td>\n",
              "    </tr>\n",
              "    <tr>\n",
              "      <th>4</th>\n",
              "      <td>260000000</td>\n",
              "      <td>[{\"id\": 28, \"name\": \"Action\"}, {\"id\": 12, \"nam...</td>\n",
              "      <td>http://movies.disney.com/john-carter</td>\n",
              "      <td>49529</td>\n",
              "      <td>[{\"id\": 818, \"name\": \"based on novel\"}, {\"id\":...</td>\n",
              "      <td>en</td>\n",
              "      <td>John Carter</td>\n",
              "      <td>John Carter is a war-weary, former military ca...</td>\n",
              "      <td>43.926995</td>\n",
              "      <td>[{\"name\": \"Walt Disney Pictures\", \"id\": 2}]</td>\n",
              "      <td>[{\"iso_3166_1\": \"US\", \"name\": \"United States o...</td>\n",
              "      <td>2012-03-07</td>\n",
              "      <td>284139100</td>\n",
              "      <td>132.0</td>\n",
              "      <td>[{\"iso_639_1\": \"en\", \"name\": \"English\"}]</td>\n",
              "      <td>Released</td>\n",
              "      <td>Lost in our world, found in another.</td>\n",
              "      <td>John Carter</td>\n",
              "      <td>6.1</td>\n",
              "      <td>2124</td>\n",
              "    </tr>\n",
              "  </tbody>\n",
              "</table>\n",
              "</div>\n",
              "      <button class=\"colab-df-convert\" onclick=\"convertToInteractive('df-f1de38a1-1b55-4f0c-a807-526a9675d1db')\"\n",
              "              title=\"Convert this dataframe to an interactive table.\"\n",
              "              style=\"display:none;\">\n",
              "        \n",
              "  <svg xmlns=\"http://www.w3.org/2000/svg\" height=\"24px\"viewBox=\"0 0 24 24\"\n",
              "       width=\"24px\">\n",
              "    <path d=\"M0 0h24v24H0V0z\" fill=\"none\"/>\n",
              "    <path d=\"M18.56 5.44l.94 2.06.94-2.06 2.06-.94-2.06-.94-.94-2.06-.94 2.06-2.06.94zm-11 1L8.5 8.5l.94-2.06 2.06-.94-2.06-.94L8.5 2.5l-.94 2.06-2.06.94zm10 10l.94 2.06.94-2.06 2.06-.94-2.06-.94-.94-2.06-.94 2.06-2.06.94z\"/><path d=\"M17.41 7.96l-1.37-1.37c-.4-.4-.92-.59-1.43-.59-.52 0-1.04.2-1.43.59L10.3 9.45l-7.72 7.72c-.78.78-.78 2.05 0 2.83L4 21.41c.39.39.9.59 1.41.59.51 0 1.02-.2 1.41-.59l7.78-7.78 2.81-2.81c.8-.78.8-2.07 0-2.86zM5.41 20L4 18.59l7.72-7.72 1.47 1.35L5.41 20z\"/>\n",
              "  </svg>\n",
              "      </button>\n",
              "      \n",
              "  <style>\n",
              "    .colab-df-container {\n",
              "      display:flex;\n",
              "      flex-wrap:wrap;\n",
              "      gap: 12px;\n",
              "    }\n",
              "\n",
              "    .colab-df-convert {\n",
              "      background-color: #E8F0FE;\n",
              "      border: none;\n",
              "      border-radius: 50%;\n",
              "      cursor: pointer;\n",
              "      display: none;\n",
              "      fill: #1967D2;\n",
              "      height: 32px;\n",
              "      padding: 0 0 0 0;\n",
              "      width: 32px;\n",
              "    }\n",
              "\n",
              "    .colab-df-convert:hover {\n",
              "      background-color: #E2EBFA;\n",
              "      box-shadow: 0px 1px 2px rgba(60, 64, 67, 0.3), 0px 1px 3px 1px rgba(60, 64, 67, 0.15);\n",
              "      fill: #174EA6;\n",
              "    }\n",
              "\n",
              "    [theme=dark] .colab-df-convert {\n",
              "      background-color: #3B4455;\n",
              "      fill: #D2E3FC;\n",
              "    }\n",
              "\n",
              "    [theme=dark] .colab-df-convert:hover {\n",
              "      background-color: #434B5C;\n",
              "      box-shadow: 0px 1px 3px 1px rgba(0, 0, 0, 0.15);\n",
              "      filter: drop-shadow(0px 1px 2px rgba(0, 0, 0, 0.3));\n",
              "      fill: #FFFFFF;\n",
              "    }\n",
              "  </style>\n",
              "\n",
              "      <script>\n",
              "        const buttonEl =\n",
              "          document.querySelector('#df-f1de38a1-1b55-4f0c-a807-526a9675d1db button.colab-df-convert');\n",
              "        buttonEl.style.display =\n",
              "          google.colab.kernel.accessAllowed ? 'block' : 'none';\n",
              "\n",
              "        async function convertToInteractive(key) {\n",
              "          const element = document.querySelector('#df-f1de38a1-1b55-4f0c-a807-526a9675d1db');\n",
              "          const dataTable =\n",
              "            await google.colab.kernel.invokeFunction('convertToInteractive',\n",
              "                                                     [key], {});\n",
              "          if (!dataTable) return;\n",
              "\n",
              "          const docLinkHtml = 'Like what you see? Visit the ' +\n",
              "            '<a target=\"_blank\" href=https://colab.research.google.com/notebooks/data_table.ipynb>data table notebook</a>'\n",
              "            + ' to learn more about interactive tables.';\n",
              "          element.innerHTML = '';\n",
              "          dataTable['output_type'] = 'display_data';\n",
              "          await google.colab.output.renderOutput(dataTable, element);\n",
              "          const docLink = document.createElement('div');\n",
              "          docLink.innerHTML = docLinkHtml;\n",
              "          element.appendChild(docLink);\n",
              "        }\n",
              "      </script>\n",
              "    </div>\n",
              "  </div>\n",
              "  "
            ],
            "text/plain": [
              "      budget                                             genres  \\\n",
              "0  237000000  [{\"id\": 28, \"name\": \"Action\"}, {\"id\": 12, \"nam...   \n",
              "1  300000000  [{\"id\": 12, \"name\": \"Adventure\"}, {\"id\": 14, \"...   \n",
              "2  245000000  [{\"id\": 28, \"name\": \"Action\"}, {\"id\": 12, \"nam...   \n",
              "3  250000000  [{\"id\": 28, \"name\": \"Action\"}, {\"id\": 80, \"nam...   \n",
              "4  260000000  [{\"id\": 28, \"name\": \"Action\"}, {\"id\": 12, \"nam...   \n",
              "\n",
              "                                       homepage      id  \\\n",
              "0                   http://www.avatarmovie.com/   19995   \n",
              "1  http://disney.go.com/disneypictures/pirates/     285   \n",
              "2   http://www.sonypictures.com/movies/spectre/  206647   \n",
              "3            http://www.thedarkknightrises.com/   49026   \n",
              "4          http://movies.disney.com/john-carter   49529   \n",
              "\n",
              "                                            keywords original_language  \\\n",
              "0  [{\"id\": 1463, \"name\": \"culture clash\"}, {\"id\":...                en   \n",
              "1  [{\"id\": 270, \"name\": \"ocean\"}, {\"id\": 726, \"na...                en   \n",
              "2  [{\"id\": 470, \"name\": \"spy\"}, {\"id\": 818, \"name...                en   \n",
              "3  [{\"id\": 849, \"name\": \"dc comics\"}, {\"id\": 853,...                en   \n",
              "4  [{\"id\": 818, \"name\": \"based on novel\"}, {\"id\":...                en   \n",
              "\n",
              "                             original_title  \\\n",
              "0                                    Avatar   \n",
              "1  Pirates of the Caribbean: At World's End   \n",
              "2                                   Spectre   \n",
              "3                     The Dark Knight Rises   \n",
              "4                               John Carter   \n",
              "\n",
              "                                            overview  popularity  \\\n",
              "0  In the 22nd century, a paraplegic Marine is di...  150.437577   \n",
              "1  Captain Barbossa, long believed to be dead, ha...  139.082615   \n",
              "2  A cryptic message from Bond’s past sends him o...  107.376788   \n",
              "3  Following the death of District Attorney Harve...  112.312950   \n",
              "4  John Carter is a war-weary, former military ca...   43.926995   \n",
              "\n",
              "                                production_companies  \\\n",
              "0  [{\"name\": \"Ingenious Film Partners\", \"id\": 289...   \n",
              "1  [{\"name\": \"Walt Disney Pictures\", \"id\": 2}, {\"...   \n",
              "2  [{\"name\": \"Columbia Pictures\", \"id\": 5}, {\"nam...   \n",
              "3  [{\"name\": \"Legendary Pictures\", \"id\": 923}, {\"...   \n",
              "4        [{\"name\": \"Walt Disney Pictures\", \"id\": 2}]   \n",
              "\n",
              "                                production_countries release_date     revenue  \\\n",
              "0  [{\"iso_3166_1\": \"US\", \"name\": \"United States o...   2009-12-10  2787965087   \n",
              "1  [{\"iso_3166_1\": \"US\", \"name\": \"United States o...   2007-05-19   961000000   \n",
              "2  [{\"iso_3166_1\": \"GB\", \"name\": \"United Kingdom\"...   2015-10-26   880674609   \n",
              "3  [{\"iso_3166_1\": \"US\", \"name\": \"United States o...   2012-07-16  1084939099   \n",
              "4  [{\"iso_3166_1\": \"US\", \"name\": \"United States o...   2012-03-07   284139100   \n",
              "\n",
              "   runtime                                   spoken_languages    status  \\\n",
              "0    162.0  [{\"iso_639_1\": \"en\", \"name\": \"English\"}, {\"iso...  Released   \n",
              "1    169.0           [{\"iso_639_1\": \"en\", \"name\": \"English\"}]  Released   \n",
              "2    148.0  [{\"iso_639_1\": \"fr\", \"name\": \"Fran\\u00e7ais\"},...  Released   \n",
              "3    165.0           [{\"iso_639_1\": \"en\", \"name\": \"English\"}]  Released   \n",
              "4    132.0           [{\"iso_639_1\": \"en\", \"name\": \"English\"}]  Released   \n",
              "\n",
              "                                          tagline  \\\n",
              "0                     Enter the World of Pandora.   \n",
              "1  At the end of the world, the adventure begins.   \n",
              "2                           A Plan No One Escapes   \n",
              "3                                 The Legend Ends   \n",
              "4            Lost in our world, found in another.   \n",
              "\n",
              "                                      title  vote_average  vote_count  \n",
              "0                                    Avatar           7.2       11800  \n",
              "1  Pirates of the Caribbean: At World's End           6.9        4500  \n",
              "2                                   Spectre           6.3        4466  \n",
              "3                     The Dark Knight Rises           7.6        9106  \n",
              "4                               John Carter           6.1        2124  "
            ]
          },
          "execution_count": 23,
          "metadata": {},
          "output_type": "execute_result"
        }
      ],
      "source": [
        "movies.head()"
      ]
    },
    {
      "cell_type": "markdown",
      "metadata": {
        "id": "ukP1fLLxViGW"
      },
      "source": [
        "Lets make note of the key features in both datsets:\n",
        "\n",
        "1)genres\n",
        "\n",
        "2)cast\n",
        "\n",
        "3)popularity\n",
        "\n",
        "2)average rating\n",
        "\n",
        "3)number of votes"
      ]
    },
    {
      "cell_type": "markdown",
      "metadata": {
        "id": "WSJXxRQ4XIOh"
      },
      "source": [
        "##Data-preprocessing"
      ]
    },
    {
      "cell_type": "markdown",
      "metadata": {
        "id": "AiwOj3lrXeU1"
      },
      "source": [
        "Lets make the things simple by discarding all other features and merging both the datasets"
      ]
    },
    {
      "cell_type": "markdown",
      "metadata": {
        "id": "zipKpst0cTKJ"
      },
      "source": [
        "###Merging the datsets"
      ]
    },
    {
      "cell_type": "code",
      "execution_count": 85,
      "metadata": {
        "colab": {
          "base_uri": "https://localhost:8080/"
        },
        "id": "ip6Hsc0zVfC0",
        "outputId": "276e55c5-f966-40d7-9d9b-54d3d70ea124"
      },
      "outputs": [
        {
          "name": "stdout",
          "output_type": "stream",
          "text": [
            "Index(['id', 'title', 'cast', 'crew'], dtype='object')\n"
          ]
        }
      ],
      "source": [
        "#rename movie-id to id so as to merge both on the id\n",
        "credits.rename(columns={\"movie_id\":\"id\"},inplace=True)\n",
        "print(credits.columns)"
      ]
    },
    {
      "cell_type": "code",
      "execution_count": 86,
      "metadata": {
        "colab": {
          "base_uri": "https://localhost:8080/"
        },
        "id": "7P5sPGCJYIey",
        "outputId": "005128df-70cb-451f-80d3-15299dac9fbb"
      },
      "outputs": [
        {
          "name": "stdout",
          "output_type": "stream",
          "text": [
            "(4803, 23)\n"
          ]
        },
        {
          "data": {
            "text/plain": [
              "Index(['budget', 'genres', 'homepage', 'id', 'keywords', 'original_language',\n",
              "       'original_title', 'overview', 'popularity', 'production_companies',\n",
              "       'production_countries', 'release_date', 'revenue', 'runtime',\n",
              "       'spoken_languages', 'status', 'tagline', 'title_x', 'vote_average',\n",
              "       'vote_count', 'title_y', 'cast', 'crew'],\n",
              "      dtype='object')"
            ]
          },
          "execution_count": 26,
          "metadata": {},
          "output_type": "execute_result"
        }
      ],
      "source": [
        "movies= movies.merge(credits,on='id')\n",
        "print(movies.shape)\n",
        "movies.columns"
      ]
    },
    {
      "cell_type": "markdown",
      "metadata": {
        "id": "KsDOJj_nZVvh"
      },
      "source": [
        "Having merged both datasets let's discard the less useful features"
      ]
    },
    {
      "cell_type": "code",
      "execution_count": 87,
      "metadata": {
        "colab": {
          "base_uri": "https://localhost:8080/"
        },
        "id": "4LifoE_AZLmQ",
        "outputId": "4d209bf3-bb87-4781-ca76-e54478eedbe9"
      },
      "outputs": [
        {
          "data": {
            "text/plain": [
              "(4803, 7)"
            ]
          },
          "execution_count": 27,
          "metadata": {},
          "output_type": "execute_result"
        }
      ],
      "source": [
        "relevant_cols=[\"id\",\"title_x\",\"genres\",\"popularity\",\"vote_average\",\"vote_count\",\"cast\"]\n",
        "movies=movies.loc[:,relevant_cols]\n",
        "movies.shape"
      ]
    },
    {
      "cell_type": "code",
      "execution_count": 88,
      "metadata": {
        "colab": {
          "base_uri": "https://localhost:8080/"
        },
        "id": "0jAyn3PRaqGf",
        "outputId": "02168a8f-582d-42b9-b594-9c4f541125d8"
      },
      "outputs": [
        {
          "data": {
            "text/plain": [
              "Index(['id', 'title', 'genres', 'popularity', 'rating', 'vote_count', 'cast'], dtype='object')"
            ]
          },
          "execution_count": 28,
          "metadata": {},
          "output_type": "execute_result"
        }
      ],
      "source": [
        "movies.rename(columns={\"title_x\":\"title\",\"vote_average\":\"rating\"},inplace=True)\n",
        "movies.columns"
      ]
    },
    {
      "cell_type": "markdown",
      "metadata": {
        "id": "me_VCjcTbz3J"
      },
      "source": [
        "###The data in genres and cast columns are strings,let's attempt to understand them and process these data into lists of genres and actors respectively"
      ]
    },
    {
      "cell_type": "code",
      "execution_count": 89,
      "metadata": {
        "colab": {
          "base_uri": "https://localhost:8080/"
        },
        "id": "BoYVSKTlbKvs",
        "outputId": "2ae03c60-a9ac-4c11-add0-6e3f82f9e847"
      },
      "outputs": [
        {
          "name": "stdout",
          "output_type": "stream",
          "text": [
            "The Curious Case of Benjamin Button\n",
            "[{\"id\": 14, \"name\": \"Fantasy\"}, {\"id\": 18, \"name\": \"Drama\"}, {\"id\": 53, \"name\": \"Thriller\"}, {\"id\": 9648, \"name\": \"Mystery\"}, {\"id\": 10749, \"name\": \"Romance\"}] \n",
            " [{\"cast_id\": 4, \"character\": \"Daisy\", \"credit_id\": \"52fe43e2c3a36847f807632b\", \"gender\": 1, \"id\": 112, \"name\": \"Cate Blanchett\", \"order\": 0}, {\"cast_id\": 5, \"character\": \"Benjamin Button\", \"credit_id\": \"52fe43e2c3a36847f807632f\", \"gender\": 2, \"id\": 287, \"name\": \"Brad Pitt\", \"order\": 1}, {\"cast_id\": 6, \"character\": \"Elizabeth Abbott\", \"credit_id\": \"52fe43e2c3a36847f8076333\", \"gender\": 1, \"id\": 3063, \"name\": \"Tilda Swinton\", \"order\": 2}, {\"cast_id\": 10, \"character\": \"Caroline\", \"credit_id\": \"52fe43e2c3a36847f8076343\", \"gender\": 1, \"id\": 15887, \"name\": \"Julia Ormond\", \"order\": 3}, {\"cast_id\": 7, \"character\": \"Daisy Age 7\", \"credit_id\": \"52fe43e2c3a36847f8076337\", \"gender\": 1, \"id\": 18050, \"name\": \"Elle Fanning\", \"order\": 4}, {\"cast_id\": 183, \"character\": \"Daisy Age 10\", \"credit_id\": \"56ec883a9251414dba0022af\", \"gender\": 1, \"id\": 219666, \"name\": \"Madisen Beaty\", \"order\": 5}, {\"cast_id\": 8, \"character\": \"Thomas Button\", \"credit_id\": \"52fe43e2c3a36847f807633b\", \"gender\": 2, \"id\": 973, \"name\": \"Jason Flemyng\", \"order\": 6}, {\"cast_id\": 9, \"character\": \"Monsieur Gateau\", \"credit_id\": \"52fe43e2c3a36847f807633f\", \"gender\": 2, \"id\": 13550, \"name\": \"Elias Koteas\", \"order\": 7}, {\"cast_id\": 11, \"character\": \"Queenie\", \"credit_id\": \"52fe43e2c3a36847f8076347\", \"gender\": 1, \"id\": 40036, \"name\": \"Taraji P. Henson\", \"order\": 8}, {\"cast_id\": 13, \"character\": \"Pleasant Curtis\", \"credit_id\": \"52fe43e2c3a36847f807634f\", \"gender\": 2, \"id\": 40039, \"name\": \"Josh Stewart\", \"order\": 9}, {\"cast_id\": 15, \"character\": \"Dorothy Baker\", \"credit_id\": \"52fe43e2c3a36847f8076359\", \"gender\": 1, \"id\": 58953, \"name\": \"Faune A. Chambers\", \"order\": 10}, {\"cast_id\": 16, \"character\": \"Blanche Devereux\", \"credit_id\": \"52fe43e2c3a36847f807635d\", \"gender\": 1, \"id\": 230995, \"name\": \"Donna DuPlantier\", \"order\": 11}, {\"cast_id\": 17, \"character\": \"Martin Gateau\", \"credit_id\": \"52fe43e2c3a36847f8076361\", \"gender\": 2, \"id\": 1074186, \"name\": \"Jacob Tolano\", \"order\": 12}, {\"cast_id\": 19, \"character\": \"Teddy Roosevelt\", \"credit_id\": \"52fe43e2c3a36847f8076369\", \"gender\": 0, \"id\": 231274, \"name\": \"Ed Metzger\", \"order\": 13}, {\"cast_id\": 20, \"character\": \"Priest Giving Last Rites\", \"credit_id\": \"52fe43e2c3a36847f807636d\", \"gender\": 0, \"id\": 1074187, \"name\": \"Danny Vinson\", \"order\": 14}, {\"cast_id\": 21, \"character\": \"Doctor at Benjamin's Birth\", \"credit_id\": \"52fe43e2c3a36847f8076371\", \"gender\": 2, \"id\": 60875, \"name\": \"David Jensen\", \"order\": 15}, {\"cast_id\": 22, \"character\": \"Caroline Button\", \"credit_id\": \"52fe43e2c3a36847f8076375\", \"gender\": 1, \"id\": 203867, \"name\": \"Joeanna Sayler\", \"order\": 16}, {\"cast_id\": 180, \"character\": \"Robert Williams\", \"credit_id\": \"56ec756b9251415e620035ae\", \"gender\": 2, \"id\": 52483, \"name\": \"Rus Blackwell\", \"order\": 17}, {\"cast_id\": 23, \"character\": \"Tizzy\", \"credit_id\": \"52fe43e2c3a36847f8076379\", \"gender\": 2, \"id\": 932967, \"name\": \"Mahershala Ali\", \"order\": 18}, {\"cast_id\": 191, \"character\": \"David\", \"credit_id\": \"573e41e99251413fdc000768\", \"gender\": 2, \"id\": 928295, \"name\": \"Adrian Armas\", \"order\": 19}, {\"cast_id\": 24, \"character\": \"Grandma Fuller\", \"credit_id\": \"52fe43e2c3a36847f807637d\", \"gender\": 1, \"id\": 17184, \"name\": \"Phyllis Somerville\", \"order\": 20}, {\"cast_id\": 177, \"character\": \"Preacher\", \"credit_id\": \"56ec6d279251415e59003162\", \"gender\": 2, \"id\": 101847, \"name\": \"Lance E. Nichols\", \"order\": 21}, {\"cast_id\": 194, \"character\": \"Walter Abbott\", \"credit_id\": \"58cec8f7c3a368508c025b00\", \"gender\": 2, \"id\": 1235414, \"name\": \"David Ross Paterson\", \"order\": 22}, {\"cast_id\": 181, \"character\": \"Mrs. Hollister\", \"credit_id\": \"56ec7f67c3a3682253003c55\", \"gender\": 1, \"id\": 1219313, \"name\": \"Fiona Hale\", \"order\": 23}, {\"cast_id\": 184, \"character\": \"Mrs. Horton\", \"credit_id\": \"56ec89f492514143fc003897\", \"gender\": 1, \"id\": 60388, \"name\": \"Marion Zinser\", \"order\": 24}, {\"cast_id\": 189, \"character\": \"Mrs. Maple\", \"credit_id\": \"56ec8eafc3a368224e003c66\", \"gender\": 1, \"id\": 44063, \"name\": \"Edith Ivey\", \"order\": 25}, {\"cast_id\": 182, \"character\": \"Dr. Rose\", \"credit_id\": \"56ec8759c3a36822650037c5\", \"gender\": 2, \"id\": 75325, \"name\": \"Patrick Thomas O'Brien\", \"order\": 26}, {\"cast_id\": 187, \"character\": \"Mr. Daws\", \"credit_id\": \"56ec8e86c3a3682253003ebe\", \"gender\": 2, \"id\": 86812, \"name\": \"Ted Manson\", \"order\": 27}, {\"cast_id\": 188, \"character\": \"Young Mr. Daws\", \"credit_id\": \"56ec8e9c9251414408003808\", \"gender\": 2, \"id\": 60536, \"name\": \"Clay Cullen\", \"order\": 28}, {\"cast_id\": 185, \"character\": \"Benjamin 1928-31\", \"credit_id\": \"56ec8af892514144010038f1\", \"gender\": 2, \"id\": 1056117, \"name\": \"Peter Donald Badalamenti II\", \"order\": 29}, {\"cast_id\": 186, \"character\": \"Sybil Wagner\", \"credit_id\": \"56ec8dcbc3a3682251003fac\", \"gender\": 1, \"id\": 1592644, \"name\": \"Paula Gray\", \"order\": 30}, {\"cast_id\": 193, \"character\": \"Captain Mike\", \"credit_id\": \"57e4f699c3a3684225000727\", \"gender\": 2, \"id\": 15440, \"name\": \"Jared Harris\", \"order\": 31}, {\"cast_id\": 18, \"character\": \"Man at Train Station\", \"credit_id\": \"52fe43e2c3a36847f8076365\", \"gender\": 2, \"id\": 60884, \"name\": \"Earl Maddox\", \"order\": 32}, {\"cast_id\": 12, \"character\": \"Ballerina Who Ties Up Shoelace (uncredited)\", \"credit_id\": \"52fe43e2c3a36847f807634b\", \"gender\": 1, \"id\": 40038, \"name\": \"Bianca Chiminello\", \"order\": 33}, {\"cast_id\": 178, \"character\": \"Ballet Dancer (uncredited)\", \"credit_id\": \"56ec731cc3a36822650034be\", \"gender\": 1, \"id\": 1224131, \"name\": \"Emma Degerstedt\", \"order\": 34}, {\"cast_id\": 179, \"character\": \"Woman Kissing Benjamin (uncredited)\", \"credit_id\": \"56ec73a6c3a3682256003905\", \"gender\": 1, \"id\": 1169284, \"name\": \"Megan Brown\", \"order\": 35}, {\"cast_id\": 192, \"character\": \"The Grumpy Sailor (uncredited)\", \"credit_id\": \"57591733925141754800087e\", \"gender\": 2, \"id\": 1503756, \"name\": \"Clay Chamberlin\", \"order\": 36}]\n"
          ]
        }
      ],
      "source": [
        "#Lets pick row 100 and analyse its genres & cast columns\n",
        "row_id=100\n",
        "print(movies.loc[row_id,\"title\"])\n",
        "print(movies.loc[row_id,\"genres\"],'\\n',movies.loc[row_id,\"cast\"])"
      ]
    },
    {
      "cell_type": "code",
      "execution_count": 90,
      "metadata": {
        "id": "plzaFr3_nc5y"
      },
      "outputs": [],
      "source": [
        "#The genre and cast are string type first lets make functions to convert them to dictionaries\n",
        "def process_genre(s):\n",
        "  id_str=s.split(\", \")[0]\n",
        "  genre_str=s.split(\", \")[-1]\n",
        "  genre={}\n",
        "  genre[\"id\"]=int(id_str.split(':')[-1])\n",
        "  genre[\"name\"]=(genre_str.split(':')[-1])[2:-1]\n",
        "  return genre\n",
        "\n",
        "def get_genres(s):\n",
        "  if(len(s)<5):\n",
        "    return {}\n",
        "  genres=s.split(\"}, {\")\n",
        "  genres[0]=genres[0][2:]\n",
        "  genres[-1]=genres[-1][:-2]\n",
        "  genre_list=[]\n",
        "  for genre in genres:\n",
        "    genre_list.append(process_genre(genre))\n",
        "  return genre_list\n",
        "\n",
        "def process_actor(s):\n",
        "  id_str=s.split(\", \")[0]\n",
        "  actor_str=s.split(\", \")[-2]\n",
        "  actor={}\n",
        "  actor[\"id\"]=int(id_str.split(':')[-1])\n",
        "  actor[\"name\"]=(actor_str.split(':')[-1])[2:-1]\n",
        "  return actor\n",
        "\n",
        "def get_cast(s):\n",
        "  if(len(s)<5):\n",
        "    return {}\n",
        "  cast=s.split(\"}, {\")\n",
        "  cast[0]=cast[0][2:]\n",
        "  cast[-1]=cast[-1][:-2]\n",
        "  cast_list=[]\n",
        "  for actor in cast:\n",
        "    cast_list.append(process_actor(actor))\n",
        "  return cast_list"
      ]
    },
    {
      "cell_type": "code",
      "execution_count": 91,
      "metadata": {
        "colab": {
          "base_uri": "https://localhost:8080/"
        },
        "id": "WZhXqtNuqJhG",
        "outputId": "1c4cc503-0dfc-4a5b-98b8-3c7f1474a9de"
      },
      "outputs": [
        {
          "name": "stdout",
          "output_type": "stream",
          "text": [
            "Changeling\n",
            "GENRES\n",
            "1 : {'id': 80, 'name': 'Crime'}\n",
            "2 : {'id': 18, 'name': 'Drama'}\n",
            "3 : {'id': 9648, 'name': 'Mystery'}\n",
            "CAST\n",
            "1 : {'id': 6, 'name': 'Angelina Jolie'}\n",
            "2 : {'id': 7, 'name': 'Jeffrey Donovan'}\n",
            "3 : {'id': 8, 'name': 'John Malkovich'}\n",
            "4 : {'id': 9, 'name': 'Geoff Pierson'}\n",
            "5 : {'id': 10, 'name': 'Amy Ryan'}\n",
            "6 : {'id': 11, 'name': 'Gattlin Griffith'}\n",
            "7 : {'id': 12, 'name': 'Michelle Gunn'}\n",
            "8 : {'id': 18, 'name': 'Frank Wood'}\n",
            "9 : {'id': 21, 'name': 'Colm Feore'}\n",
            "10 : {'id': 24, 'name': 'Michael Kelly'}\n",
            "11 : {'id': 25, 'name': \"Denis O'Hare\"}\n",
            "12 : {'id': 35, 'name': 'Jeffrey Hutchinson'}\n",
            "13 : {'id': 37, 'name': 'Devon Conti'}\n",
            "14 : {'id': 38, 'name': 'Peter Breitmayer'}\n",
            "15 : {'id': 39, 'name': 'Antonia Bennett'}\n",
            "16 : {'id': 40, 'name': 'Erica Grant'}\n",
            "17 : {'id': 41, 'name': 'Jan Devereaux'}\n",
            "18 : {'id': 42, 'name': 'Kerri Randles'}\n",
            "19 : {'id': 43, 'name': 'Morgan Eastwood'}\n",
            "20 : {'id': 44, 'name': 'Ric Sarabia'}\n",
            "21 : {'id': 45, 'name': 'Debra Christofferson'}\n",
            "22 : {'id': 46, 'name': 'Russell Edge'}\n",
            "23 : {'id': 47, 'name': 'Mary Stein'}\n",
            "24 : {'id': 48, 'name': 'Gregg Binkley'}\n",
            "25 : {'id': 49, 'name': 'E.J. Callahan'}\n",
            "26 : {'id': 50, 'name': 'Reed Birney'}\n",
            "27 : {'id': 51, 'name': 'Colby French'}\n",
            "28 : {'id': 52, 'name': 'Kelly Lynn Warren'}\n",
            "29 : {'id': 53, 'name': 'Richard King'}\n",
            "30 : {'id': 54, 'name': 'William Charlton'}\n",
            "31 : {'id': 55, 'name': 'Cooper Thornton'}\n",
            "32 : {'id': 56, 'name': 'J.P. Bumstead'}\n",
            "33 : {'id': 57, 'name': 'Peter Gerety'}\n",
            "34 : {'id': 58, 'name': 'John Harrington Bland'}\n",
            "35 : {'id': 59, 'name': 'Pamela Dunlap'}\n",
            "36 : {'id': 60, 'name': 'Roger Hewlett'}\n",
            "37 : {'id': 61, 'name': 'Jim Cantafio'}\n",
            "38 : {'id': 62, 'name': 'Wendy Worthington'}\n",
            "39 : {'id': 63, 'name': 'Riki Lindhome'}\n",
            "40 : {'id': 64, 'name': 'Dale Dickey'}\n",
            "41 : {'id': 65, 'name': 'Jason Butler Harner'}\n",
            "42 : {'id': 66, 'name': 'Eddie Alderson'}\n",
            "43 : {'id': 67, 'name': 'Michael McCafferty'}\n",
            "44 : {'id': 68, 'name': 'David Goldman'}\n",
            "45 : {'id': 69, 'name': 'Anthony De Marco'}\n",
            "46 : {'id': 70, 'name': 'Kevin Glikmann'}\n",
            "47 : {'id': 71, 'name': 'Hope Shapiro'}\n",
            "48 : {'id': 72, 'name': 'Caleb Campbell'}\n",
            "49 : {'id': 73, 'name': 'Zach Mills'}\n",
            "50 : {'id': 74, 'name': 'Scott Leva'}\n",
            "51 : {'id': 76, 'name': 'Clint Ward'}\n",
            "52 : {'id': 77, 'name': 'Michael Dempsey'}\n",
            "53 : {'id': 78, 'name': 'Phil Van Tee'}\n",
            "54 : {'id': 79, 'name': 'Jim Nieb'}\n",
            "55 : {'id': 116, 'name': 'Pete Rockwell'}\n",
            "56 : {'id': 80, 'name': 'Lily Knight'}\n",
            "57 : {'id': 81, 'name': 'Ryan Cutrona'}\n",
            "58 : {'id': 82, 'name': 'Devon Gearhart'}\n",
            "59 : {'id': 83, 'name': 'Andre Alexsen'}\n",
            "60 : {'id': 97, 'name': 'William Brent'}\n",
            "61 : {'id': 98, 'name': 'Jason Ciok'}\n",
            "62 : {'id': 99, 'name': 'Wrong'}\n",
            "63 : {'id': 100, 'name': 'Dominick Dunne'}\n",
            "64 : {'id': 101, 'name': 'Leslie Gunning'}\n",
            "65 : {'id': 102, 'name': 'Patrizia Milano'}\n",
            "66 : {'id': 103, 'name': 'Kerry Hennessy'}\n",
            "67 : {'id': 104, 'name': 'Bruce Holman'}\n",
            "68 : {'id': 105, 'name': 'Christopher Karl Johnson'}\n",
            "69 : {'id': 106, 'name': 'Jen Lilley'}\n",
            "70 : {'id': 107, 'name': 'Darin Mangan'}\n",
            "71 : {'id': 108, 'name': 'Michael Saglimbeni'}\n",
            "72 : {'id': 109, 'name': 'John H. Tobin'}\n",
            "73 : {'id': 110, 'name': 'George F. Watson'}\n",
            "74 : {'id': 111, 'name': 'JW Wiseman'}\n"
          ]
        }
      ],
      "source": [
        "#Lets test these functions\n",
        "import random\n",
        "row_id=int(random.random()*movies.shape[0]//1)      #choose a random movie\n",
        "print(movies.loc[row_id,\"title\"])\n",
        "Genres=get_genres(movies.loc[row_id,\"genres\"])\n",
        "print(\"GENRES\")\n",
        "for idx,genre in enumerate(Genres):\n",
        "  print((idx+1),':',genre)\n",
        "Cast=get_cast(movies.loc[row_id,\"cast\"])\n",
        "print(\"CAST\")\n",
        "for idx,actor in enumerate(Cast):\n",
        "  print((idx+1),':',actor)"
      ]
    },
    {
      "cell_type": "markdown",
      "metadata": {
        "id": "xuwOBaR6KyUf"
      },
      "source": [
        "Seems to be working fine"
      ]
    },
    {
      "cell_type": "markdown",
      "metadata": {
        "id": "b8c6Fu2BSC0G"
      },
      "source": [
        "##Data visualization"
      ]
    },
    {
      "cell_type": "code",
      "execution_count": 92,
      "metadata": {
        "colab": {
          "base_uri": "https://localhost:8080/",
          "height": 407
        },
        "id": "HoxgEJuGSG2q",
        "outputId": "323ee6d1-c1aa-4481-fcca-2feb4bd6beac"
      },
      "outputs": [
        {
          "data": {
            "text/plain": [
              "Text(0, 0.5, 'Vote count')"
            ]
          },
          "execution_count": 32,
          "metadata": {},
          "output_type": "execute_result"
        },
        {
          "data": {
            "image/png": "iVBORw0KGgoAAAANSUhEUgAAAf0AAAF1CAYAAADiLzM9AAAABHNCSVQICAgIfAhkiAAAAAlwSFlzAAALEgAACxIB0t1+/AAAADh0RVh0U29mdHdhcmUAbWF0cGxvdGxpYiB2ZXJzaW9uMy4yLjIsIGh0dHA6Ly9tYXRwbG90bGliLm9yZy+WH4yJAAAgAElEQVR4nO3de7hddX3n8fcHwk1BCRIpQjCo8YJ9poARse3YDCggFaF9nBZqNV5m0mmxxdZWwc5Uq6XW1ku1VTpUUsEqSPFCyuDQiPJYqiBBEQkXiVwmiQEiyE0scvnOH/t3dHs8lx269zk5Z71fz7OfvdZv/dZav99ZJ+ez11q/vZKqQpIkzX/bzXYDJEnSzDD0JUnqCENfkqSOMPQlSeoIQ1+SpI4w9CVJ6ghDXxqBJOuSLJ/tdsymJL+SZEOS+5McNNvtkWToS1styS1JXjyu7DVJLh2br6rnVtUl02xnSZJKsmBETZ1t7wHeUFW7VtXXh7XRJB9N8mfD2t5MmItt1vxk6Evz1DbwYeKpwLpZboOkPoa+NAL9VwOSHJJkbZJ7k9ye5H2t2pfa+93tEvgLk2yX5H8muTXJHUnOSvLEvu2+ui27M8n/Greftyc5L8k/JrkXeE3b91eS3J1kc5K/TbJj3/Yqye8kuTHJfUnemeTpSb7c2ntuf/1xfZywrUl2SnI/sD3wjSTfnmDd05K8Z1zZ+Un+oE0/J8klrd3rkry8la8EXgm8uf3M/rmVPyXJp5JsSXJzkt+b4tjskuS9rd33JLk0yS5t2cvb/u5u+3/OuJ/VM/rmf3T2nmR5ko1J3tR+FpuTvHaqNkuzoqp8+fK1FS/gFuDF48peA1w6UR3gK8Cr2vSuwKFteglQwIK+9V4HrAee1up+GvhYW3YAcD/wi8CO9C6fP9S3n7e3+ePofaDfBXgecCiwoO3vOuCNffsr4HzgCcBzgQeBi9v+nwhcC6yY5OcwaVv7tv2MSdZ9EbABSJtfCPwAeAqwQ9vuW1s/DwPuA57V6n4U+LO+bW0HXAn8Sav/NOAm4MhJ9v0h4BJgH3ofTH4e2Al4JvB94CWtDW9u7dhxov70twNYDjwMvKOtezTwALBwojb78jVbL8/0pcfms+1s8O4kdwMfnqLuQ8AzkuxZVfdX1WVT1H0l8L6quqmq7gdOAY5vl+pfAfxzVV1aVT+kF3Lj//OMr1TVZ6vq0ar6QVVdWVWXVdXDVXUL8L+BXxq3zl9W1b1VtQ64BviXtv97gM8Bkw3Cm6qt0/nX1vb/3OZf0dr+HXofUnYF/qKqflhVXwAuAE6YZFvPBxZV1Tta/ZuAvweOH18xyXb0PqycVFWbquqRqvpyVT0I/Drwf6pqTVU9RO9D1S70PhQM4iHgHVX1UFVdSO8D2rMGXFeaEYa+9NgcV1W7j72A35mi7uvpnUVen+SKJC+bou5TgFv75m+ld5a+V1u2YWxBVT0A3Dlu/Q39M0memeSCJLe1S/5/Duw5bp3b+6Z/MMH8ro+hrVOqqgLO4cdB/hvAx/u2u6GqHh237X0m2dxTgaeM+xD21knasSewM/BTtxzG96ftf8MU+x3vzqp6uG/+ASb/2UmzwtCXRqyqbqyqE4AnA+8GzkvyeH76LB3gO/RCbMx+9C4b3w5sBvYdW9DuQz9p/O7GzZ8GXA8sraon0AvDPPbeDNzWQZwNvCLJU4EXAJ/q2+7idlbev+1NbXp8HzcAN/d/CKuq3arq6An2+V3g34GnT9efJAEW9+33AeBxffV/ZroO9vG/M9U2wdCXRizJbyZZ1M4c727FjwJb2vvT+qqfDfx+kv2T7ErvzPyT7QzyPOCYJD/fBte9nekDfDfgXuD+JM8GfntY/ZqmrdOq3tf4vgt8BLioqsZ+NpfTC9g3J9khvecdHEPvygD0PlT0/8y+CtyX5C1tkN72SX42yfMn2OejwCrgfW3w3/bpDaDcCTgX+OUkhyfZAXgTvTEOX26rXwX8RlvnKH76NslUxrdZmhWGvjR6RwHr2oj2DwDHt/vtDwCnAv/WLksfSi+QPkZvZP/N9M5Kfxeg3XP/XXrht5nePeM76AXTZP6Q3qXz++jd5/7kEPs1aVu3wieAF7d3ANp4hWOAl9L7UPBh4NVVdX2rcgZwQPuZfbaqHgFeBhzY2jH2QeJH33oY5w+BbwJXAHfRu/qyXVXdAPwm8DdtG8cAx7T2AJzUyu6mN57hs1vRz59o81asJw3V2MhZSXNMO7u+m96l+5tnuz2Stn2e6UtzSJJjkjyujQl4D70z1ltmt1WS5gpDX5pbjqU34Ow7wFJ6twq8XCdpIF7elySpIzzTlySpIwx9SZI6Yrb/F66R2HPPPWvJkiWz3QxJkmbMlVde+d2qWjRVnXkZ+kuWLGHt2rWz3QxJkmZMklunq+PlfUmSOsLQlySpIwx9SZI6wtCXJKkjDH1JkjrC0JckqSMMfUmSOsLQlySpIwx9SZI6wtCXJKkjDH1JkjrC0JckqSNGFvpJdk7y1STfSLIuyZ+28o8muTnJVe11YCtPkg8mWZ/k6iQH921rRZIb22vFqNosSdJ8Nsr/Ze9B4LCquj/JDsClST7Xlv1RVZ03rv5LgaXt9QLgNOAFSfYA3gYsAwq4MsnqqvreCNv+U3LJJUPdXi1fPtTtSZI0nZGd6VfP/W12h/aqKVY5FjirrXcZsHuSvYEjgTVVdVcL+jXAUaNqtyRJ89VI7+kn2T7JVcAd9IL78rbo1HYJ//1Jdmpl+wAb+lbf2MomK5ckSVthpKFfVY9U1YHAvsAhSX4WOAV4NvB8YA/gLcPYV5KVSdYmWbtly5ZhbFKSpHllRkbvV9XdwBeBo6pqc7uE/yDwD8AhrdomYHHfavu2ssnKx+/j9KpaVlXLFi1aNIpuSJI0p41y9P6iJLu36V2AlwDXt/v0JAlwHHBNW2U18Oo2iv9Q4J6q2gxcBByRZGGShcARrUySJG2FUY7e3xs4M8n29D5cnFtVFyT5QpJFQICrgP/R6l8IHA2sBx4AXgtQVXcleSdwRav3jqq6a4TtliRpXhpZ6FfV1cBBE5QfNkn9Ak6cZNkqYNVQGyhJUsf4RD5JkjrC0JckqSMMfUmSOsLQlySpIwx9SZI6wtCXJKkjDH1JkjrC0JckqSMMfUmSOsLQlySpIwx9SZI6wtCXJKkjDH1JkjrC0JckqSMMfUmSOsLQlySpIwx9SZI6wtCXJKkjDH1JkjrC0JckqSMMfUmSOsLQlySpIwx9SZI6wtCXJKkjDH1JkjrC0JckqSMMfUmSOsLQlySpIwx9SZI6wtCXJKkjDH1JkjrC0JckqSMMfUmSOsLQlySpIwx9SZI6YmShn2TnJF9N8o0k65L8aSvfP8nlSdYn+WSSHVv5Tm1+fVu+pG9bp7TyG5IcOao2S5I0n43yTP9B4LCq+jngQOCoJIcC7wbeX1XPAL4HvL7Vfz3wvVb+/laPJAcAxwPPBY4CPpxk+xG2W5KkeWlkoV8997fZHdqrgMOA81r5mcBxbfrYNk9bfniStPJzqurBqroZWA8cMqp2S5I0X430nn6S7ZNcBdwBrAG+DdxdVQ+3KhuBfdr0PsAGgLb8HuBJ/eUTrCNJkgY00tCvqkeq6kBgX3pn588e1b6SrEyyNsnaLVu2jGo3kiTNWTMyer+q7ga+CLwQ2D3JgrZoX2BTm94ELAZoy58I3NlfPsE6/fs4vaqWVdWyRYsWjaQfkiTNZaMcvb8oye5tehfgJcB19ML/Fa3aCuD8Nr26zdOWf6GqqpUf30b37w8sBb46qnZLkjRfLZi+ymO2N3BmG2m/HXBuVV2Q5FrgnCR/BnwdOKPVPwP4WJL1wF30RuxTVeuSnAtcCzwMnFhVj4yw3ZIkzUsjC/2quho4aILym5hg9H1V/TvwXyfZ1qnAqcNuoyRJXeIT+SRJ6ghDX5KkjjD0JUnqCENfkqSOMPQlSeoIQ1+SpI4w9CVJ6ghDX5KkjjD0JUnqCENfkqSOMPQlSeoIQ1+SpI4w9CVJ6ghDX5KkjjD0JUnqCENfkqSOMPQlSeoIQ1+SpI4w9CVJ6ghDX5KkjjD0JUnqCENfkqSOMPQlSeoIQ1+SpI4w9CVJ6ghDX5KkjjD0JUnqCENfkqSOMPQlSeoIQ1+SpI4w9CVJ6ghDX5KkjjD0JUnqCENfkqSOMPQlSeqIkYV+ksVJvpjk2iTrkpzUyt+eZFOSq9rr6L51TkmyPskNSY7sKz+qla1PcvKo2ixJ0ny2YITbfhh4U1V9LcluwJVJ1rRl76+q9/RXTnIAcDzwXOApwOeTPLMt/hDwEmAjcEWS1VV17QjbLknSvDOy0K+qzcDmNn1fkuuAfaZY5VjgnKp6ELg5yXrgkLZsfVXdBJDknFbX0JckaSvMyD39JEuAg4DLW9EbklydZFWSha1sH2BD32obW9lk5ZIkaSuMPPST7Ap8CnhjVd0LnAY8HTiQ3pWA9w5pPyuTrE2ydsuWLcPYpCRJ88pIQz/JDvQC/+NV9WmAqrq9qh6pqkeBv+fHl/A3AYv7Vt+3lU1W/hOq6vSqWlZVyxYtWjT8zkiSNMeNcvR+gDOA66rqfX3le/dV+xXgmja9Gjg+yU5J9geWAl8FrgCWJtk/yY70BvutHlW7JUmar0Y5ev8XgFcB30xyVSt7K3BCkgOBAm4BfgugqtYlOZfeAL2HgROr6hGAJG8ALgK2B1ZV1boRtluSpHlplKP3LwUywaILp1jnVODUCcovnGo9SZI0PZ/IJ0lSRxj6kiR1hKEvSVJHGPqSJHWEoS9JUkcY+pIkdYShL0lSRxj6kiR1hKEvSVJHGPqSJHWEoS9JUkcY+pIkdYShL0lSRxj6kiR1hKEvSVJHGPqSJHWEoS9JUkcY+pIkdYShL0lSRxj6kiR1hKEvSVJHGPqSJHWEoS9JUkcY+pIkdYShL0lSRxj6kiR1xLShn2T/QcokSdK2bZAz/U9NUHbesBsiSZJGa8FkC5I8G3gu8MQkv9q36AnAzqNumCRJGq5JQx94FvAyYHfgmL7y+4D/PspGSZKk4Zs09KvqfOD8JC+sqq/MYJskSdIITHWmP2Z9krcCS/rrV9XrRtUoSZI0fIOE/vnAvwKfBx4ZbXMkSdKoDBL6j6uqt4y8JZIkaaQG+creBUmOHnlLJEnSSA0S+ifRC/4fJLk3yX1J7p1upSSLk3wxybVJ1iU5qZXvkWRNkhvb+8JWniQfTLI+ydVJDu7b1opW/8YkKx5rZyVJ6rJpQ7+qdquq7apql6p6Qpt/wgDbfhh4U1UdABwKnJjkAOBk4OKqWgpc3OYBXgosba+VwGnQ+5AAvA14AXAI8LaxDwqSJGlw097TT/Kiicqr6ktTrVdVm4HNbfq+JNcB+wDHAstbtTOBS4C3tPKzqqqAy5LsnmTvVndNVd3V2rMGOAo4e7q2S5KkHxtkIN8f9U3vTO9s+0rgsEF3kmQJcBBwObBX+0AAcBuwV5veB9jQt9rGVjZZuSRJ2grThn5V9T+NjySLgb8edAdJdqX3/P43VtW9Sfq3XUlq8OZOuZ+V9G4LsN9++w1jk5IkzSuP5b/W3Qg8Z5CKSXagF/gfr6pPt+Lb22V72vsdrXwTsLhv9X1b2WTlP6GqTq+qZVW1bNGiRVvRHUmSumGQe/p/A4ydjW8HHAh8bYD1ApwBXFdV7+tbtBpYAfxFez+/r/wNSc6hN2jvnqranOQi4M/7Bu8dAZwy3f4lSdJPGuSe/tq+6YeBs6vq3wZY7xeAVwHfTHJVK3srvbA/N8nrgVuBX2vLLgSOBtYDDwCvBaiqu5K8E7ii1XvH2KA+SZI0uEHu6Z+ZZEfgma3ohkE2XFWXAplk8eET1C/gxEm2tQpYNch+JUnSxAa5vL+c3lfrbqEX4ouTrJjuK3uSJGnbMsjl/fcCR1TVDQBJnknvO/LPG2XDJEnScA0yen+HscAHqKpvATuMrkmSJGkUBhrIl+QjwD+2+Vfyk4P7JEnSHDBI6P82vQF2v9fm/xX48MhaJEmSRmKQ0F8AfGDsu/ZJtgd2GmmrJEnS0A1yT/9iYJe++V2Az4+mOZIkaVQGCf2dq+r+sZk2/bjRNUmSJI3CIKH//SQHj80keR7wg9E1SZIkjcIg9/TfCPxTku/QezjPzwC/PtJWSZKkoRvkMbxXJHk28KxWdENVPTTaZkmSpGEb5EyfFvLXjLgtkiRphAa5py9JkuYBQ1+SpI6YNvTT85tJ/qTN75fkkNE3TZIkDdMgZ/ofBl4InNDm7wM+NLIWSZKkkRhkIN8LqurgJF8HqKrvJdlxxO2SJElDNsiZ/kPtefsFkGQR8OhIWyVJkoZukND/IPAZ4MlJTgUuBd410lZJkqShG+ThPB9PciVwOL0n8h1XVdeNvGWSJGmopg39JB+rqlcB109QJkmS5ohBLu8/t3+m3d9/3miaI0mSRmXS0E9ySpL7gP+U5N4k97X5O4DzZ6yFkiRpKCYN/ap6V1XtBvxVVT2hqnZrrydV1Skz2EZJkjQEgwzkOyXJy4EXtaJLquqC0TZLkiQN2yCP4X0XcBJwbXudlOTPR90wSZI0XIM8ke+XgQOr6lGAJGcCXwfeOsqGSZKk4Rr0f9nbvW/6iaNoiCRJGq1BzvTfBXw9yRfpPZznRcDJI22VJEkauklDP8mHgE9U1dlJLgGe3xa9papum4nGSZKk4ZnqTP9bwHuS7A2cC5xdVV+fmWZJkqRhm+p7+h+oqhcCvwTcCaxKcn2StyV55oy1UJIkDcW0A/mq6taqendVHQScABwH+B/uSJI0xwzyPf0FSY5J8nHgc8ANwK+OvGWSJGmophrI9xJ6Z/ZHA18FzgFWVtX3Z6htkiRpiKY60z8F+DLwnKp6eVV9YmsCP8mqJHckuaav7O1JNiW5qr2O7lt2SpL1SW5IcmRf+VGtbH0SvyooSdJjNOmZflUd9h/c9keBvwXOGlf+/qp6T39BkgOA4+n9N75PAT7fN1jwQ8BLgI3AFUlWV9W1/8G2SZLUOYM8nOcxqaovJVkyYPVjgXOq6kHg5iTrgUPasvVVdRNAknNaXUNfkqStNOhjeIfpDUmubpf/F7ayfYANfXU2trLJyiVJ0laa6dA/DXg6cCCwGXjvsDacZGWStUnWbtmyZViblSRp3pjR0K+q26vqkfY/9v09P76EvwlY3Fd131Y2WflE2z69qpZV1bJFixYNv/GSJM1xMxr67ZG+Y34FGBvZvxo4PslOSfYHltL7muAVwNIk+yfZkd5gv9Uz2WZJkuaLkQ3kS3I2sBzYM8lG4G3A8iQHAgXcAvwWQFWtS3IuvQF6DwMnVtUjbTtvAC4CtgdWVdW6UbVZkqT5bJSj90+YoPiMKeqfCpw6QfmFwIVDbJokSZ00G6P3JUnSLDD0JUnqCENfkqSOMPQlSeoIQ1+SpI4w9CVJ6ghDX5KkjjD0JUnqCENfkqSOMPQlSeoIQ1+SpI4w9CVJ6ghDX5KkjjD0JUnqCENfkqSOMPQlSeoIQ1+SpI4w9CVJ6ghDX5KkjjD0JUnqCENfkqSOMPQlSeoIQ1+SpI4w9CVJ6ghDX5KkjjD0JUnqCENfkqSOMPQlSeoIQ1+SpI4w9CVJ6ghDX5KkjjD0JUnqCENfkqSOMPQlSeoIQ1+SpI4YWegnWZXkjiTX9JXtkWRNkhvb+8JWniQfTLI+ydVJDu5bZ0Wrf2OSFaNqryRJ890oz/Q/Chw1ruxk4OKqWgpc3OYBXgosba+VwGnQ+5AAvA14AXAI8LaxDwqSJGnrjCz0q+pLwF3jio8FzmzTZwLH9ZWfVT2XAbsn2Rs4ElhTVXdV1feANfz0BwlJkjSAmb6nv1dVbW7TtwF7tel9gA199Ta2ssnKJUnSVpq1gXxVVUANa3tJViZZm2Ttli1bhrVZSZLmjZkO/dvbZXva+x2tfBOwuK/evq1ssvKfUlWnV9Wyqlq2aNGioTdckqS5bqZDfzUwNgJ/BXB+X/mr2yj+Q4F72m2Ai4AjkixsA/iOaGWSJGkrLRjVhpOcDSwH9kyykd4o/L8Azk3yeuBW4Nda9QuBo4H1wAPAawGq6q4k7wSuaPXeUVXjBwdKkqQBjCz0q+qESRYdPkHdAk6cZDurgFVDbJokSZ3kE/kkSeoIQ1+SpI4w9CVJ6ghDX5KkjjD0JUnqCENfkqSOMPQlSeoIQ1+SpI4w9CVJ6ghDX5KkjjD0JUnqCENfkqSOMPQlSeoIQ1+SpI4w9CVJ6ghDX5KkjjD0JUnqCENfkqSOMPQlSeoIQ1+SpI4w9CVJ6ghDX5KkjjD0JUnqCENfkqSOMPQlSeoIQ1+SpI4w9CVJ6ghDX5KkjjD0JUnqCENfkqSOWDDbDeiqXHLJULdXy5cPdXuSpPnHM31JkjrC0JckqSMMfUmSOsLQlySpI2Yl9JPckuSbSa5KsraV7ZFkTZIb2/vCVp4kH0yyPsnVSQ6ejTZLkjTXzeaZ/n+pqgOralmbPxm4uKqWAhe3eYCXAkvbayVw2oy3VJKkeWBburx/LHBmmz4TOK6v/KzquQzYPcnes9FASZLmstkK/QL+JcmVSVa2sr2qanObvg3Yq03vA2zoW3djK5MkSVthth7O84tVtSnJk4E1Sa7vX1hVlaS2ZoPtw8NKgP322294LZUkaZ6YlTP9qtrU3u8APgMcAtw+dtm+vd/Rqm8CFvetvm8rG7/N06tqWVUtW7Ro0SibL0nSnDTjoZ/k8Ul2G5sGjgCuAVYDK1q1FcD5bXo18Oo2iv9Q4J6+2wCSJGlAs3F5fy/gM0nG9v+Jqvq/Sa4Azk3yeuBW4Nda/QuBo4H1wAPAa2e+yZIkzX0zHvpVdRPwcxOU3wkcPkF5ASfOQNMkSZrXtqWv7EmSpBEy9CVJ6ghDX5KkjjD0JUnqCENfkqSOMPQlSeoIQ1+SpI4w9CVJ6ghDX5KkjjD0JUnqCENfkqSOMPQlSeoIQ1+SpI4w9CVJ6ghDX5KkjjD0JUnqiAWz3QANRy65ZOjbrOXLh75NSdLs8UxfkqSOMPQlSeoIQ1+SpI4w9CVJ6ghDX5KkjjD0JUnqCENfkqSOMPQlSeoIQ1+SpI4w9CVJ6ggfw6tJDfvRvj7WV5Jml2f6kiR1hKEvSVJHGPqSJHWE9/Q1YxwjIEmzyzN9SZI6wtCXJKkjvLyvOWvYtwtGwVsQkrYlc+ZMP8lRSW5Isj7JybPdHkmS5po5EfpJtgc+BLwUOAA4IckBs9sqSZLmlrlyef8QYH1V3QSQ5BzgWODaWW2VNI25cAti2LylIW275kro7wNs6JvfCLxgltoiaQpd/KAzbH5w0qjMldCfVpKVwMo2e3+SG4a8iz2B7w55m9sq+zo/2dc5IltXfU73dSvZ16k9dboKcyX0NwGL++b3bWU/UlWnA6ePqgFJ1lbVslFtf1tiX+cn+zo/2df5aVR9nRMD+YArgKVJ9k+yI3A8sHqW2yRJ0pwyJ870q+rhJG8ALgK2B1ZV1bpZbpYkSXPKnAh9gKq6ELhwFpswslsH2yD7Oj/Z1/nJvs5PI+lrqmoU25UkSduYuXJPX5Ik/QcZ+tOYD4//TbI4yReTXJtkXZKTWvkeSdYkubG9L2zlSfLB1uerkxzct60Vrf6NSVbMVp+mk2T7JF9PckGb3z/J5a1Pn2wDQkmyU5tf35Yv6dvGKa38hiRHzk5PppZk9yTnJbk+yXVJXjhfj2uS32+/v9ckOTvJzvPluCZZleSOJNf0lQ3tOCZ5XpJvtnU+mGQrvxU4PJP09a/a7/DVST6TZPe+ZRMer8n+Nk/2OzEbJupr37I3Jakke7b5mTmuVeVrkhe9QYPfBp4G7Ah8Azhgttv1GPqxN3Bwm94N+Ba9xxn/JXByKz8ZeHebPhr4HL2vCx8KXN7K9wBuau8L2/TC2e7fJH3+A+ATwAVt/lzg+Db9d8Bvt+nfAf6uTR8PfLJNH9CO907A/u33YPvZ7tcE/TwT+G9tekdg9/l4XOk9oOtmYJe+4/ma+XJcgRcBBwPX9JUN7TgCX21109Z96TbW1yOABW363X19nfB4McXf5sl+J7aVvrbyxfQGpt8K7DmTx9Uz/an96PG/VfVDYOzxv3NKVW2uqq+16fuA6+j9ET2WXmjQ3o9r08cCZ1XPZcDuSfYGjgTWVNVdVfU9YA1w1Ax2ZSBJ9gV+GfhImw9wGHBeqzK+r2M/g/OAw1v9Y4FzqurBqroZWE/v92GbkeSJ9P6onAFQVT+sqruZp8eV3sDjXZIsAB4HbGaeHNeq+hJw17jioRzHtuwJVXVZ9ZLirL5tzbiJ+lpV/1JVD7fZy+g9iwUmP14T/m2e5t/6jJvkuAK8H3gz0D+obkaOq6E/tYke/7vPLLVlKNplzoOAy4G9qmpzW3QbsFebnqzfc+Xn8df0/kE92uafBNzd90elv90/6lNbfk+rPxf6uj+wBfiH9G5lfCTJ45mHx7WqNgHvAf4fvbC/B7iS+XlcxwzrOO7TpseXb6teR++sFba+r1P9W98mJDkW2FRV3xi3aEaOq6HfIUl2BT4FvLGq7u1f1j4pzvmvciR5GXBHVV05222ZAQvoXTo8raoOAr5P7zLwj8yj47qQ3pnQ/sBTgMezbV6NGIn5chynk+SPgYeBj892W0YhyeOAtwJ/MlttMPSnNu3jf+eKJDvQC/yPV9WnW/Ht7RIR7f2OVj5Zv+fCz+MXgJcnuYXeJb/DgA/Qu1Q29lyK/nb/qE9t+ROBO5kbfd0IbKyqy9v8efQ+BMzH4/pi4Oaq2lJVDwGfpnes5+NxHTOs47iJH18u7y/fpiR5DfAy4JXtQw5sfV/vZPLfiW3B0+l9cP1G+xu1L/C1JD/DDB1XQ39q8+Lxv+0+1xnAdVX1vr5Fq4GxkaArgPP7yl/dRpMeCtzTLjNeBByRZGE78zqilW0zquqUqtq3qpbQO15fqKpXAl8EXtGqje/r2M/gFa1+tfLj0xsFvj+wlN6gmW1GVd0GbEjyrFZ0OL3/bnreHVd6l/UPTfK49vs81td5d1z7DOU4tmX3Jjm0/exe3betbUKSo+jdknt5VT3Qt2iy4zXh3+Z2jCf7nZh1VfXNqnpyVS1pf6M20htkfRszdVwHHYXY1Re9EZXfojdS9I9nu/axVy8AAADqSURBVD2PsQ+/SO/S4NXAVe11NL37XxcDNwKfB/Zo9QN8qPX5m8Cyvm29jt5gmvXAa2e7b9P0ezk/Hr3/NHp/LNYD/wTs1Mp3bvPr2/Kn9a3/x+1ncAOzONp5mj4eCKxtx/az9Eb3zsvjCvwpcD1wDfAxeiO658VxBc6mN1bhIXpB8PphHkdgWfu5fRv4W9qD2bahvq6nd9967O/T3013vJjkb/NkvxPbSl/HLb+FH4/en5Hj6hP5JEnqCC/vS5LUEYa+JEkdYehLktQRhr4kSR1h6EuS1BGGviRJHWHoS5LUEYa+JEkd8f8BpD+nEM+NxPoAAAAASUVORK5CYII=",
            "text/plain": [
              "<Figure size 576x432 with 1 Axes>"
            ]
          },
          "metadata": {
            "needs_background": "light"
          },
          "output_type": "display_data"
        }
      ],
      "source": [
        "plt.figure(figsize=(8,6))\n",
        "plt.hist(movies['vote_count'],bins=20,color='c')\n",
        "plt.title(\"Histogram of vote count\")\n",
        "plt.ylabel(\"Vote count\")"
      ]
    },
    {
      "cell_type": "markdown",
      "metadata": {
        "id": "oo9Y-YiqXYl2"
      },
      "source": [
        "Thus,most of the movies have less than 1000 rating votes"
      ]
    },
    {
      "cell_type": "code",
      "execution_count": 93,
      "metadata": {
        "colab": {
          "base_uri": "https://localhost:8080/",
          "height": 421
        },
        "id": "dauBzQ8NTloF",
        "outputId": "aa6bc137-0adb-4908-928c-eeaeea04afac"
      },
      "outputs": [
        {
          "data": {
            "text/plain": [
              "Text(0.5, 1.0, 'popularity v/s ratings')"
            ]
          },
          "execution_count": 33,
          "metadata": {},
          "output_type": "execute_result"
        },
        {
          "data": {
            "image/png": "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",
            "text/plain": [
              "<Figure size 576x432 with 1 Axes>"
            ]
          },
          "metadata": {
            "needs_background": "light"
          },
          "output_type": "display_data"
        }
      ],
      "source": [
        "plt.figure(figsize=(8,6))\n",
        "plt.grid(2)\n",
        "plt.scatter(movies[\"rating\"],movies[\"popularity\"],c='r')\n",
        "plt.xlabel(\"ratings\")\n",
        "plt.ylabel(\"popularity\")\n",
        "plt.title(\"popularity v/s ratings\")"
      ]
    },
    {
      "cell_type": "markdown",
      "metadata": {
        "id": "XwyatJD8XfJm"
      },
      "source": [
        "There is a positive correlation between ratings and popularity"
      ]
    },
    {
      "cell_type": "markdown",
      "metadata": {
        "id": "OsaWCVRSK2Gq"
      },
      "source": [
        "##Demographic filtering"
      ]
    },
    {
      "cell_type": "markdown",
      "metadata": {
        "id": "tFxDZ9yIK7h4"
      },
      "source": [
        "###Top 10 most popular movies"
      ]
    },
    {
      "cell_type": "code",
      "execution_count": 94,
      "metadata": {
        "colab": {
          "base_uri": "https://localhost:8080/"
        },
        "id": "0aR7mmSdJKbx",
        "outputId": "63617d22-37b0-46b8-d825-d99a6ab9e75b"
      },
      "outputs": [
        {
          "name": "stdout",
          "output_type": "stream",
          "text": [
            "1838.4000000000015\n"
          ]
        }
      ],
      "source": [
        "#Lets look at movies with vote_count greater than the 90th percentile or quantile\n",
        "#As others aren't really popular and their popularity score is most likely subject to high variance\n",
        "threshold_vote= movies['vote_count'].quantile(0.9)\n",
        "print(threshold_vote)\n",
        "#Basically the 90th quantile of vote_count "
      ]
    },
    {
      "cell_type": "markdown",
      "metadata": {
        "id": "fphWtp7VMqjY"
      },
      "source": [
        "Now lets look at the top 10 movies with highest popularity among movies with vote_count greater than the threshold"
      ]
    },
    {
      "cell_type": "code",
      "execution_count": 95,
      "metadata": {
        "colab": {
          "base_uri": "https://localhost:8080/",
          "height": 1000
        },
        "id": "aS-jjzv9NIer",
        "outputId": "7fcb13ff-454f-419d-ef7c-6f571994f526"
      },
      "outputs": [
        {
          "data": {
            "text/html": [
              "\n",
              "  <div id=\"df-b556422f-61c2-4ad0-ab96-f838fcec0990\">\n",
              "    <div class=\"colab-df-container\">\n",
              "      <div>\n",
              "<style scoped>\n",
              "    .dataframe tbody tr th:only-of-type {\n",
              "        vertical-align: middle;\n",
              "    }\n",
              "\n",
              "    .dataframe tbody tr th {\n",
              "        vertical-align: top;\n",
              "    }\n",
              "\n",
              "    .dataframe thead th {\n",
              "        text-align: right;\n",
              "    }\n",
              "</style>\n",
              "<table border=\"1\" class=\"dataframe\">\n",
              "  <thead>\n",
              "    <tr style=\"text-align: right;\">\n",
              "      <th></th>\n",
              "      <th>id</th>\n",
              "      <th>title</th>\n",
              "      <th>genres</th>\n",
              "      <th>popularity</th>\n",
              "      <th>rating</th>\n",
              "      <th>vote_count</th>\n",
              "      <th>cast</th>\n",
              "    </tr>\n",
              "  </thead>\n",
              "  <tbody>\n",
              "    <tr>\n",
              "      <th>546</th>\n",
              "      <td>211672</td>\n",
              "      <td>Minions</td>\n",
              "      <td>[{\"id\": 10751, \"name\": \"Family\"}, {\"id\": 16, \"...</td>\n",
              "      <td>875.581305</td>\n",
              "      <td>6.4</td>\n",
              "      <td>4571</td>\n",
              "      <td>[{\"cast_id\": 22, \"character\": \"Scarlet Overkil...</td>\n",
              "    </tr>\n",
              "    <tr>\n",
              "      <th>95</th>\n",
              "      <td>157336</td>\n",
              "      <td>Interstellar</td>\n",
              "      <td>[{\"id\": 12, \"name\": \"Adventure\"}, {\"id\": 18, \"...</td>\n",
              "      <td>724.247784</td>\n",
              "      <td>8.1</td>\n",
              "      <td>10867</td>\n",
              "      <td>[{\"cast_id\": 9, \"character\": \"Joseph Cooper\", ...</td>\n",
              "    </tr>\n",
              "    <tr>\n",
              "      <th>788</th>\n",
              "      <td>293660</td>\n",
              "      <td>Deadpool</td>\n",
              "      <td>[{\"id\": 28, \"name\": \"Action\"}, {\"id\": 12, \"nam...</td>\n",
              "      <td>514.569956</td>\n",
              "      <td>7.4</td>\n",
              "      <td>10995</td>\n",
              "      <td>[{\"cast_id\": 99, \"character\": \"Wade Wilson / D...</td>\n",
              "    </tr>\n",
              "    <tr>\n",
              "      <th>94</th>\n",
              "      <td>118340</td>\n",
              "      <td>Guardians of the Galaxy</td>\n",
              "      <td>[{\"id\": 28, \"name\": \"Action\"}, {\"id\": 878, \"na...</td>\n",
              "      <td>481.098624</td>\n",
              "      <td>7.9</td>\n",
              "      <td>9742</td>\n",
              "      <td>[{\"cast_id\": 1, \"character\": \"Peter Quill / St...</td>\n",
              "    </tr>\n",
              "    <tr>\n",
              "      <th>127</th>\n",
              "      <td>76341</td>\n",
              "      <td>Mad Max: Fury Road</td>\n",
              "      <td>[{\"id\": 28, \"name\": \"Action\"}, {\"id\": 12, \"nam...</td>\n",
              "      <td>434.278564</td>\n",
              "      <td>7.2</td>\n",
              "      <td>9427</td>\n",
              "      <td>[{\"cast_id\": 2, \"character\": \"Max Rockatansky\"...</td>\n",
              "    </tr>\n",
              "    <tr>\n",
              "      <th>28</th>\n",
              "      <td>135397</td>\n",
              "      <td>Jurassic World</td>\n",
              "      <td>[{\"id\": 28, \"name\": \"Action\"}, {\"id\": 12, \"nam...</td>\n",
              "      <td>418.708552</td>\n",
              "      <td>6.5</td>\n",
              "      <td>8662</td>\n",
              "      <td>[{\"cast_id\": 10, \"character\": \"Owen Grady\", \"c...</td>\n",
              "    </tr>\n",
              "    <tr>\n",
              "      <th>199</th>\n",
              "      <td>22</td>\n",
              "      <td>Pirates of the Caribbean: The Curse of the Bla...</td>\n",
              "      <td>[{\"id\": 12, \"name\": \"Adventure\"}, {\"id\": 14, \"...</td>\n",
              "      <td>271.972889</td>\n",
              "      <td>7.5</td>\n",
              "      <td>6985</td>\n",
              "      <td>[{\"cast_id\": 12, \"character\": \"Captain Jack Sp...</td>\n",
              "    </tr>\n",
              "    <tr>\n",
              "      <th>82</th>\n",
              "      <td>119450</td>\n",
              "      <td>Dawn of the Planet of the Apes</td>\n",
              "      <td>[{\"id\": 878, \"name\": \"Science Fiction\"}, {\"id\"...</td>\n",
              "      <td>243.791743</td>\n",
              "      <td>7.3</td>\n",
              "      <td>4410</td>\n",
              "      <td>[{\"cast_id\": 8, \"character\": \"Caesar\", \"credit...</td>\n",
              "    </tr>\n",
              "    <tr>\n",
              "      <th>200</th>\n",
              "      <td>131631</td>\n",
              "      <td>The Hunger Games: Mockingjay - Part 1</td>\n",
              "      <td>[{\"id\": 878, \"name\": \"Science Fiction\"}, {\"id\"...</td>\n",
              "      <td>206.227151</td>\n",
              "      <td>6.6</td>\n",
              "      <td>5584</td>\n",
              "      <td>[{\"cast_id\": 2, \"character\": \"Katniss Everdeen...</td>\n",
              "    </tr>\n",
              "    <tr>\n",
              "      <th>88</th>\n",
              "      <td>177572</td>\n",
              "      <td>Big Hero 6</td>\n",
              "      <td>[{\"id\": 12, \"name\": \"Adventure\"}, {\"id\": 10751...</td>\n",
              "      <td>203.734590</td>\n",
              "      <td>7.8</td>\n",
              "      <td>6135</td>\n",
              "      <td>[{\"cast_id\": 23, \"character\": \"Baymax (voice)\"...</td>\n",
              "    </tr>\n",
              "  </tbody>\n",
              "</table>\n",
              "</div>\n",
              "      <button class=\"colab-df-convert\" onclick=\"convertToInteractive('df-b556422f-61c2-4ad0-ab96-f838fcec0990')\"\n",
              "              title=\"Convert this dataframe to an interactive table.\"\n",
              "              style=\"display:none;\">\n",
              "        \n",
              "  <svg xmlns=\"http://www.w3.org/2000/svg\" height=\"24px\"viewBox=\"0 0 24 24\"\n",
              "       width=\"24px\">\n",
              "    <path d=\"M0 0h24v24H0V0z\" fill=\"none\"/>\n",
              "    <path d=\"M18.56 5.44l.94 2.06.94-2.06 2.06-.94-2.06-.94-.94-2.06-.94 2.06-2.06.94zm-11 1L8.5 8.5l.94-2.06 2.06-.94-2.06-.94L8.5 2.5l-.94 2.06-2.06.94zm10 10l.94 2.06.94-2.06 2.06-.94-2.06-.94-.94-2.06-.94 2.06-2.06.94z\"/><path d=\"M17.41 7.96l-1.37-1.37c-.4-.4-.92-.59-1.43-.59-.52 0-1.04.2-1.43.59L10.3 9.45l-7.72 7.72c-.78.78-.78 2.05 0 2.83L4 21.41c.39.39.9.59 1.41.59.51 0 1.02-.2 1.41-.59l7.78-7.78 2.81-2.81c.8-.78.8-2.07 0-2.86zM5.41 20L4 18.59l7.72-7.72 1.47 1.35L5.41 20z\"/>\n",
              "  </svg>\n",
              "      </button>\n",
              "      \n",
              "  <style>\n",
              "    .colab-df-container {\n",
              "      display:flex;\n",
              "      flex-wrap:wrap;\n",
              "      gap: 12px;\n",
              "    }\n",
              "\n",
              "    .colab-df-convert {\n",
              "      background-color: #E8F0FE;\n",
              "      border: none;\n",
              "      border-radius: 50%;\n",
              "      cursor: pointer;\n",
              "      display: none;\n",
              "      fill: #1967D2;\n",
              "      height: 32px;\n",
              "      padding: 0 0 0 0;\n",
              "      width: 32px;\n",
              "    }\n",
              "\n",
              "    .colab-df-convert:hover {\n",
              "      background-color: #E2EBFA;\n",
              "      box-shadow: 0px 1px 2px rgba(60, 64, 67, 0.3), 0px 1px 3px 1px rgba(60, 64, 67, 0.15);\n",
              "      fill: #174EA6;\n",
              "    }\n",
              "\n",
              "    [theme=dark] .colab-df-convert {\n",
              "      background-color: #3B4455;\n",
              "      fill: #D2E3FC;\n",
              "    }\n",
              "\n",
              "    [theme=dark] .colab-df-convert:hover {\n",
              "      background-color: #434B5C;\n",
              "      box-shadow: 0px 1px 3px 1px rgba(0, 0, 0, 0.15);\n",
              "      filter: drop-shadow(0px 1px 2px rgba(0, 0, 0, 0.3));\n",
              "      fill: #FFFFFF;\n",
              "    }\n",
              "  </style>\n",
              "\n",
              "      <script>\n",
              "        const buttonEl =\n",
              "          document.querySelector('#df-b556422f-61c2-4ad0-ab96-f838fcec0990 button.colab-df-convert');\n",
              "        buttonEl.style.display =\n",
              "          google.colab.kernel.accessAllowed ? 'block' : 'none';\n",
              "\n",
              "        async function convertToInteractive(key) {\n",
              "          const element = document.querySelector('#df-b556422f-61c2-4ad0-ab96-f838fcec0990');\n",
              "          const dataTable =\n",
              "            await google.colab.kernel.invokeFunction('convertToInteractive',\n",
              "                                                     [key], {});\n",
              "          if (!dataTable) return;\n",
              "\n",
              "          const docLinkHtml = 'Like what you see? Visit the ' +\n",
              "            '<a target=\"_blank\" href=https://colab.research.google.com/notebooks/data_table.ipynb>data table notebook</a>'\n",
              "            + ' to learn more about interactive tables.';\n",
              "          element.innerHTML = '';\n",
              "          dataTable['output_type'] = 'display_data';\n",
              "          await google.colab.output.renderOutput(dataTable, element);\n",
              "          const docLink = document.createElement('div');\n",
              "          docLink.innerHTML = docLinkHtml;\n",
              "          element.appendChild(docLink);\n",
              "        }\n",
              "      </script>\n",
              "    </div>\n",
              "  </div>\n",
              "  "
            ],
            "text/plain": [
              "         id                                              title  \\\n",
              "546  211672                                            Minions   \n",
              "95   157336                                       Interstellar   \n",
              "788  293660                                           Deadpool   \n",
              "94   118340                            Guardians of the Galaxy   \n",
              "127   76341                                 Mad Max: Fury Road   \n",
              "28   135397                                     Jurassic World   \n",
              "199      22  Pirates of the Caribbean: The Curse of the Bla...   \n",
              "82   119450                     Dawn of the Planet of the Apes   \n",
              "200  131631              The Hunger Games: Mockingjay - Part 1   \n",
              "88   177572                                         Big Hero 6   \n",
              "\n",
              "                                                genres  popularity  rating  \\\n",
              "546  [{\"id\": 10751, \"name\": \"Family\"}, {\"id\": 16, \"...  875.581305     6.4   \n",
              "95   [{\"id\": 12, \"name\": \"Adventure\"}, {\"id\": 18, \"...  724.247784     8.1   \n",
              "788  [{\"id\": 28, \"name\": \"Action\"}, {\"id\": 12, \"nam...  514.569956     7.4   \n",
              "94   [{\"id\": 28, \"name\": \"Action\"}, {\"id\": 878, \"na...  481.098624     7.9   \n",
              "127  [{\"id\": 28, \"name\": \"Action\"}, {\"id\": 12, \"nam...  434.278564     7.2   \n",
              "28   [{\"id\": 28, \"name\": \"Action\"}, {\"id\": 12, \"nam...  418.708552     6.5   \n",
              "199  [{\"id\": 12, \"name\": \"Adventure\"}, {\"id\": 14, \"...  271.972889     7.5   \n",
              "82   [{\"id\": 878, \"name\": \"Science Fiction\"}, {\"id\"...  243.791743     7.3   \n",
              "200  [{\"id\": 878, \"name\": \"Science Fiction\"}, {\"id\"...  206.227151     6.6   \n",
              "88   [{\"id\": 12, \"name\": \"Adventure\"}, {\"id\": 10751...  203.734590     7.8   \n",
              "\n",
              "     vote_count                                               cast  \n",
              "546        4571  [{\"cast_id\": 22, \"character\": \"Scarlet Overkil...  \n",
              "95        10867  [{\"cast_id\": 9, \"character\": \"Joseph Cooper\", ...  \n",
              "788       10995  [{\"cast_id\": 99, \"character\": \"Wade Wilson / D...  \n",
              "94         9742  [{\"cast_id\": 1, \"character\": \"Peter Quill / St...  \n",
              "127        9427  [{\"cast_id\": 2, \"character\": \"Max Rockatansky\"...  \n",
              "28         8662  [{\"cast_id\": 10, \"character\": \"Owen Grady\", \"c...  \n",
              "199        6985  [{\"cast_id\": 12, \"character\": \"Captain Jack Sp...  \n",
              "82         4410  [{\"cast_id\": 8, \"character\": \"Caesar\", \"credit...  \n",
              "200        5584  [{\"cast_id\": 2, \"character\": \"Katniss Everdeen...  \n",
              "88         6135  [{\"cast_id\": 23, \"character\": \"Baymax (voice)\"...  "
            ]
          },
          "execution_count": 35,
          "metadata": {},
          "output_type": "execute_result"
        }
      ],
      "source": [
        "popular_picks=list(movies[movies['vote_count']>threshold_vote].nlargest(10,'popularity').loc[:,'title'])\n",
        "movies[movies['vote_count']>threshold_vote].nlargest(10,'popularity')"
      ]
    },
    {
      "cell_type": "markdown",
      "metadata": {
        "id": "UmOuCkVlLB9S"
      },
      "source": [
        "###Top 10 highest rated movies"
      ]
    },
    {
      "cell_type": "markdown",
      "metadata": {
        "id": "1IgyzuJpPqu1"
      },
      "source": [
        "Now lets look at the top 10 movies with highest rating among movies with vote_count greater than the threshold"
      ]
    },
    {
      "cell_type": "code",
      "execution_count": 96,
      "metadata": {
        "colab": {
          "base_uri": "https://localhost:8080/",
          "height": 1000
        },
        "id": "BhYov4O-LFW7",
        "outputId": "8e25f78d-7f68-4907-e81c-58e14231c0ad"
      },
      "outputs": [
        {
          "data": {
            "text/html": [
              "\n",
              "  <div id=\"df-ec80ec1c-8dd3-42b4-bcb8-927ee065e3af\">\n",
              "    <div class=\"colab-df-container\">\n",
              "      <div>\n",
              "<style scoped>\n",
              "    .dataframe tbody tr th:only-of-type {\n",
              "        vertical-align: middle;\n",
              "    }\n",
              "\n",
              "    .dataframe tbody tr th {\n",
              "        vertical-align: top;\n",
              "    }\n",
              "\n",
              "    .dataframe thead th {\n",
              "        text-align: right;\n",
              "    }\n",
              "</style>\n",
              "<table border=\"1\" class=\"dataframe\">\n",
              "  <thead>\n",
              "    <tr style=\"text-align: right;\">\n",
              "      <th></th>\n",
              "      <th>id</th>\n",
              "      <th>title</th>\n",
              "      <th>genres</th>\n",
              "      <th>popularity</th>\n",
              "      <th>rating</th>\n",
              "      <th>vote_count</th>\n",
              "      <th>cast</th>\n",
              "    </tr>\n",
              "  </thead>\n",
              "  <tbody>\n",
              "    <tr>\n",
              "      <th>1881</th>\n",
              "      <td>278</td>\n",
              "      <td>The Shawshank Redemption</td>\n",
              "      <td>[{\"id\": 18, \"name\": \"Drama\"}, {\"id\": 80, \"name...</td>\n",
              "      <td>136.747729</td>\n",
              "      <td>8.5</td>\n",
              "      <td>8205</td>\n",
              "      <td>[{\"cast_id\": 3, \"character\": \"Andy Dufresne\", ...</td>\n",
              "    </tr>\n",
              "    <tr>\n",
              "      <th>3337</th>\n",
              "      <td>238</td>\n",
              "      <td>The Godfather</td>\n",
              "      <td>[{\"id\": 18, \"name\": \"Drama\"}, {\"id\": 80, \"name...</td>\n",
              "      <td>143.659698</td>\n",
              "      <td>8.4</td>\n",
              "      <td>5893</td>\n",
              "      <td>[{\"cast_id\": 5, \"character\": \"Don Vito Corleon...</td>\n",
              "    </tr>\n",
              "    <tr>\n",
              "      <th>662</th>\n",
              "      <td>550</td>\n",
              "      <td>Fight Club</td>\n",
              "      <td>[{\"id\": 18, \"name\": \"Drama\"}]</td>\n",
              "      <td>146.757391</td>\n",
              "      <td>8.3</td>\n",
              "      <td>9413</td>\n",
              "      <td>[{\"cast_id\": 4, \"character\": \"The Narrator\", \"...</td>\n",
              "    </tr>\n",
              "    <tr>\n",
              "      <th>1818</th>\n",
              "      <td>424</td>\n",
              "      <td>Schindler's List</td>\n",
              "      <td>[{\"id\": 18, \"name\": \"Drama\"}, {\"id\": 36, \"name...</td>\n",
              "      <td>104.469351</td>\n",
              "      <td>8.3</td>\n",
              "      <td>4329</td>\n",
              "      <td>[{\"cast_id\": 14, \"character\": \"Oskar Schindler...</td>\n",
              "    </tr>\n",
              "    <tr>\n",
              "      <th>2294</th>\n",
              "      <td>129</td>\n",
              "      <td>Spirited Away</td>\n",
              "      <td>[{\"id\": 14, \"name\": \"Fantasy\"}, {\"id\": 12, \"na...</td>\n",
              "      <td>118.968562</td>\n",
              "      <td>8.3</td>\n",
              "      <td>3840</td>\n",
              "      <td>[{\"cast_id\": 3, \"character\": \"Chihiro (voice)\"...</td>\n",
              "    </tr>\n",
              "    <tr>\n",
              "      <th>2731</th>\n",
              "      <td>240</td>\n",
              "      <td>The Godfather: Part II</td>\n",
              "      <td>[{\"id\": 18, \"name\": \"Drama\"}, {\"id\": 80, \"name...</td>\n",
              "      <td>105.792936</td>\n",
              "      <td>8.3</td>\n",
              "      <td>3338</td>\n",
              "      <td>[{\"cast_id\": 8, \"character\": \"Don Michael Corl...</td>\n",
              "    </tr>\n",
              "    <tr>\n",
              "      <th>3232</th>\n",
              "      <td>680</td>\n",
              "      <td>Pulp Fiction</td>\n",
              "      <td>[{\"id\": 53, \"name\": \"Thriller\"}, {\"id\": 80, \"n...</td>\n",
              "      <td>121.463076</td>\n",
              "      <td>8.3</td>\n",
              "      <td>8428</td>\n",
              "      <td>[{\"cast_id\": 2, \"character\": \"Vincent Vega\", \"...</td>\n",
              "    </tr>\n",
              "    <tr>\n",
              "      <th>3865</th>\n",
              "      <td>244786</td>\n",
              "      <td>Whiplash</td>\n",
              "      <td>[{\"id\": 18, \"name\": \"Drama\"}]</td>\n",
              "      <td>192.528841</td>\n",
              "      <td>8.3</td>\n",
              "      <td>4254</td>\n",
              "      <td>[{\"cast_id\": 5, \"character\": \"Andrew Neimann\",...</td>\n",
              "    </tr>\n",
              "    <tr>\n",
              "      <th>65</th>\n",
              "      <td>155</td>\n",
              "      <td>The Dark Knight</td>\n",
              "      <td>[{\"id\": 18, \"name\": \"Drama\"}, {\"id\": 28, \"name...</td>\n",
              "      <td>187.322927</td>\n",
              "      <td>8.2</td>\n",
              "      <td>12002</td>\n",
              "      <td>[{\"cast_id\": 35, \"character\": \"Bruce Wayne\", \"...</td>\n",
              "    </tr>\n",
              "    <tr>\n",
              "      <th>690</th>\n",
              "      <td>497</td>\n",
              "      <td>The Green Mile</td>\n",
              "      <td>[{\"id\": 14, \"name\": \"Fantasy\"}, {\"id\": 18, \"na...</td>\n",
              "      <td>103.698022</td>\n",
              "      <td>8.2</td>\n",
              "      <td>4048</td>\n",
              "      <td>[{\"cast_id\": 4, \"character\": \"Paul Edgecomb\", ...</td>\n",
              "    </tr>\n",
              "  </tbody>\n",
              "</table>\n",
              "</div>\n",
              "      <button class=\"colab-df-convert\" onclick=\"convertToInteractive('df-ec80ec1c-8dd3-42b4-bcb8-927ee065e3af')\"\n",
              "              title=\"Convert this dataframe to an interactive table.\"\n",
              "              style=\"display:none;\">\n",
              "        \n",
              "  <svg xmlns=\"http://www.w3.org/2000/svg\" height=\"24px\"viewBox=\"0 0 24 24\"\n",
              "       width=\"24px\">\n",
              "    <path d=\"M0 0h24v24H0V0z\" fill=\"none\"/>\n",
              "    <path d=\"M18.56 5.44l.94 2.06.94-2.06 2.06-.94-2.06-.94-.94-2.06-.94 2.06-2.06.94zm-11 1L8.5 8.5l.94-2.06 2.06-.94-2.06-.94L8.5 2.5l-.94 2.06-2.06.94zm10 10l.94 2.06.94-2.06 2.06-.94-2.06-.94-.94-2.06-.94 2.06-2.06.94z\"/><path d=\"M17.41 7.96l-1.37-1.37c-.4-.4-.92-.59-1.43-.59-.52 0-1.04.2-1.43.59L10.3 9.45l-7.72 7.72c-.78.78-.78 2.05 0 2.83L4 21.41c.39.39.9.59 1.41.59.51 0 1.02-.2 1.41-.59l7.78-7.78 2.81-2.81c.8-.78.8-2.07 0-2.86zM5.41 20L4 18.59l7.72-7.72 1.47 1.35L5.41 20z\"/>\n",
              "  </svg>\n",
              "      </button>\n",
              "      \n",
              "  <style>\n",
              "    .colab-df-container {\n",
              "      display:flex;\n",
              "      flex-wrap:wrap;\n",
              "      gap: 12px;\n",
              "    }\n",
              "\n",
              "    .colab-df-convert {\n",
              "      background-color: #E8F0FE;\n",
              "      border: none;\n",
              "      border-radius: 50%;\n",
              "      cursor: pointer;\n",
              "      display: none;\n",
              "      fill: #1967D2;\n",
              "      height: 32px;\n",
              "      padding: 0 0 0 0;\n",
              "      width: 32px;\n",
              "    }\n",
              "\n",
              "    .colab-df-convert:hover {\n",
              "      background-color: #E2EBFA;\n",
              "      box-shadow: 0px 1px 2px rgba(60, 64, 67, 0.3), 0px 1px 3px 1px rgba(60, 64, 67, 0.15);\n",
              "      fill: #174EA6;\n",
              "    }\n",
              "\n",
              "    [theme=dark] .colab-df-convert {\n",
              "      background-color: #3B4455;\n",
              "      fill: #D2E3FC;\n",
              "    }\n",
              "\n",
              "    [theme=dark] .colab-df-convert:hover {\n",
              "      background-color: #434B5C;\n",
              "      box-shadow: 0px 1px 3px 1px rgba(0, 0, 0, 0.15);\n",
              "      filter: drop-shadow(0px 1px 2px rgba(0, 0, 0, 0.3));\n",
              "      fill: #FFFFFF;\n",
              "    }\n",
              "  </style>\n",
              "\n",
              "      <script>\n",
              "        const buttonEl =\n",
              "          document.querySelector('#df-ec80ec1c-8dd3-42b4-bcb8-927ee065e3af button.colab-df-convert');\n",
              "        buttonEl.style.display =\n",
              "          google.colab.kernel.accessAllowed ? 'block' : 'none';\n",
              "\n",
              "        async function convertToInteractive(key) {\n",
              "          const element = document.querySelector('#df-ec80ec1c-8dd3-42b4-bcb8-927ee065e3af');\n",
              "          const dataTable =\n",
              "            await google.colab.kernel.invokeFunction('convertToInteractive',\n",
              "                                                     [key], {});\n",
              "          if (!dataTable) return;\n",
              "\n",
              "          const docLinkHtml = 'Like what you see? Visit the ' +\n",
              "            '<a target=\"_blank\" href=https://colab.research.google.com/notebooks/data_table.ipynb>data table notebook</a>'\n",
              "            + ' to learn more about interactive tables.';\n",
              "          element.innerHTML = '';\n",
              "          dataTable['output_type'] = 'display_data';\n",
              "          await google.colab.output.renderOutput(dataTable, element);\n",
              "          const docLink = document.createElement('div');\n",
              "          docLink.innerHTML = docLinkHtml;\n",
              "          element.appendChild(docLink);\n",
              "        }\n",
              "      </script>\n",
              "    </div>\n",
              "  </div>\n",
              "  "
            ],
            "text/plain": [
              "          id                     title  \\\n",
              "1881     278  The Shawshank Redemption   \n",
              "3337     238             The Godfather   \n",
              "662      550                Fight Club   \n",
              "1818     424          Schindler's List   \n",
              "2294     129             Spirited Away   \n",
              "2731     240    The Godfather: Part II   \n",
              "3232     680              Pulp Fiction   \n",
              "3865  244786                  Whiplash   \n",
              "65       155           The Dark Knight   \n",
              "690      497            The Green Mile   \n",
              "\n",
              "                                                 genres  popularity  rating  \\\n",
              "1881  [{\"id\": 18, \"name\": \"Drama\"}, {\"id\": 80, \"name...  136.747729     8.5   \n",
              "3337  [{\"id\": 18, \"name\": \"Drama\"}, {\"id\": 80, \"name...  143.659698     8.4   \n",
              "662                       [{\"id\": 18, \"name\": \"Drama\"}]  146.757391     8.3   \n",
              "1818  [{\"id\": 18, \"name\": \"Drama\"}, {\"id\": 36, \"name...  104.469351     8.3   \n",
              "2294  [{\"id\": 14, \"name\": \"Fantasy\"}, {\"id\": 12, \"na...  118.968562     8.3   \n",
              "2731  [{\"id\": 18, \"name\": \"Drama\"}, {\"id\": 80, \"name...  105.792936     8.3   \n",
              "3232  [{\"id\": 53, \"name\": \"Thriller\"}, {\"id\": 80, \"n...  121.463076     8.3   \n",
              "3865                      [{\"id\": 18, \"name\": \"Drama\"}]  192.528841     8.3   \n",
              "65    [{\"id\": 18, \"name\": \"Drama\"}, {\"id\": 28, \"name...  187.322927     8.2   \n",
              "690   [{\"id\": 14, \"name\": \"Fantasy\"}, {\"id\": 18, \"na...  103.698022     8.2   \n",
              "\n",
              "      vote_count                                               cast  \n",
              "1881        8205  [{\"cast_id\": 3, \"character\": \"Andy Dufresne\", ...  \n",
              "3337        5893  [{\"cast_id\": 5, \"character\": \"Don Vito Corleon...  \n",
              "662         9413  [{\"cast_id\": 4, \"character\": \"The Narrator\", \"...  \n",
              "1818        4329  [{\"cast_id\": 14, \"character\": \"Oskar Schindler...  \n",
              "2294        3840  [{\"cast_id\": 3, \"character\": \"Chihiro (voice)\"...  \n",
              "2731        3338  [{\"cast_id\": 8, \"character\": \"Don Michael Corl...  \n",
              "3232        8428  [{\"cast_id\": 2, \"character\": \"Vincent Vega\", \"...  \n",
              "3865        4254  [{\"cast_id\": 5, \"character\": \"Andrew Neimann\",...  \n",
              "65         12002  [{\"cast_id\": 35, \"character\": \"Bruce Wayne\", \"...  \n",
              "690         4048  [{\"cast_id\": 4, \"character\": \"Paul Edgecomb\", ...  "
            ]
          },
          "execution_count": 36,
          "metadata": {},
          "output_type": "execute_result"
        }
      ],
      "source": [
        "top_rated=list(movies[movies['vote_count']>threshold_vote].nlargest(10,'rating').loc[:,'title'])\n",
        "movies[movies['vote_count']>threshold_vote].nlargest(10,'rating')"
      ]
    },
    {
      "cell_type": "markdown",
      "metadata": {
        "id": "9xSJ5cpMLGt_"
      },
      "source": [
        "###Top movies in different genres"
      ]
    },
    {
      "cell_type": "code",
      "execution_count": 97,
      "metadata": {
        "id": "f05rSpYpLPU6"
      },
      "outputs": [],
      "source": [
        "def check_genre(top_genre,genres):\n",
        "  for genre in genres:\n",
        "    if(genre[\"name\"]==top_genre):\n",
        "      return True\n",
        "  return False\n",
        "\n",
        "top_genre={}\n",
        "#Let's look at common genres & let's recommend 3 movies for each genres\n",
        "allGenres={}\n",
        "for row_id in range(movies.shape[0]):\n",
        "  genres=get_genres(movies.loc[row_id,\"genres\"])\n",
        "  for genre in genres:\n",
        "    if genre[\"name\"] in allGenres.keys():\n",
        "      allGenres[genre[\"name\"]]+=1\n",
        "    else:\n",
        "      allGenres[genre[\"name\"]]=1\n",
        "\n",
        "#If say there are over 10% movies of a particluar genre let's call that a common genre\n",
        "#for each common genre let's choose top 3 based on the ratings\n",
        "\n",
        "for key,val in allGenres.items():\n",
        "  if(val>movies.shape[0]/10):\n",
        "    top_genre[key]=[]\n",
        "\n",
        "for genre in top_genre.keys():\n",
        "  top_in_genre=[]\n",
        "  for row_id in range(movies.shape[0]):\n",
        "    if(check_genre(genre,get_genres(movies.loc[row_id,\"genres\"]))):\n",
        "      if(len(top_in_genre)<3):\n",
        "        top_in_genre.append((row_id,movies.loc[row_id,\"rating\"]))\n",
        "      else:\n",
        "        if(top_in_genre[-1][1]<movies.loc[row_id,\"rating\"]):\n",
        "          top_in_genre.pop()\n",
        "          top_in_genre.append((row_id,movies.loc[row_id,\"rating\"]))\n",
        "      sorted(top_in_genre,key=lambda x:x[1],reverse=True)\n",
        "  top_genre[genre].append(movies.loc[top_in_genre[2][0],\"title\"])\n",
        "  top_genre[genre].append(movies.loc[top_in_genre[1][0],\"title\"])\n",
        "  top_genre[genre].append(movies.loc[top_in_genre[0][0],\"title\"])"
      ]
    },
    {
      "cell_type": "markdown",
      "metadata": {
        "id": "6Zbuu2XIXLZa"
      },
      "source": [
        "Lets visualize the number of movies in each genre"
      ]
    },
    {
      "cell_type": "code",
      "execution_count": 98,
      "metadata": {
        "colab": {
          "base_uri": "https://localhost:8080/",
          "height": 450
        },
        "id": "mhiIDnvoVPi2",
        "outputId": "5cb58ab2-e3eb-4ba7-cd59-3feaabd8f026"
      },
      "outputs": [
        {
          "data": {
            "text/plain": [
              "Text(0.5, 1.0, 'Number of movies in each genre')"
            ]
          },
          "execution_count": 38,
          "metadata": {},
          "output_type": "execute_result"
        },
        {
          "data": {
            "image/png": "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",
            "text/plain": [
              "<Figure size 1152x720 with 1 Axes>"
            ]
          },
          "metadata": {
            "needs_background": "light"
          },
          "output_type": "display_data"
        }
      ],
      "source": [
        "X=[]\n",
        "y=[]\n",
        "for genre,n_movies in allGenres.items():\n",
        "  if(n_movies>300):\n",
        "    X.append(genre)\n",
        "    y.append(n_movies)\n",
        "plt.figure(figsize=(16,10))\n",
        "plt.bar(X,y,color='green')\n",
        "plt.xlabel(\"genre\",fontsize=20)\n",
        "plt.ylabel(\"num_movies\",fontsize=20)\n",
        "plt.title(\"Number of movies in each genre\",fontsize=20)"
      ]
    },
    {
      "cell_type": "markdown",
      "metadata": {
        "id": "29_TqMCdXqhD"
      },
      "source": [
        "Most of the movies are drama,comedy and all others have substantial number of movies"
      ]
    },
    {
      "cell_type": "markdown",
      "metadata": {
        "id": "MWMto3kiLQV4"
      },
      "source": [
        "###Top movies of popular actors"
      ]
    },
    {
      "cell_type": "code",
      "execution_count": 99,
      "metadata": {
        "id": "F-j_bqJqLVHf"
      },
      "outputs": [],
      "source": [
        "def check_actor(top_actor,cast):\n",
        "  for actor in cast:\n",
        "    if(actor[\"name\"]==top_actor):\n",
        "      return True\n",
        "  return False\n",
        "\n",
        "top_actors={}\n",
        "#Let's look at 10 top actors(based on number of movies they were a part of) & let's recommend 2 movies for each actor\n",
        "allActors={}\n",
        "for row_id in range(movies.shape[0]):\n",
        "  cast=get_cast(movies.loc[row_id,\"cast\"])\n",
        "  for actor in cast:\n",
        "    if actor[\"name\"] in allActors.keys():\n",
        "      allActors[actor[\"name\"]]+=1\n",
        "    else:\n",
        "      allActors[actor[\"name\"]]=1\n",
        "\n",
        "allActors.pop('.')    #remove all movies without caste\n",
        "top_actors_list=[i[0] for i in sorted(allActors.items(),key=lambda x:x[1],reverse=True)[:10]]\n",
        "\n",
        "for actor in top_actors_list:\n",
        "  top_actors[actor]=[]\n",
        "\n",
        "for actor in top_actors.keys():\n",
        "  top_in_actor=[]\n",
        "  for row_id in range(movies.shape[0]):\n",
        "    if(check_actor(actor,get_cast(movies.loc[row_id,\"cast\"]))):\n",
        "      if(len(top_in_actor)<3):\n",
        "        top_in_actor.append((row_id,movies.loc[row_id,\"rating\"]))\n",
        "      else:\n",
        "        if(top_in_actor[-1][1]<movies.loc[row_id,\"rating\"]):\n",
        "          top_in_actor.pop()\n",
        "          top_in_actor.append((row_id,movies.loc[row_id,\"rating\"]))\n",
        "      sorted(top_in_actor,key=lambda x:x[1],reverse=True)\n",
        "  top_actors[actor].append(movies.loc[top_in_actor[1][0],\"title\"])\n",
        "  top_actors[actor].append(movies.loc[top_in_actor[0][0],\"title\"])"
      ]
    },
    {
      "cell_type": "markdown",
      "metadata": {
        "id": "NhH5wmABQ_O5"
      },
      "source": [
        "##Final demographic recommendations"
      ]
    },
    {
      "cell_type": "code",
      "execution_count": 100,
      "metadata": {
        "colab": {
          "base_uri": "https://localhost:8080/"
        },
        "id": "CQ_D4pvIREaG",
        "outputId": "ebfa01a6-2b5a-4bbb-ee4a-0d5ed93530f8"
      },
      "outputs": [
        {
          "name": "stdout",
          "output_type": "stream",
          "text": [
            "***POPULAR PICKS***\n",
            "1 Minions\n",
            "2 Interstellar\n",
            "3 Deadpool\n",
            "4 Guardians of the Galaxy\n",
            "5 Mad Max: Fury Road\n",
            "6 Jurassic World\n",
            "7 Pirates of the Caribbean: The Curse of the Black Pearl\n",
            "8 Dawn of the Planet of the Apes\n",
            "9 The Hunger Games: Mockingjay - Part 1\n",
            "10 Big Hero 6\n",
            "\n",
            " ****TOP RATED****\n",
            "1 The Shawshank Redemption\n",
            "2 The Godfather\n",
            "3 Fight Club\n",
            "4 Schindler's List\n",
            "5 Spirited Away\n",
            "6 The Godfather: Part II\n",
            "7 Pulp Fiction\n",
            "8 Whiplash\n",
            "9 The Dark Knight\n",
            "10 The Green Mile\n",
            "\n",
            " **BEST ACROSS GENRES**\n",
            "------> Action\n",
            "1 One Man's Hero\n",
            "2 Pirates of the Caribbean: At World's End\n",
            "3 Avatar\n",
            "------> Adventure\n",
            "1 The Prisoner of Zenda\n",
            "2 Pirates of the Caribbean: At World's End\n",
            "3 Avatar\n",
            "------> Science Fiction\n",
            "1 The Empire Strikes Back\n",
            "2 John Carter\n",
            "3 Avatar\n",
            "------> Crime\n",
            "1 The Shawshank Redemption\n",
            "2 The Dark Knight Rises\n",
            "3 Spectre\n",
            "------> Drama\n",
            "1 Dancer, Texas Pop. 81\n",
            "2 King Kong\n",
            "3 The Dark Knight Rises\n",
            "------> Thriller\n",
            "1 Pulp Fiction\n",
            "2 Quantum of Solace\n",
            "3 The Dark Knight Rises\n",
            "------> Family\n",
            "1 Dancer, Texas Pop. 81\n",
            "2 Harry Potter and the Half-Blood Prince\n",
            "3 Tangled\n",
            "------> Comedy\n",
            "1 Stiff Upper Lips\n",
            "2 Cars 2\n",
            "3 Men in Black 3\n",
            "------> Romance\n",
            "1 Me You and Five Bucks\n",
            "2 The Great Gatsby\n",
            "3 Titanic\n",
            "------> Horror\n",
            "1 Psycho\n",
            "2 Shin Godzilla\n",
            "3 World War Z\n",
            "\n",
            " **MOVIES OF TOP ACTORS**\n",
            "------> Samuel L. Jackson\n",
            "1 The Avengers\n",
            "2 Avengers: Age of Ultron\n",
            "------> Robert De Niro\n",
            "1 Arthur and the Invisibles\n",
            "2 Little Fockers\n",
            "------> Bruce Willis\n",
            "1 G.I. Joe: Retaliation\n",
            "2 Armageddon\n",
            "------> Matt Damon\n",
            "1 Happy Feet Two\n",
            "2 Interstellar\n",
            "------> Morgan Freeman\n",
            "1 The Dark Knight\n",
            "2 The Dark Knight Rises\n",
            "------> Steve Buscemi\n",
            "1 G-Force\n",
            "2 Monsters University\n",
            "------> Liam Neeson\n",
            "1 The Chronicles of Narnia: Prince Caspian\n",
            "2 The Dark Knight Rises\n",
            "------> Johnny Depp\n",
            "1 Pirates of the Caribbean: Dead Man's Chest\n",
            "2 Pirates of the Caribbean: At World's End\n",
            "------> Owen Wilson\n",
            "1 Night at the Museum: Battle of the Smithsonian\n",
            "2 Cars 2\n",
            "------> John Goodman\n",
            "1 Transformers: Age of Extinction\n",
            "2 Monsters University\n"
          ]
        }
      ],
      "source": [
        "print(\"***POPULAR PICKS***\")\n",
        "for idx,movie in enumerate(popular_picks):\n",
        "  print(idx+1,movie)\n",
        "print('\\n',\"****TOP RATED****\")\n",
        "for idx,movie in enumerate(top_rated):\n",
        "  print(idx+1,movie)\n",
        "print('\\n',\"**BEST ACROSS GENRES**\")\n",
        "for genre,movies in top_genre.items():\n",
        "  print(\"------>\",genre)\n",
        "  for idx,movie in enumerate(movies):\n",
        "    print(idx+1,movie)\n",
        "print('\\n',\"**MOVIES OF TOP ACTORS**\")\n",
        "for actor,movies in top_actors.items():\n",
        "  print(\"------>\",actor)\n",
        "  for idx,movie in enumerate(movies):\n",
        "    print(idx+1,movie)"
      ]
    },
    {
      "cell_type": "markdown",
      "metadata": {
        "id": "A-3PfSMLXEm7"
      },
      "source": [
        "#Collaborative filtering"
      ]
    },
    {
      "cell_type": "markdown",
      "metadata": {
        "id": "Vy7ZQJMc1nFO"
      },
      "source": [
        "Collaborative filtering looks at similarity between users instead of focusing on similarity of content like content based filtering \\\n",
        "For example: 2 users have given similar ratings to a few movies,so we can recommend movies rated highly by one person to another"
      ]
    },
    {
      "cell_type": "markdown",
      "metadata": {
        "id": "wLY4X4PNXOmy"
      },
      "source": [
        "##Importing libraries and a loading the dataset\n"
      ]
    },
    {
      "cell_type": "code",
      "execution_count": 2,
      "metadata": {
        "colab": {
          "base_uri": "https://localhost:8080/"
        },
        "id": "madAj6NNWySe",
        "outputId": "435da458-fb3c-476f-8b66-934c523af1a3"
      },
      "outputs": [
        {
          "name": "stdout",
          "output_type": "stream",
          "text": [
            "Requirement already satisfied: surprise in c:\\users\\vinit\\anaconda3\\envs\\cs419\\lib\\site-packages (0.1)\n",
            "Requirement already satisfied: scikit-surprise in c:\\users\\vinit\\anaconda3\\envs\\cs419\\lib\\site-packages (from surprise) (1.1.1)\n",
            "Requirement already satisfied: joblib>=0.11 in c:\\users\\vinit\\anaconda3\\envs\\cs419\\lib\\site-packages (from scikit-surprise->surprise) (1.1.0)\n",
            "Requirement already satisfied: scipy>=1.0.0 in c:\\users\\vinit\\anaconda3\\envs\\cs419\\lib\\site-packages (from scikit-surprise->surprise) (1.7.3)\n",
            "Requirement already satisfied: six>=1.10.0 in c:\\users\\vinit\\anaconda3\\envs\\cs419\\lib\\site-packages (from scikit-surprise->surprise) (1.16.0)\n",
            "Requirement already satisfied: numpy>=1.11.2 in c:\\users\\vinit\\anaconda3\\envs\\cs419\\lib\\site-packages (from scikit-surprise->surprise) (1.21.5)\n"
          ]
        },
        {
          "data": {
            "text/html": [
              "<div>\n",
              "<style scoped>\n",
              "    .dataframe tbody tr th:only-of-type {\n",
              "        vertical-align: middle;\n",
              "    }\n",
              "\n",
              "    .dataframe tbody tr th {\n",
              "        vertical-align: top;\n",
              "    }\n",
              "\n",
              "    .dataframe thead th {\n",
              "        text-align: right;\n",
              "    }\n",
              "</style>\n",
              "<table border=\"1\" class=\"dataframe\">\n",
              "  <thead>\n",
              "    <tr style=\"text-align: right;\">\n",
              "      <th></th>\n",
              "      <th>userId</th>\n",
              "      <th>movieId</th>\n",
              "      <th>rating</th>\n",
              "      <th>timestamp</th>\n",
              "    </tr>\n",
              "  </thead>\n",
              "  <tbody>\n",
              "    <tr>\n",
              "      <th>0</th>\n",
              "      <td>1</td>\n",
              "      <td>31</td>\n",
              "      <td>2.5</td>\n",
              "      <td>1260759144</td>\n",
              "    </tr>\n",
              "    <tr>\n",
              "      <th>1</th>\n",
              "      <td>1</td>\n",
              "      <td>1029</td>\n",
              "      <td>3.0</td>\n",
              "      <td>1260759179</td>\n",
              "    </tr>\n",
              "    <tr>\n",
              "      <th>2</th>\n",
              "      <td>1</td>\n",
              "      <td>1061</td>\n",
              "      <td>3.0</td>\n",
              "      <td>1260759182</td>\n",
              "    </tr>\n",
              "    <tr>\n",
              "      <th>3</th>\n",
              "      <td>1</td>\n",
              "      <td>1129</td>\n",
              "      <td>2.0</td>\n",
              "      <td>1260759185</td>\n",
              "    </tr>\n",
              "    <tr>\n",
              "      <th>4</th>\n",
              "      <td>1</td>\n",
              "      <td>1172</td>\n",
              "      <td>4.0</td>\n",
              "      <td>1260759205</td>\n",
              "    </tr>\n",
              "  </tbody>\n",
              "</table>\n",
              "</div>"
            ],
            "text/plain": [
              "   userId  movieId  rating   timestamp\n",
              "0       1       31     2.5  1260759144\n",
              "1       1     1029     3.0  1260759179\n",
              "2       1     1061     3.0  1260759182\n",
              "3       1     1129     2.0  1260759185\n",
              "4       1     1172     4.0  1260759205"
            ]
          },
          "execution_count": 2,
          "metadata": {},
          "output_type": "execute_result"
        }
      ],
      "source": [
        "from google.colab import drive\n",
        "drive.mount('/content/drive')"
      ]
    },
    {
      "cell_type": "markdown",
      "metadata": {
        "id": "qqMuyhst0daU"
      },
      "source": [
        "Basically the ratings dataset has ratings of each user for the movies he has watched and we attempt to predict the ratings he would give to unseen movies by using singular value decomposition or KNN"
      ]
    },
    {
      "cell_type": "code",
      "execution_count": 3,
      "metadata": {
        "colab": {
          "base_uri": "https://localhost:8080/"
        },
        "id": "WMp0UMMdsAFs",
        "outputId": "09bdd98c-30ec-4e00-89d2-8e3efd525267"
      },
      "outputs": [
        {
          "name": "stdout",
          "output_type": "stream",
          "text": [
            "The total number of ratings is: 100004\n"
          ]
        }
      ],
      "source": [
        "print(\"The total number of ratings is:\",ratings.shape[0])"
      ]
    },
    {
      "cell_type": "markdown",
      "metadata": {
        "id": "6qAXHDeqsVZE"
      },
      "source": [
        "Basically,each user has assigned ratings to movies he had watched &there is a timestamp to understand which movie was viewed first"
      ]
    },
    {
      "cell_type": "code",
      "execution_count": 4,
      "metadata": {
        "colab": {
          "base_uri": "https://localhost:8080/"
        },
        "id": "bnpEAnresTwb",
        "outputId": "6923b139-02dd-493c-ade7-b7257b0639b5"
      },
      "outputs": [
        {
          "name": "stdout",
          "output_type": "stream",
          "text": [
            "The number of unique viewers is: 671.0\n"
          ]
        }
      ],
      "source": [
        "print(\"The number of unique viewers is:\",ratings.describe().loc[\"max\",\"userId\"])"
      ]
    },
    {
      "cell_type": "code",
      "execution_count": 5,
      "metadata": {
        "colab": {
          "base_uri": "https://localhost:8080/"
        },
        "id": "MUemHVPDskg8",
        "outputId": "1eee8e46-3d85-40dc-8d16-9940890e298c"
      },
      "outputs": [
        {
          "name": "stdout",
          "output_type": "stream",
          "text": [
            "Average ratings per viewer: 149.03725782414307\n"
          ]
        }
      ],
      "source": [
        "print(\"Average ratings per viewer:\",ratings.shape[0]/ratings.describe().loc[\"max\",\"userId\"])"
      ]
    },
    {
      "cell_type": "markdown",
      "metadata": {
        "id": "dsiwLt3UwjQU"
      },
      "source": [
        "###Lets visualize the number of user ratings for each movie"
      ]
    },
    {
      "cell_type": "code",
      "execution_count": 6,
      "metadata": {
        "colab": {
          "base_uri": "https://localhost:8080/",
          "height": 296
        },
        "id": "i47wkdqcwhkW",
        "outputId": "753cfb6a-4c33-431b-fab6-4efdaaf51de0"
      },
      "outputs": [
        {
          "data": {
            "text/plain": [
              "<AxesSubplot:xlabel='movieId', ylabel='Count'>"
            ]
          },
          "execution_count": 6,
          "metadata": {},
          "output_type": "execute_result"
        },
        {
          "data": {
            "image/png": "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",
            "text/plain": [
              "<Figure size 432x288 with 1 Axes>"
            ]
          },
          "metadata": {
            "needs_background": "light"
          },
          "output_type": "display_data"
        }
      ],
      "source": [
        "sns.histplot(ratings[\"movieId\"].value_counts(),bins=50)"
      ]
    },
    {
      "cell_type": "markdown",
      "metadata": {
        "id": "Xo1_fUgzyW_V"
      },
      "source": [
        "First 10 movies have 6000 ratings next 10 have 1000 and thereafter there very less number of ratings which shows the movieIds ar somewhat in decreasing order of popularity"
      ]
    },
    {
      "cell_type": "markdown",
      "metadata": {
        "id": "sdPo2TyMwrEK"
      },
      "source": [
        "###Lets visualize the number of ratings given by each viewer"
      ]
    },
    {
      "cell_type": "code",
      "execution_count": 7,
      "metadata": {
        "colab": {
          "base_uri": "https://localhost:8080/",
          "height": 296
        },
        "id": "2Rk9N-hYsoeH",
        "outputId": "6150bffd-0b0f-4cc5-84be-8dc7caebb22c"
      },
      "outputs": [
        {
          "data": {
            "text/plain": [
              "<AxesSubplot:xlabel='userId', ylabel='Count'>"
            ]
          },
          "execution_count": 7,
          "metadata": {},
          "output_type": "execute_result"
        },
        {
          "data": {
            "image/png": "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",
            "text/plain": [
              "<Figure size 432x288 with 1 Axes>"
            ]
          },
          "metadata": {
            "needs_background": "light"
          },
          "output_type": "display_data"
        }
      ],
      "source": [
        "#Lets visulaize the number of ratings per voter i.e. a histogram\n",
        "sns.histplot(ratings.loc[:,\"userId\"].value_counts(),bins=50)"
      ]
    },
    {
      "cell_type": "markdown",
      "metadata": {
        "id": "V0fxOQEZsyqz"
      },
      "source": [
        "Most of them have watched about 100 movies & almost all have watched less 500 movies except a few outliers"
      ]
    },
    {
      "cell_type": "markdown",
      "metadata": {
        "id": "lkuN_RpXs3y4"
      },
      "source": [
        "Lets ignore the timestamp assuming the viewers interests don't change with time(though this maybe the case as expectations increase after watching few good movies and maybe even a decent movie was giveen a bad rating but let's ignore this aspect)"
      ]
    },
    {
      "cell_type": "markdown",
      "metadata": {
        "id": "EoTpMImk27AG"
      },
      "source": [
        "##Using the Surprise library for collaborative filtering"
      ]
    },
    {
      "cell_type": "code",
      "execution_count": 7,
      "metadata": {
        "id": "ssq725F_T4Co"
      },
      "outputs": [],
      "source": [
        "#Create a reader object and fit it on our ratings dataset\n",
        "reader = Reader()\n",
        "data = Dataset.load_from_df(ratings[['userId', 'movieId', 'rating']], reader)"
      ]
    },
    {
      "cell_type": "code",
      "execution_count": 8,
      "metadata": {
        "colab": {
          "base_uri": "https://localhost:8080/"
        },
        "id": "VTWXCu2TUpVQ",
        "outputId": "62959af1-8cb5-467c-c58f-f23a77bb59c6"
      },
      "outputs": [
        {
          "name": "stdout",
          "output_type": "stream",
          "text": [
            "Estimating biases using als...\n",
            "Computing the msd similarity matrix...\n",
            "Done computing similarity matrix.\n",
            "Estimating biases using als...\n",
            "Computing the msd similarity matrix...\n",
            "Done computing similarity matrix.\n",
            "Estimating biases using als...\n",
            "Computing the msd similarity matrix...\n",
            "Done computing similarity matrix.\n",
            "Estimating biases using als...\n",
            "Computing the msd similarity matrix...\n",
            "Done computing similarity matrix.\n",
            "Estimating biases using als...\n",
            "Computing the msd similarity matrix...\n",
            "Done computing similarity matrix.\n",
            "Estimating biases using als...\n",
            "Computing the msd similarity matrix...\n",
            "Done computing similarity matrix.\n"
          ]
        }
      ],
      "source": [
        "#Perform SVD and KNN over the train set and test it over the test set and compare the test rmse\n",
        "benchmark = []\n",
        "# Iterate over all algorithms\n",
        "for algorithm in [SVD(), KNNBaseline(user_based=False), KNNBaseline(user_based=True)]:\n",
        "    # Perform cross validation\n",
        "    results = cross_validate(algorithm, data, measures=['RMSE'], cv=3, verbose=False)\n",
        "    \n",
        "    # Get results & append algorithm name\n",
        "    tmp = pd.DataFrame.from_dict(results).mean(axis=0)\n",
        "    tmp = tmp.append(pd.Series([str(algorithm).split(' ')[0].split('.')[-1]], index=['Algorithm']))\n",
        "    benchmark.append(tmp)"
      ]
    },
    {
      "cell_type": "code",
      "execution_count": 9,
      "metadata": {
        "id": "uybbFdUuVDgH"
      },
      "outputs": [],
      "source": [
        "surprise_results = pd.DataFrame(benchmark).set_index('Algorithm').sort_values('test_rmse')"
      ]
    },
    {
      "cell_type": "markdown",
      "metadata": {
        "id": "3zvhiewu2M84"
      },
      "source": [
        "###Lets look at the test rmse of SVD v/s KNN"
      ]
    },
    {
      "cell_type": "code",
      "execution_count": 10,
      "metadata": {
        "colab": {
          "base_uri": "https://localhost:8080/",
          "height": 143
        },
        "id": "VF86gkuPVEmg",
        "outputId": "dcdb5db3-9f7f-4127-dc49-3f5a758fc475"
      },
      "outputs": [
        {
          "data": {
            "text/html": [
              "<div>\n",
              "<style scoped>\n",
              "    .dataframe tbody tr th:only-of-type {\n",
              "        vertical-align: middle;\n",
              "    }\n",
              "\n",
              "    .dataframe tbody tr th {\n",
              "        vertical-align: top;\n",
              "    }\n",
              "\n",
              "    .dataframe thead th {\n",
              "        text-align: right;\n",
              "    }\n",
              "</style>\n",
              "<table border=\"1\" class=\"dataframe\">\n",
              "  <thead>\n",
              "    <tr style=\"text-align: right;\">\n",
              "      <th></th>\n",
              "      <th>test_rmse</th>\n",
              "      <th>fit_time</th>\n",
              "      <th>test_time</th>\n",
              "    </tr>\n",
              "    <tr>\n",
              "      <th>Algorithm</th>\n",
              "      <th></th>\n",
              "      <th></th>\n",
              "      <th></th>\n",
              "    </tr>\n",
              "  </thead>\n",
              "  <tbody>\n",
              "    <tr>\n",
              "      <th>SVD</th>\n",
              "      <td>0.902950</td>\n",
              "      <td>2.434495</td>\n",
              "      <td>0.168004</td>\n",
              "    </tr>\n",
              "    <tr>\n",
              "      <th>KNNBaseline</th>\n",
              "      <td>0.904427</td>\n",
              "      <td>0.177787</td>\n",
              "      <td>1.811796</td>\n",
              "    </tr>\n",
              "    <tr>\n",
              "      <th>KNNBaseline</th>\n",
              "      <td>0.904804</td>\n",
              "      <td>0.182523</td>\n",
              "      <td>1.803131</td>\n",
              "    </tr>\n",
              "  </tbody>\n",
              "</table>\n",
              "</div>"
            ],
            "text/plain": [
              "             test_rmse  fit_time  test_time\n",
              "Algorithm                                  \n",
              "SVD           0.902950  2.434495   0.168004\n",
              "KNNBaseline   0.904427  0.177787   1.811796\n",
              "KNNBaseline   0.904804  0.182523   1.803131"
            ]
          },
          "execution_count": 10,
          "metadata": {},
          "output_type": "execute_result"
        }
      ],
      "source": [
        "surprise_results"
      ]
    },
    {
      "cell_type": "markdown",
      "metadata": {
        "id": "7s1zi8nf8PQf"
      },
      "source": [
        "###Lets perform SVD as its test_rmse is marginally lower"
      ]
    },
    {
      "cell_type": "code",
      "execution_count": 13,
      "metadata": {
        "colab": {
          "base_uri": "https://localhost:8080/"
        },
        "id": "mskFkTuEWJkq",
        "outputId": "59f449a2-cfe6-4f08-a3ac-a4fa6e3f419b"
      },
      "outputs": [
        {
          "data": {
            "text/plain": [
              "{'test_rmse': array([0.90251544, 0.89850003, 0.90636769]),\n",
              " 'fit_time': (2.5406136512756348, 2.8770008087158203, 2.508364200592041),\n",
              " 'test_time': (0.2059919834136963, 0.19899821281433105, 0.20122599601745605)}"
            ]
          },
          "execution_count": 13,
          "metadata": {},
          "output_type": "execute_result"
        }
      ],
      "source": [
        "algo=SVD()\n",
        "cross_validate(algo, data, measures=['RMSE'], cv=3, verbose=False)"
      ]
    },
    {
      "cell_type": "markdown",
      "metadata": {
        "id": "HUAqe6Az8X6p"
      },
      "source": [
        "###Split the data into train and test sets and then predict the users ratings to unseen movies"
      ]
    },
    {
      "cell_type": "code",
      "execution_count": 14,
      "metadata": {
        "colab": {
          "base_uri": "https://localhost:8080/"
        },
        "id": "bokBRRpAWba-",
        "outputId": "2d71088a-15be-4f0d-db7d-8ea7bea1b2e5"
      },
      "outputs": [
        {
          "name": "stdout",
          "output_type": "stream",
          "text": [
            "RMSE: 0.9021\n"
          ]
        },
        {
          "data": {
            "text/plain": [
              "0.9021454406360422"
            ]
          },
          "execution_count": 14,
          "metadata": {},
          "output_type": "execute_result"
        }
      ],
      "source": [
        "trainset, testset = train_test_split(data, test_size=0.25)\n",
        "algo = SVD()\n",
        "predictions = algo.fit(trainset).test(testset)\n",
        "accuracy.rmse(predictions)"
      ]
    },
    {
      "cell_type": "code",
      "execution_count": 15,
      "metadata": {
        "id": "NRglgOWlWbLe"
      },
      "outputs": [],
      "source": [
        "def get_Iu(uid):\n",
        "    \"\"\" return the number of items rated by given user\n",
        "    args: \n",
        "      uid: the id of the user\n",
        "    returns: \n",
        "      the number of items rated by the user\n",
        "    \"\"\"\n",
        "    try:\n",
        "        return len(trainset.ur[trainset.to_inner_uid(uid)])\n",
        "    except ValueError: # user was not part of the trainset\n",
        "        return 0\n",
        "    \n",
        "def get_Ui(iid):\n",
        "    \"\"\" return number of users that have rated given item\n",
        "    args:\n",
        "      iid: the raw id of the item\n",
        "    returns:\n",
        "      the number of users that have rated the item.\n",
        "    \"\"\"\n",
        "    try: \n",
        "        return len(trainset.ir[trainset.to_inner_iid(iid)])\n",
        "    except ValueError:\n",
        "        return 0\n",
        "    \n",
        "#Here,uid is user id,iid is movie id rui is rating ,est is estimated rating by this user to this movie\n",
        "df = pd.DataFrame(predictions, columns=['uid', 'iid', 'rui', 'est', 'details'])\n",
        "df['Iu'] = df.uid.apply(get_Iu)\n",
        "df['Ui'] = df.iid.apply(get_Ui)\n",
        "df['err'] = abs(df.est - df.rui)"
      ]
    },
    {
      "cell_type": "code",
      "execution_count": 26,
      "metadata": {
        "id": "R2aeWUcoXLwB"
      },
      "outputs": [],
      "source": [
        "df=df.sort_values(by='uid')"
      ]
    },
    {
      "cell_type": "code",
      "execution_count": 27,
      "metadata": {
        "colab": {
          "base_uri": "https://localhost:8080/",
          "height": 206
        },
        "id": "y5zLWVmYXWm1",
        "outputId": "6d59927f-8d68-489f-feaf-2c9bd3d2a8cb"
      },
      "outputs": [
        {
          "data": {
            "text/html": [
              "<div>\n",
              "<style scoped>\n",
              "    .dataframe tbody tr th:only-of-type {\n",
              "        vertical-align: middle;\n",
              "    }\n",
              "\n",
              "    .dataframe tbody tr th {\n",
              "        vertical-align: top;\n",
              "    }\n",
              "\n",
              "    .dataframe thead th {\n",
              "        text-align: right;\n",
              "    }\n",
              "</style>\n",
              "<table border=\"1\" class=\"dataframe\">\n",
              "  <thead>\n",
              "    <tr style=\"text-align: right;\">\n",
              "      <th></th>\n",
              "      <th>uid</th>\n",
              "      <th>iid</th>\n",
              "      <th>rui</th>\n",
              "      <th>est</th>\n",
              "      <th>details</th>\n",
              "      <th>Iu</th>\n",
              "      <th>Ui</th>\n",
              "      <th>err</th>\n",
              "    </tr>\n",
              "  </thead>\n",
              "  <tbody>\n",
              "    <tr>\n",
              "      <th>12597</th>\n",
              "      <td>1</td>\n",
              "      <td>1287</td>\n",
              "      <td>2.0</td>\n",
              "      <td>3.502224</td>\n",
              "      <td>{'was_impossible': False}</td>\n",
              "      <td>15</td>\n",
              "      <td>30</td>\n",
              "      <td>1.502224</td>\n",
              "    </tr>\n",
              "    <tr>\n",
              "      <th>22127</th>\n",
              "      <td>1</td>\n",
              "      <td>2455</td>\n",
              "      <td>2.5</td>\n",
              "      <td>2.617151</td>\n",
              "      <td>{'was_impossible': False}</td>\n",
              "      <td>15</td>\n",
              "      <td>35</td>\n",
              "      <td>0.117151</td>\n",
              "    </tr>\n",
              "    <tr>\n",
              "      <th>16311</th>\n",
              "      <td>1</td>\n",
              "      <td>1293</td>\n",
              "      <td>2.0</td>\n",
              "      <td>3.574166</td>\n",
              "      <td>{'was_impossible': False}</td>\n",
              "      <td>15</td>\n",
              "      <td>31</td>\n",
              "      <td>1.574166</td>\n",
              "    </tr>\n",
              "    <tr>\n",
              "      <th>2597</th>\n",
              "      <td>1</td>\n",
              "      <td>1061</td>\n",
              "      <td>3.0</td>\n",
              "      <td>2.941761</td>\n",
              "      <td>{'was_impossible': False}</td>\n",
              "      <td>15</td>\n",
              "      <td>25</td>\n",
              "      <td>0.058239</td>\n",
              "    </tr>\n",
              "    <tr>\n",
              "      <th>6817</th>\n",
              "      <td>1</td>\n",
              "      <td>2193</td>\n",
              "      <td>2.0</td>\n",
              "      <td>2.459153</td>\n",
              "      <td>{'was_impossible': False}</td>\n",
              "      <td>15</td>\n",
              "      <td>32</td>\n",
              "      <td>0.459153</td>\n",
              "    </tr>\n",
              "  </tbody>\n",
              "</table>\n",
              "</div>"
            ],
            "text/plain": [
              "       uid   iid  rui       est                    details  Iu  Ui       err\n",
              "12597    1  1287  2.0  3.502224  {'was_impossible': False}  15  30  1.502224\n",
              "22127    1  2455  2.5  2.617151  {'was_impossible': False}  15  35  0.117151\n",
              "16311    1  1293  2.0  3.574166  {'was_impossible': False}  15  31  1.574166\n",
              "2597     1  1061  3.0  2.941761  {'was_impossible': False}  15  25  0.058239\n",
              "6817     1  2193  2.0  2.459153  {'was_impossible': False}  15  32  0.459153"
            ]
          },
          "execution_count": 27,
          "metadata": {},
          "output_type": "execute_result"
        }
      ],
      "source": [
        "df.head()"
      ]
    },
    {
      "cell_type": "code",
      "execution_count": 28,
      "metadata": {
        "colab": {
          "base_uri": "https://localhost:8080/"
        },
        "id": "qwYQs8EklMKh",
        "outputId": "3f53a6ed-7ca3-472f-b2cc-882727b3892e"
      },
      "outputs": [
        {
          "data": {
            "text/plain": [
              "Prediction(uid=1, iid=202, r_ui=3, est=2.9080229728247837, details={'was_impossible': False})"
            ]
          },
          "execution_count": 28,
          "metadata": {},
          "output_type": "execute_result"
        }
      ],
      "source": [
        "algo.predict(1, 202, 3)"
      ]
    },
    {
      "cell_type": "markdown",
      "metadata": {
        "id": "TYSjlIuc8wjA"
      },
      "source": [
        "##Get the top 10 recommendations from collaborative filtering"
      ]
    },
    {
      "cell_type": "code",
      "execution_count": 29,
      "metadata": {
        "id": "3JJX_MQrpSlN"
      },
      "outputs": [],
      "source": [
        "def get_top_10_recommendations(uid):\n",
        "  #Takes userId as input\n",
        "  #And then recommends top 10 movies with best estimated ratings\n",
        "  #Using SVD\n",
        "  estimated_ratings=np.zeros(4000)\n",
        "  for iid in range(4000):\n",
        "    estimated_ratings[iid]=algo.predict(uid,iid)[3]\n",
        "  top_indices=estimated_ratings.argsort()[-10:][::-1]\n",
        "  for idx in range(10):\n",
        "    print(movies.loc[top_indices[idx],'title'])"
      ]
    },
    {
      "cell_type": "markdown",
      "metadata": {
        "id": "QCl0giLE_vwI"
      },
      "source": [
        "Choose the viewer id to recommend movies to"
      ]
    },
    {
      "cell_type": "code",
      "execution_count": 30,
      "metadata": {
        "id": "NjsRXqST9Ds6"
      },
      "outputs": [],
      "source": [
        "id=348"
      ]
    },
    {
      "cell_type": "markdown",
      "metadata": {
        "id": "Mr3RJ69n9Fs_"
      },
      "source": [
        "Lets have a look at his recommended movies"
      ]
    },
    {
      "cell_type": "code",
      "execution_count": 31,
      "metadata": {
        "colab": {
          "base_uri": "https://localhost:8080/"
        },
        "id": "pgn5GlR6rzpJ",
        "outputId": "0191956a-b740-4a58-bb5d-eebc95cecc90"
      },
      "outputs": [
        {
          "name": "stdout",
          "output_type": "stream",
          "text": [
            "The Rage: Carrie 2\n",
            "Krrish\n",
            "Shrek\n",
            "The Counselor\n",
            "The Switch\n",
            "Ishtar\n",
            "Muppets Most Wanted\n",
            "City By The Sea\n",
            "Assassins\n",
            "The Last Shot\n"
          ]
        }
      ],
      "source": [
        "get_top_10_recommendations(id)"
      ]
    },
    {
      "cell_type": "markdown",
      "metadata": {},
      "source": [
        "### Understanding the SVD algorithm"
      ]
    },
    {
      "cell_type": "code",
      "execution_count": 72,
      "metadata": {},
      "outputs": [],
      "source": [
        "# Implementing SVD algorithm from scratch\n",
        "# We will use SVD algorithm for predicting the top 10 movies for a given user\n",
        "\n",
        "import numpy as np\n",
        "from scipy.sparse.linalg import svds\n",
        "\n",
        "# Make the ratings matrix \n",
        "movies_ratings=ratings.pivot(index='userId',columns='movieId',values='rating').fillna(0)\n",
        "    \n"
      ]
    },
    {
      "cell_type": "code",
      "execution_count": 70,
      "metadata": {},
      "outputs": [
        {
          "data": {
            "text/html": [
              "<div>\n",
              "<style scoped>\n",
              "    .dataframe tbody tr th:only-of-type {\n",
              "        vertical-align: middle;\n",
              "    }\n",
              "\n",
              "    .dataframe tbody tr th {\n",
              "        vertical-align: top;\n",
              "    }\n",
              "\n",
              "    .dataframe thead th {\n",
              "        text-align: right;\n",
              "    }\n",
              "</style>\n",
              "<table border=\"1\" class=\"dataframe\">\n",
              "  <thead>\n",
              "    <tr style=\"text-align: right;\">\n",
              "      <th>movieId</th>\n",
              "      <th>1</th>\n",
              "      <th>2</th>\n",
              "      <th>3</th>\n",
              "      <th>4</th>\n",
              "      <th>5</th>\n",
              "      <th>6</th>\n",
              "      <th>7</th>\n",
              "      <th>8</th>\n",
              "      <th>9</th>\n",
              "      <th>10</th>\n",
              "      <th>...</th>\n",
              "      <th>161084</th>\n",
              "      <th>161155</th>\n",
              "      <th>161594</th>\n",
              "      <th>161830</th>\n",
              "      <th>161918</th>\n",
              "      <th>161944</th>\n",
              "      <th>162376</th>\n",
              "      <th>162542</th>\n",
              "      <th>162672</th>\n",
              "      <th>163949</th>\n",
              "    </tr>\n",
              "    <tr>\n",
              "      <th>userId</th>\n",
              "      <th></th>\n",
              "      <th></th>\n",
              "      <th></th>\n",
              "      <th></th>\n",
              "      <th></th>\n",
              "      <th></th>\n",
              "      <th></th>\n",
              "      <th></th>\n",
              "      <th></th>\n",
              "      <th></th>\n",
              "      <th></th>\n",
              "      <th></th>\n",
              "      <th></th>\n",
              "      <th></th>\n",
              "      <th></th>\n",
              "      <th></th>\n",
              "      <th></th>\n",
              "      <th></th>\n",
              "      <th></th>\n",
              "      <th></th>\n",
              "      <th></th>\n",
              "    </tr>\n",
              "  </thead>\n",
              "  <tbody>\n",
              "    <tr>\n",
              "      <th>1</th>\n",
              "      <td>0.0</td>\n",
              "      <td>0.0</td>\n",
              "      <td>0.0</td>\n",
              "      <td>0.0</td>\n",
              "      <td>0.0</td>\n",
              "      <td>0.0</td>\n",
              "      <td>0.0</td>\n",
              "      <td>0.0</td>\n",
              "      <td>0.0</td>\n",
              "      <td>0.0</td>\n",
              "      <td>...</td>\n",
              "      <td>0.0</td>\n",
              "      <td>0.0</td>\n",
              "      <td>0.0</td>\n",
              "      <td>0.0</td>\n",
              "      <td>0.0</td>\n",
              "      <td>0.0</td>\n",
              "      <td>0.0</td>\n",
              "      <td>0.0</td>\n",
              "      <td>0.0</td>\n",
              "      <td>0.0</td>\n",
              "    </tr>\n",
              "    <tr>\n",
              "      <th>2</th>\n",
              "      <td>0.0</td>\n",
              "      <td>0.0</td>\n",
              "      <td>0.0</td>\n",
              "      <td>0.0</td>\n",
              "      <td>0.0</td>\n",
              "      <td>0.0</td>\n",
              "      <td>0.0</td>\n",
              "      <td>0.0</td>\n",
              "      <td>0.0</td>\n",
              "      <td>4.0</td>\n",
              "      <td>...</td>\n",
              "      <td>0.0</td>\n",
              "      <td>0.0</td>\n",
              "      <td>0.0</td>\n",
              "      <td>0.0</td>\n",
              "      <td>0.0</td>\n",
              "      <td>0.0</td>\n",
              "      <td>0.0</td>\n",
              "      <td>0.0</td>\n",
              "      <td>0.0</td>\n",
              "      <td>0.0</td>\n",
              "    </tr>\n",
              "    <tr>\n",
              "      <th>3</th>\n",
              "      <td>0.0</td>\n",
              "      <td>0.0</td>\n",
              "      <td>0.0</td>\n",
              "      <td>0.0</td>\n",
              "      <td>0.0</td>\n",
              "      <td>0.0</td>\n",
              "      <td>0.0</td>\n",
              "      <td>0.0</td>\n",
              "      <td>0.0</td>\n",
              "      <td>0.0</td>\n",
              "      <td>...</td>\n",
              "      <td>0.0</td>\n",
              "      <td>0.0</td>\n",
              "      <td>0.0</td>\n",
              "      <td>0.0</td>\n",
              "      <td>0.0</td>\n",
              "      <td>0.0</td>\n",
              "      <td>0.0</td>\n",
              "      <td>0.0</td>\n",
              "      <td>0.0</td>\n",
              "      <td>0.0</td>\n",
              "    </tr>\n",
              "    <tr>\n",
              "      <th>4</th>\n",
              "      <td>0.0</td>\n",
              "      <td>0.0</td>\n",
              "      <td>0.0</td>\n",
              "      <td>0.0</td>\n",
              "      <td>0.0</td>\n",
              "      <td>0.0</td>\n",
              "      <td>0.0</td>\n",
              "      <td>0.0</td>\n",
              "      <td>0.0</td>\n",
              "      <td>4.0</td>\n",
              "      <td>...</td>\n",
              "      <td>0.0</td>\n",
              "      <td>0.0</td>\n",
              "      <td>0.0</td>\n",
              "      <td>0.0</td>\n",
              "      <td>0.0</td>\n",
              "      <td>0.0</td>\n",
              "      <td>0.0</td>\n",
              "      <td>0.0</td>\n",
              "      <td>0.0</td>\n",
              "      <td>0.0</td>\n",
              "    </tr>\n",
              "    <tr>\n",
              "      <th>5</th>\n",
              "      <td>0.0</td>\n",
              "      <td>0.0</td>\n",
              "      <td>4.0</td>\n",
              "      <td>0.0</td>\n",
              "      <td>0.0</td>\n",
              "      <td>0.0</td>\n",
              "      <td>0.0</td>\n",
              "      <td>0.0</td>\n",
              "      <td>0.0</td>\n",
              "      <td>0.0</td>\n",
              "      <td>...</td>\n",
              "      <td>0.0</td>\n",
              "      <td>0.0</td>\n",
              "      <td>0.0</td>\n",
              "      <td>0.0</td>\n",
              "      <td>0.0</td>\n",
              "      <td>0.0</td>\n",
              "      <td>0.0</td>\n",
              "      <td>0.0</td>\n",
              "      <td>0.0</td>\n",
              "      <td>0.0</td>\n",
              "    </tr>\n",
              "  </tbody>\n",
              "</table>\n",
              "<p>5 rows × 9066 columns</p>\n",
              "</div>"
            ],
            "text/plain": [
              "movieId  1       2       3       4       5       6       7       8       \\\n",
              "userId                                                                    \n",
              "1           0.0     0.0     0.0     0.0     0.0     0.0     0.0     0.0   \n",
              "2           0.0     0.0     0.0     0.0     0.0     0.0     0.0     0.0   \n",
              "3           0.0     0.0     0.0     0.0     0.0     0.0     0.0     0.0   \n",
              "4           0.0     0.0     0.0     0.0     0.0     0.0     0.0     0.0   \n",
              "5           0.0     0.0     4.0     0.0     0.0     0.0     0.0     0.0   \n",
              "\n",
              "movieId  9       10      ...  161084  161155  161594  161830  161918  161944  \\\n",
              "userId                   ...                                                   \n",
              "1           0.0     0.0  ...     0.0     0.0     0.0     0.0     0.0     0.0   \n",
              "2           0.0     4.0  ...     0.0     0.0     0.0     0.0     0.0     0.0   \n",
              "3           0.0     0.0  ...     0.0     0.0     0.0     0.0     0.0     0.0   \n",
              "4           0.0     4.0  ...     0.0     0.0     0.0     0.0     0.0     0.0   \n",
              "5           0.0     0.0  ...     0.0     0.0     0.0     0.0     0.0     0.0   \n",
              "\n",
              "movieId  162376  162542  162672  163949  \n",
              "userId                                   \n",
              "1           0.0     0.0     0.0     0.0  \n",
              "2           0.0     0.0     0.0     0.0  \n",
              "3           0.0     0.0     0.0     0.0  \n",
              "4           0.0     0.0     0.0     0.0  \n",
              "5           0.0     0.0     0.0     0.0  \n",
              "\n",
              "[5 rows x 9066 columns]"
            ]
          },
          "execution_count": 70,
          "metadata": {},
          "output_type": "execute_result"
        }
      ],
      "source": [
        "movies_ratings.head()"
      ]
    },
    {
      "cell_type": "code",
      "execution_count": 75,
      "metadata": {},
      "outputs": [],
      "source": [
        "# Making recommendations for any user\n",
        "# Normalise the ratings matrix\n",
        "movies_ratings_normalised=movies_ratings - movies_ratings.mean()\n",
        "\n",
        "# Calculate the SVD of the normalised ratings matrix\n",
        "U, sigma, Vt = svds(movies_ratings_normalised, k=50)\n",
        "\n",
        "# Get the top 10 movies for given user id\n",
        "def get_top_10_recommendations(uid, movies_ratings, U, sigma, Vt):\n",
        "    #Takes userId as input\n",
        "    #And then recommends top 10 movies with best estimated ratings\n",
        "    #Using SVD\n",
        "    uid = uid - 1\n",
        "    estimated_ratings=np.zeros(len(movies_ratings.columns))\n",
        "    for iid in range(len(movies_ratings.columns)):\n",
        "        estimated_ratings[iid]=np.dot(U[uid,:],Vt[:, iid])/np.linalg.norm(U[uid,:])\n",
        "    top_indices=estimated_ratings.argsort()[-10:][::-1]\n",
        "    for idx in range(10):\n",
        "        print(movies.loc[top_indices[idx],'title'])"
      ]
    },
    {
      "cell_type": "code",
      "execution_count": 76,
      "metadata": {},
      "outputs": [
        {
          "name": "stdout",
          "output_type": "stream",
          "text": [
            "Thor\n",
            "Vertical Limit\n",
            "The Fifth Element\n",
            "I, Robot\n",
            "Charlie Wilson's War\n",
            "The Brothers Grimm\n",
            "The Curious Case of Benjamin Button\n",
            "Speed Racer\n",
            "Shark Tale\n",
            "Conspiracy Theory\n"
          ]
        }
      ],
      "source": [
        "get_top_10_recommendations(2, movies_ratings, U, sigma, Vt)"
      ]
    },
    {
      "cell_type": "markdown",
      "metadata": {
        "id": "gpDLEzh61UMn"
      },
      "source": [
        "#Content-based filtering"
      ]
    },
    {
      "cell_type": "markdown",
      "metadata": {
        "id": "4-q3HvVd19kh"
      },
      "source": [
        "Content based filtering is more specific to a user as it takes into consideration the viewer's previous activity & ratings given by user to different movies \\\n",
        "The goal is to look at movies the user liked and recommend similar ones based on genre, cast, crew (director, music director etc.), title, tagline etc."
      ]
    },
    {
      "cell_type": "markdown",
      "metadata": {
        "id": "R7Krh9FL1ejz"
      },
      "source": [
        "###![](https://i1.wp.com/astig.ph/wp-content/uploads/2016/01/netflix-philippines-catalog.jpg)"
      ]
    },
    {
      "cell_type": "markdown",
      "metadata": {
        "id": "TrdYhF6U3Vxz"
      },
      "source": [
        "##Importing libraries and loading dataset"
      ]
    },
    {
      "cell_type": "code",
<<<<<<< HEAD:CS419_Movie_Recommendation_System.ipynb
      "execution_count": null,
=======
      "execution_count": 21,
>>>>>>> b1bb88285129e4e47f104c225acc98f4bc381712:Movie_Recommendation_System.ipynb
      "metadata": {
        "colab": {
          "base_uri": "https://localhost:8080/"
        },
        "id": "nJaXyJOD0vIO",
        "outputId": "3b430b48-09c7-4421-92d7-41ee96bcf52a"
      },
<<<<<<< HEAD:CS419_Movie_Recommendation_System.ipynb
      "outputs": [],
=======
      "outputs": [
        {
          "ename": "ModuleNotFoundError",
          "evalue": "No module named 'google.colab'",
          "output_type": "error",
          "traceback": [
            "\u001b[1;31m---------------------------------------------------------------------------\u001b[0m",
            "\u001b[1;31mModuleNotFoundError\u001b[0m                       Traceback (most recent call last)",
            "\u001b[1;32m~\\AppData\\Local\\Temp\\ipykernel_4456\\1408506528.py\u001b[0m in \u001b[0;36m<module>\u001b[1;34m\u001b[0m\n\u001b[1;32m----> 1\u001b[1;33m \u001b[1;32mfrom\u001b[0m \u001b[0mgoogle\u001b[0m\u001b[1;33m.\u001b[0m\u001b[0mcolab\u001b[0m \u001b[1;32mimport\u001b[0m \u001b[0mdrive\u001b[0m\u001b[1;33m\u001b[0m\u001b[1;33m\u001b[0m\u001b[0m\n\u001b[0m\u001b[0;32m      2\u001b[0m \u001b[0mdrive\u001b[0m\u001b[1;33m.\u001b[0m\u001b[0mmount\u001b[0m\u001b[1;33m(\u001b[0m\u001b[1;34m'/content/drive'\u001b[0m\u001b[1;33m)\u001b[0m\u001b[1;33m\u001b[0m\u001b[1;33m\u001b[0m\u001b[0m\n",
            "\u001b[1;31mModuleNotFoundError\u001b[0m: No module named 'google.colab'"
          ]
        }
      ],
>>>>>>> b1bb88285129e4e47f104c225acc98f4bc381712:Movie_Recommendation_System.ipynb
      "source": [
        "from google.colab import drive\n",
        "drive.mount('/content/drive')"
      ]
    },
    {
      "cell_type": "code",
      "execution_count": null,
      "metadata": {
        "colab": {
          "base_uri": "https://localhost:8080/"
        },
        "id": "4ipySNHC3CEt",
        "outputId": "a91c1bce-1c21-43dd-a7cf-c4f8e04761df"
      },
<<<<<<< HEAD:CS419_Movie_Recommendation_System.ipynb
      "outputs": [],
=======
      "outputs": [
        {
          "ename": "FileNotFoundError",
          "evalue": "[Errno 2] No such file or directory: '/content/drive/MyDrive/movies_data/tmdb_5000_movies.csv/tmdb_5000_movies.csv'",
          "output_type": "error",
          "traceback": [
            "\u001b[1;31m---------------------------------------------------------------------------\u001b[0m",
            "\u001b[1;31mFileNotFoundError\u001b[0m                         Traceback (most recent call last)",
            "\u001b[1;32m~\\AppData\\Local\\Temp\\ipykernel_4456\\2722136514.py\u001b[0m in \u001b[0;36m<module>\u001b[1;34m\u001b[0m\n\u001b[0;32m      3\u001b[0m \u001b[1;32mimport\u001b[0m \u001b[0mmatplotlib\u001b[0m\u001b[1;33m.\u001b[0m\u001b[0mpyplot\u001b[0m \u001b[1;32mas\u001b[0m \u001b[0mplt\u001b[0m\u001b[1;33m\u001b[0m\u001b[1;33m\u001b[0m\u001b[0m\n\u001b[0;32m      4\u001b[0m \u001b[1;32mimport\u001b[0m \u001b[0mseaborn\u001b[0m \u001b[1;32mas\u001b[0m \u001b[0msns\u001b[0m\u001b[1;33m\u001b[0m\u001b[1;33m\u001b[0m\u001b[0m\n\u001b[1;32m----> 5\u001b[1;33m \u001b[0mmovies\u001b[0m\u001b[1;33m=\u001b[0m\u001b[0mpd\u001b[0m\u001b[1;33m.\u001b[0m\u001b[0mread_csv\u001b[0m\u001b[1;33m(\u001b[0m\u001b[1;34m\"/content/drive/MyDrive/movies_data/tmdb_5000_movies.csv/tmdb_5000_movies.csv\"\u001b[0m\u001b[1;33m)\u001b[0m\u001b[1;33m\u001b[0m\u001b[1;33m\u001b[0m\u001b[0m\n\u001b[0m\u001b[0;32m      6\u001b[0m \u001b[0mcredits\u001b[0m\u001b[1;33m=\u001b[0m\u001b[0mpd\u001b[0m\u001b[1;33m.\u001b[0m\u001b[0mread_csv\u001b[0m\u001b[1;33m(\u001b[0m\u001b[1;34m\"/content/drive/MyDrive/movies_data/tmdb_5000_credits.csv/tmdb_5000_credits.csv\"\u001b[0m\u001b[1;33m)\u001b[0m\u001b[1;33m\u001b[0m\u001b[1;33m\u001b[0m\u001b[0m\n\u001b[0;32m      7\u001b[0m \u001b[0mprint\u001b[0m\u001b[1;33m(\u001b[0m\u001b[0mmovies\u001b[0m\u001b[1;33m.\u001b[0m\u001b[0mshape\u001b[0m\u001b[1;33m,\u001b[0m\u001b[0mcredits\u001b[0m\u001b[1;33m.\u001b[0m\u001b[0mshape\u001b[0m\u001b[1;33m)\u001b[0m\u001b[1;33m\u001b[0m\u001b[1;33m\u001b[0m\u001b[0m\n",
            "\u001b[1;32mc:\\Users\\Vinit\\anaconda3\\envs\\CS419\\lib\\site-packages\\pandas\\util\\_decorators.py\u001b[0m in \u001b[0;36mwrapper\u001b[1;34m(*args, **kwargs)\u001b[0m\n\u001b[0;32m    309\u001b[0m                     \u001b[0mstacklevel\u001b[0m\u001b[1;33m=\u001b[0m\u001b[0mstacklevel\u001b[0m\u001b[1;33m,\u001b[0m\u001b[1;33m\u001b[0m\u001b[1;33m\u001b[0m\u001b[0m\n\u001b[0;32m    310\u001b[0m                 )\n\u001b[1;32m--> 311\u001b[1;33m             \u001b[1;32mreturn\u001b[0m \u001b[0mfunc\u001b[0m\u001b[1;33m(\u001b[0m\u001b[1;33m*\u001b[0m\u001b[0margs\u001b[0m\u001b[1;33m,\u001b[0m \u001b[1;33m**\u001b[0m\u001b[0mkwargs\u001b[0m\u001b[1;33m)\u001b[0m\u001b[1;33m\u001b[0m\u001b[1;33m\u001b[0m\u001b[0m\n\u001b[0m\u001b[0;32m    312\u001b[0m \u001b[1;33m\u001b[0m\u001b[0m\n\u001b[0;32m    313\u001b[0m         \u001b[1;32mreturn\u001b[0m \u001b[0mwrapper\u001b[0m\u001b[1;33m\u001b[0m\u001b[1;33m\u001b[0m\u001b[0m\n",
            "\u001b[1;32mc:\\Users\\Vinit\\anaconda3\\envs\\CS419\\lib\\site-packages\\pandas\\io\\parsers\\readers.py\u001b[0m in \u001b[0;36mread_csv\u001b[1;34m(filepath_or_buffer, sep, delimiter, header, names, index_col, usecols, squeeze, prefix, mangle_dupe_cols, dtype, engine, converters, true_values, false_values, skipinitialspace, skiprows, skipfooter, nrows, na_values, keep_default_na, na_filter, verbose, skip_blank_lines, parse_dates, infer_datetime_format, keep_date_col, date_parser, dayfirst, cache_dates, iterator, chunksize, compression, thousands, decimal, lineterminator, quotechar, quoting, doublequote, escapechar, comment, encoding, encoding_errors, dialect, error_bad_lines, warn_bad_lines, on_bad_lines, delim_whitespace, low_memory, memory_map, float_precision, storage_options)\u001b[0m\n\u001b[0;32m    584\u001b[0m     \u001b[0mkwds\u001b[0m\u001b[1;33m.\u001b[0m\u001b[0mupdate\u001b[0m\u001b[1;33m(\u001b[0m\u001b[0mkwds_defaults\u001b[0m\u001b[1;33m)\u001b[0m\u001b[1;33m\u001b[0m\u001b[1;33m\u001b[0m\u001b[0m\n\u001b[0;32m    585\u001b[0m \u001b[1;33m\u001b[0m\u001b[0m\n\u001b[1;32m--> 586\u001b[1;33m     \u001b[1;32mreturn\u001b[0m \u001b[0m_read\u001b[0m\u001b[1;33m(\u001b[0m\u001b[0mfilepath_or_buffer\u001b[0m\u001b[1;33m,\u001b[0m \u001b[0mkwds\u001b[0m\u001b[1;33m)\u001b[0m\u001b[1;33m\u001b[0m\u001b[1;33m\u001b[0m\u001b[0m\n\u001b[0m\u001b[0;32m    587\u001b[0m \u001b[1;33m\u001b[0m\u001b[0m\n\u001b[0;32m    588\u001b[0m \u001b[1;33m\u001b[0m\u001b[0m\n",
            "\u001b[1;32mc:\\Users\\Vinit\\anaconda3\\envs\\CS419\\lib\\site-packages\\pandas\\io\\parsers\\readers.py\u001b[0m in \u001b[0;36m_read\u001b[1;34m(filepath_or_buffer, kwds)\u001b[0m\n\u001b[0;32m    480\u001b[0m \u001b[1;33m\u001b[0m\u001b[0m\n\u001b[0;32m    481\u001b[0m     \u001b[1;31m# Create the parser.\u001b[0m\u001b[1;33m\u001b[0m\u001b[1;33m\u001b[0m\u001b[1;33m\u001b[0m\u001b[0m\n\u001b[1;32m--> 482\u001b[1;33m     \u001b[0mparser\u001b[0m \u001b[1;33m=\u001b[0m \u001b[0mTextFileReader\u001b[0m\u001b[1;33m(\u001b[0m\u001b[0mfilepath_or_buffer\u001b[0m\u001b[1;33m,\u001b[0m \u001b[1;33m**\u001b[0m\u001b[0mkwds\u001b[0m\u001b[1;33m)\u001b[0m\u001b[1;33m\u001b[0m\u001b[1;33m\u001b[0m\u001b[0m\n\u001b[0m\u001b[0;32m    483\u001b[0m \u001b[1;33m\u001b[0m\u001b[0m\n\u001b[0;32m    484\u001b[0m     \u001b[1;32mif\u001b[0m \u001b[0mchunksize\u001b[0m \u001b[1;32mor\u001b[0m \u001b[0miterator\u001b[0m\u001b[1;33m:\u001b[0m\u001b[1;33m\u001b[0m\u001b[1;33m\u001b[0m\u001b[0m\n",
            "\u001b[1;32mc:\\Users\\Vinit\\anaconda3\\envs\\CS419\\lib\\site-packages\\pandas\\io\\parsers\\readers.py\u001b[0m in \u001b[0;36m__init__\u001b[1;34m(self, f, engine, **kwds)\u001b[0m\n\u001b[0;32m    809\u001b[0m             \u001b[0mself\u001b[0m\u001b[1;33m.\u001b[0m\u001b[0moptions\u001b[0m\u001b[1;33m[\u001b[0m\u001b[1;34m\"has_index_names\"\u001b[0m\u001b[1;33m]\u001b[0m \u001b[1;33m=\u001b[0m \u001b[0mkwds\u001b[0m\u001b[1;33m[\u001b[0m\u001b[1;34m\"has_index_names\"\u001b[0m\u001b[1;33m]\u001b[0m\u001b[1;33m\u001b[0m\u001b[1;33m\u001b[0m\u001b[0m\n\u001b[0;32m    810\u001b[0m \u001b[1;33m\u001b[0m\u001b[0m\n\u001b[1;32m--> 811\u001b[1;33m         \u001b[0mself\u001b[0m\u001b[1;33m.\u001b[0m\u001b[0m_engine\u001b[0m \u001b[1;33m=\u001b[0m \u001b[0mself\u001b[0m\u001b[1;33m.\u001b[0m\u001b[0m_make_engine\u001b[0m\u001b[1;33m(\u001b[0m\u001b[0mself\u001b[0m\u001b[1;33m.\u001b[0m\u001b[0mengine\u001b[0m\u001b[1;33m)\u001b[0m\u001b[1;33m\u001b[0m\u001b[1;33m\u001b[0m\u001b[0m\n\u001b[0m\u001b[0;32m    812\u001b[0m \u001b[1;33m\u001b[0m\u001b[0m\n\u001b[0;32m    813\u001b[0m     \u001b[1;32mdef\u001b[0m \u001b[0mclose\u001b[0m\u001b[1;33m(\u001b[0m\u001b[0mself\u001b[0m\u001b[1;33m)\u001b[0m\u001b[1;33m:\u001b[0m\u001b[1;33m\u001b[0m\u001b[1;33m\u001b[0m\u001b[0m\n",
            "\u001b[1;32mc:\\Users\\Vinit\\anaconda3\\envs\\CS419\\lib\\site-packages\\pandas\\io\\parsers\\readers.py\u001b[0m in \u001b[0;36m_make_engine\u001b[1;34m(self, engine)\u001b[0m\n\u001b[0;32m   1038\u001b[0m             )\n\u001b[0;32m   1039\u001b[0m         \u001b[1;31m# error: Too many arguments for \"ParserBase\"\u001b[0m\u001b[1;33m\u001b[0m\u001b[1;33m\u001b[0m\u001b[1;33m\u001b[0m\u001b[0m\n\u001b[1;32m-> 1040\u001b[1;33m         \u001b[1;32mreturn\u001b[0m \u001b[0mmapping\u001b[0m\u001b[1;33m[\u001b[0m\u001b[0mengine\u001b[0m\u001b[1;33m]\u001b[0m\u001b[1;33m(\u001b[0m\u001b[0mself\u001b[0m\u001b[1;33m.\u001b[0m\u001b[0mf\u001b[0m\u001b[1;33m,\u001b[0m \u001b[1;33m**\u001b[0m\u001b[0mself\u001b[0m\u001b[1;33m.\u001b[0m\u001b[0moptions\u001b[0m\u001b[1;33m)\u001b[0m  \u001b[1;31m# type: ignore[call-arg]\u001b[0m\u001b[1;33m\u001b[0m\u001b[1;33m\u001b[0m\u001b[0m\n\u001b[0m\u001b[0;32m   1041\u001b[0m \u001b[1;33m\u001b[0m\u001b[0m\n\u001b[0;32m   1042\u001b[0m     \u001b[1;32mdef\u001b[0m \u001b[0m_failover_to_python\u001b[0m\u001b[1;33m(\u001b[0m\u001b[0mself\u001b[0m\u001b[1;33m)\u001b[0m\u001b[1;33m:\u001b[0m\u001b[1;33m\u001b[0m\u001b[1;33m\u001b[0m\u001b[0m\n",
            "\u001b[1;32mc:\\Users\\Vinit\\anaconda3\\envs\\CS419\\lib\\site-packages\\pandas\\io\\parsers\\c_parser_wrapper.py\u001b[0m in \u001b[0;36m__init__\u001b[1;34m(self, src, **kwds)\u001b[0m\n\u001b[0;32m     49\u001b[0m \u001b[1;33m\u001b[0m\u001b[0m\n\u001b[0;32m     50\u001b[0m         \u001b[1;31m# open handles\u001b[0m\u001b[1;33m\u001b[0m\u001b[1;33m\u001b[0m\u001b[1;33m\u001b[0m\u001b[0m\n\u001b[1;32m---> 51\u001b[1;33m         \u001b[0mself\u001b[0m\u001b[1;33m.\u001b[0m\u001b[0m_open_handles\u001b[0m\u001b[1;33m(\u001b[0m\u001b[0msrc\u001b[0m\u001b[1;33m,\u001b[0m \u001b[0mkwds\u001b[0m\u001b[1;33m)\u001b[0m\u001b[1;33m\u001b[0m\u001b[1;33m\u001b[0m\u001b[0m\n\u001b[0m\u001b[0;32m     52\u001b[0m         \u001b[1;32massert\u001b[0m \u001b[0mself\u001b[0m\u001b[1;33m.\u001b[0m\u001b[0mhandles\u001b[0m \u001b[1;32mis\u001b[0m \u001b[1;32mnot\u001b[0m \u001b[1;32mNone\u001b[0m\u001b[1;33m\u001b[0m\u001b[1;33m\u001b[0m\u001b[0m\n\u001b[0;32m     53\u001b[0m \u001b[1;33m\u001b[0m\u001b[0m\n",
            "\u001b[1;32mc:\\Users\\Vinit\\anaconda3\\envs\\CS419\\lib\\site-packages\\pandas\\io\\parsers\\base_parser.py\u001b[0m in \u001b[0;36m_open_handles\u001b[1;34m(self, src, kwds)\u001b[0m\n\u001b[0;32m    227\u001b[0m             \u001b[0mmemory_map\u001b[0m\u001b[1;33m=\u001b[0m\u001b[0mkwds\u001b[0m\u001b[1;33m.\u001b[0m\u001b[0mget\u001b[0m\u001b[1;33m(\u001b[0m\u001b[1;34m\"memory_map\"\u001b[0m\u001b[1;33m,\u001b[0m \u001b[1;32mFalse\u001b[0m\u001b[1;33m)\u001b[0m\u001b[1;33m,\u001b[0m\u001b[1;33m\u001b[0m\u001b[1;33m\u001b[0m\u001b[0m\n\u001b[0;32m    228\u001b[0m             \u001b[0mstorage_options\u001b[0m\u001b[1;33m=\u001b[0m\u001b[0mkwds\u001b[0m\u001b[1;33m.\u001b[0m\u001b[0mget\u001b[0m\u001b[1;33m(\u001b[0m\u001b[1;34m\"storage_options\"\u001b[0m\u001b[1;33m,\u001b[0m \u001b[1;32mNone\u001b[0m\u001b[1;33m)\u001b[0m\u001b[1;33m,\u001b[0m\u001b[1;33m\u001b[0m\u001b[1;33m\u001b[0m\u001b[0m\n\u001b[1;32m--> 229\u001b[1;33m             \u001b[0merrors\u001b[0m\u001b[1;33m=\u001b[0m\u001b[0mkwds\u001b[0m\u001b[1;33m.\u001b[0m\u001b[0mget\u001b[0m\u001b[1;33m(\u001b[0m\u001b[1;34m\"encoding_errors\"\u001b[0m\u001b[1;33m,\u001b[0m \u001b[1;34m\"strict\"\u001b[0m\u001b[1;33m)\u001b[0m\u001b[1;33m,\u001b[0m\u001b[1;33m\u001b[0m\u001b[1;33m\u001b[0m\u001b[0m\n\u001b[0m\u001b[0;32m    230\u001b[0m         )\n\u001b[0;32m    231\u001b[0m \u001b[1;33m\u001b[0m\u001b[0m\n",
            "\u001b[1;32mc:\\Users\\Vinit\\anaconda3\\envs\\CS419\\lib\\site-packages\\pandas\\io\\common.py\u001b[0m in \u001b[0;36mget_handle\u001b[1;34m(path_or_buf, mode, encoding, compression, memory_map, is_text, errors, storage_options)\u001b[0m\n\u001b[0;32m    705\u001b[0m                 \u001b[0mencoding\u001b[0m\u001b[1;33m=\u001b[0m\u001b[0mioargs\u001b[0m\u001b[1;33m.\u001b[0m\u001b[0mencoding\u001b[0m\u001b[1;33m,\u001b[0m\u001b[1;33m\u001b[0m\u001b[1;33m\u001b[0m\u001b[0m\n\u001b[0;32m    706\u001b[0m                 \u001b[0merrors\u001b[0m\u001b[1;33m=\u001b[0m\u001b[0merrors\u001b[0m\u001b[1;33m,\u001b[0m\u001b[1;33m\u001b[0m\u001b[1;33m\u001b[0m\u001b[0m\n\u001b[1;32m--> 707\u001b[1;33m                 \u001b[0mnewline\u001b[0m\u001b[1;33m=\u001b[0m\u001b[1;34m\"\"\u001b[0m\u001b[1;33m,\u001b[0m\u001b[1;33m\u001b[0m\u001b[1;33m\u001b[0m\u001b[0m\n\u001b[0m\u001b[0;32m    708\u001b[0m             )\n\u001b[0;32m    709\u001b[0m         \u001b[1;32melse\u001b[0m\u001b[1;33m:\u001b[0m\u001b[1;33m\u001b[0m\u001b[1;33m\u001b[0m\u001b[0m\n",
            "\u001b[1;31mFileNotFoundError\u001b[0m: [Errno 2] No such file or directory: '/content/drive/MyDrive/movies_data/tmdb_5000_movies.csv/tmdb_5000_movies.csv'"
          ]
        }
      ],
>>>>>>> b1bb88285129e4e47f104c225acc98f4bc381712:Movie_Recommendation_System.ipynb
      "source": [
        "import numpy as np\n",
        "import pandas as pd\n",
        "import matplotlib.pyplot as plt\n",
        "import seaborn as sns\n",
        "movies=pd.read_csv(\"/content/drive/MyDrive/movies_data/tmdb_5000_movies.csv/tmdb_5000_movies.csv\")\n",
        "credits=pd.read_csv(\"/content/drive/MyDrive/movies_data/tmdb_5000_credits.csv/tmdb_5000_credits.csv\")\n",
        "print(movies.shape,credits.shape)"
      ]
    },
    {
      "cell_type": "markdown",
      "metadata": {
        "id": "L530F9gx3yVC"
      },
      "source": [
        "##Data preprocessing & visualization"
      ]
    },
    {
      "cell_type": "code",
      "execution_count": null,
      "metadata": {
        "colab": {
          "base_uri": "https://localhost:8080/"
        },
        "id": "kDkFMpoT3ElU",
        "outputId": "a91d4f80-30a8-4e21-f779-8556011d69c7"
      },
      "outputs": [
        {
          "name": "stdout",
          "output_type": "stream",
          "text": [
            "(4803, 23)\n"
          ]
        }
      ],
      "source": [
        "#rename movie-id to id so as to merge both on the id\n",
        "credits.rename(columns={\"movie_id\":\"id\"},inplace=True)\n",
        "movies= movies.merge(credits,on='id')\n",
        "print(movies.shape)"
      ]
    },
    {
      "cell_type": "code",
      "execution_count": null,
      "metadata": {
        "colab": {
          "base_uri": "https://localhost:8080/"
        },
        "id": "-Dqriy_-KnNT",
        "outputId": "1e376ada-a76d-49ca-b0e5-4c839c567749"
      },
      "outputs": [
        {
          "data": {
            "text/plain": [
              "(4803, 9)"
            ]
          },
          "execution_count": 64,
          "metadata": {},
          "output_type": "execute_result"
        }
      ],
      "source": [
        "relevant_cols=[\"id\",\"title_x\",\"genres\",\"popularity\",\"vote_average\",\"vote_count\",\"cast\",\"crew\",\"keywords\"]\n",
        "movies=movies.loc[:,relevant_cols]\n",
        "movies.shape"
      ]
    },
    {
      "cell_type": "code",
      "execution_count": null,
      "metadata": {
        "colab": {
          "base_uri": "https://localhost:8080/"
        },
        "id": "uIvnpafi4Cx8",
        "outputId": "e9f9aee1-31f1-4089-978e-bebe49ef8dc4"
      },
      "outputs": [
        {
          "name": "stdout",
          "output_type": "stream",
          "text": [
            "Index(['id', 'title', 'genres', 'popularity', 'rating', 'vote_count', 'cast',\n",
            "       'crew', 'keywords'],\n",
            "      dtype='object')\n"
          ]
        },
        {
          "data": {
            "text/plain": [
              "(4803, 9)"
            ]
          },
          "execution_count": 65,
          "metadata": {},
          "output_type": "execute_result"
        }
      ],
      "source": [
        "movies.rename(columns={\"title_x\":\"title\",\"vote_average\":\"rating\"},inplace=True)\n",
        "print(movies.columns)\n",
        "movies.shape"
      ]
    },
    {
      "cell_type": "markdown",
      "metadata": {
        "id": "-CkDncqS4IUm"
      },
      "source": [
        "Lets make a note of features which are critical to examining similarity of movies:\n",
        "\n",
        "\n",
        "\n",
        "1)keywords\n",
        "\n",
        "2)title\n",
        "\n",
        "3)genre\n",
        "\n",
        "4)cast\n",
        "\n",
        "5)crew"
      ]
    },
    {
      "cell_type": "markdown",
      "metadata": {
        "id": "RFcNaJbmBhf_"
      },
      "source": [
        "Firstly,let's convert the keywords,title to a bag of words with tokenisation,stop words"
      ]
    },
    {
      "cell_type": "code",
      "execution_count": null,
      "metadata": {
        "colab": {
          "base_uri": "https://localhost:8080/"
        },
        "id": "vCiv9eNT4Fte",
        "outputId": "8f9d294e-2fa4-484e-806c-d31becb051e7"
      },
      "outputs": [
        {
          "name": "stdout",
          "output_type": "stream",
          "text": [
            "[nltk_data] Downloading package punkt to /root/nltk_data...\n",
            "[nltk_data]   Unzipping tokenizers/punkt.zip.\n",
            "[nltk_data] Downloading package stopwords to /root/nltk_data...\n",
            "[nltk_data]   Unzipping corpora/stopwords.zip.\n",
            "The keywords of the movie: TRON: Legacy are ['program', 'duel', 'motorcycle', 'light', 'computer', 'dystopia', 'artificial', 'neon', 'autocracy', 'secret', 'deception', 'identity', 'intelligence']\n"
          ]
        }
      ],
      "source": [
        "import nltk\n",
        "nltk.download('punkt')\n",
        "nltk.download('stopwords')\n",
        "from nltk.tokenize import word_tokenize\n",
        "from nltk.corpus import stopwords\n",
        "import random\n",
        "row_id=int((100*random.random())//1)                          #sample the keywords of this movie\n",
        "sample=movies.loc[row_id,'keywords']\n",
        "#split into words\n",
        "tokens = word_tokenize(sample)\n",
        "#tokens simply mean that words are broken into their prefixes eg.happiness,happy,happily would all tokenize to happi\n",
        "# remove all tokens that are not alphabetic(eg.punctuation,numbers etc.)\n",
        "words = [word for word in tokens if word.isalpha()]\n",
        "words=list(set(words))\n",
        "if('id' in words):\n",
        "  words.remove('id')\n",
        "if('name' in words):\n",
        "  words.remove('name')\n",
        "#Now,lets remove stopwords i.e. common words like I,am,he,it,on etc. which don't contribute much to the meaning of the sentence\n",
        "stop_words=set(stopwords.words(\"english\"))\n",
        "filtered_words=[]\n",
        "for w in words:\n",
        "  if w not in stop_words:\n",
        "    filtered_words.append(w)\n",
        "print(\"The keywords of the movie:\",movies.loc[row_id,'title'],\"are\",str(filtered_words))"
      ]
    },
    {
      "cell_type": "code",
      "execution_count": null,
      "metadata": {
        "colab": {
          "base_uri": "https://localhost:8080/"
        },
        "id": "Z9qX5reSA1rb",
        "outputId": "0b0f2282-6f36-43f6-d0a7-086fcf269ea1"
      },
      "outputs": [
        {
          "name": "stdout",
          "output_type": "stream",
          "text": [
            "Title: Dawn of the Planet of the Apes | Title(bag of words) ['dawn', 'planet', 'apes'] | keywords(bag of words) ['sequel', 'colony', 'plague', 'animal', 'dystopia', 'scientist', 'medical', 'leader', 'ape', 'attack', 'woods', 'forest', 'monkey', 'research']\n"
          ]
        }
      ],
      "source": [
        "#Now,lets create a function for genreating a list of key_words from the keywords string\n",
        "def get_keywords(keywords):\n",
        "  tokens = word_tokenize(keywords.lower())\n",
        "  #tokens simply mean that words are broken into their prefixes eg.happiness,happy,happily would all tokenize to happi\n",
        "  #remove all tokens that are not alphabetic(eg.punctuation,numbers etc.)\n",
        "  words = [word for word in tokens if word.isalpha()]\n",
        "  words=list(set(words))\n",
        "  if('id' in words):\n",
        "    words.remove('id')\n",
        "  if('name' in words):\n",
        "    words.remove('name')\n",
        "  #Now,lets remove stopwords i.e. common words like I,am,he,it,on etc. which don't contribute much to the meaning of the sentence\n",
        "  stop_words=set(stopwords.words(\"english\"))\n",
        "  filtered_words=[]\n",
        "  for w in words:\n",
        "    if w not in stop_words:\n",
        "      filtered_words.append(w)\n",
        "  return filtered_words\n",
        "\n",
        "def get_title(title):\n",
        "  tokens = word_tokenize(title.lower())\n",
        "  #tokens simply mean that words are broken into their prefixes eg.happiness,happy,happily would all tokenize to happi\n",
        "  #remove all tokens that are not alphabetic(eg.punctuation,numbers etc.)\n",
        "  words = [word for word in tokens if word.isalpha()]\n",
        "  words=list(set(words))\n",
        "  #Now,lets remove stopwords i.e. common words like I,am,he,it,on etc. which don't contribute much to the meaning of the sentence\n",
        "  stop_words=set(stopwords.words(\"english\"))\n",
        "  filtered_words=[]\n",
        "  for w in words:\n",
        "    if w not in stop_words:\n",
        "      filtered_words.append(w)\n",
        "  return filtered_words\n",
        "\n",
        "#lets test these functions\n",
        "row_id=int((100*random.random())//1)\n",
        "print(\"Title:\",movies.loc[row_id,\"title\"],'| Title(bag of words)',str(get_title(movies.loc[row_id,\"title\"])),'| keywords(bag of words)',str(get_keywords(movies.loc[row_id,\"keywords\"])))"
      ]
    },
    {
      "cell_type": "code",
      "execution_count": null,
      "metadata": {
        "id": "HekU3G7wVS7R"
      },
      "outputs": [],
      "source": [
        "#The genre and cast are string type first lets make functions to convert them to dictionaries\n",
        "def process_genre(s):\n",
        "  id_str=s.split(\", \")[0]\n",
        "  genre_str=s.split(\", \")[-1]\n",
        "  genre={}\n",
        "  genre[\"id\"]=int(id_str.split(':')[-1])\n",
        "  genre[\"name\"]=(genre_str.split(':')[-1])[2:-1]\n",
        "  return genre\n",
        "\n",
        "def get_genres(s):\n",
        "  if(len(s)<5):\n",
        "    return {}\n",
        "  genres=s.split(\"}, {\")\n",
        "  genres[0]=genres[0][2:]\n",
        "  genres[-1]=genres[-1][:-2]\n",
        "  genre_dicts=[]\n",
        "  for genre in genres:\n",
        "    genre_dicts.append(process_genre(genre))\n",
        "  return genre_dicts\n",
        "\n",
        "def process_actor(s):\n",
        "  id_str=s.split(\", \")[0]\n",
        "  actor_str=s.split(\", \")[-2]\n",
        "  actor={}\n",
        "  actor[\"id\"]=int(id_str.split(':')[-1])\n",
        "  actor[\"name\"]=(actor_str.split(':')[-1])[2:-1]\n",
        "  return actor\n",
        "\n",
        "def get_cast(s):\n",
        "  if(len(s)<5):\n",
        "    return {}\n",
        "  cast=s.split(\"}, {\")\n",
        "  cast[0]=cast[0][2:]\n",
        "  cast[-1]=cast[-1][:-2]\n",
        "  cast_dicts=[]\n",
        "  for actor in cast:\n",
        "    cast_dicts.append(process_actor(actor))\n",
        "  return cast_dicts\n",
        "\n",
        "def process_crew(s):\n",
        "  id_str=s.split(\", \")[-3]\n",
        "  job_str=s.split(\", \")[-2]\n",
        "  name_str=s.split(\", \")[-1]\n",
        "  crew={}\n",
        "  crew[\"id\"]=id_str.split(':')[-1]\n",
        "  crew[\"job\"]=(job_str.split(':')[-1])[2:-1]\n",
        "  crew[\"name\"]=(name_str.split(':')[-1])[2:-1]\n",
        "  return crew\n",
        "\n",
        "def get_crew(s):\n",
        "  #only director seems relevant we can safely ignore others like cameraman,producer,dubbing artist etc.\n",
        "  if(len(s)<5):\n",
        "    return {}\n",
        "  crew=s.split(\"}, {\")\n",
        "  crew[0]=crew[0][2:]\n",
        "  crew[-1]=crew[-1][:-2]\n",
        "  crew_dicts=[]\n",
        "  for crew_member in crew:\n",
        "    crew_dicts.append(process_crew(crew_member))\n",
        "  return crew_dicts"
      ]
    },
    {
      "cell_type": "code",
      "execution_count": null,
      "metadata": {
        "colab": {
          "base_uri": "https://localhost:8080/"
        },
        "id": "FGpjSnQ4VSX5",
        "outputId": "abe96fab-9b58-441d-da84-5e05d547d759"
      },
      "outputs": [
        {
          "data": {
            "text/plain": [
              "['Christopher Nolan']"
            ]
          },
          "execution_count": 69,
          "metadata": {},
          "output_type": "execute_result"
        }
      ],
      "source": [
        "#now,lets make cast,genre and crew list\n",
        "\n",
        "def get_genre_list(s):\n",
        "  genre_dicts=get_genres(s)\n",
        "  genre_list=[genre[\"name\"] for genre in genre_dicts]\n",
        "  return genre_list\n",
        "\n",
        "def get_cast_list(s):\n",
        "  cast_dicts=get_cast(s)\n",
        "  cast_list=[actor[\"name\"] for actor in cast_dicts]\n",
        "  return cast_list\n",
        "\n",
        "def get_crew_list(s):\n",
        "  crew_dicts=get_crew(s)\n",
        "  crew_list=[crew_member[\"name\"] for crew_member in crew_dicts if crew_member[\"job\"]==\"Director\"]\n",
        "  return crew_list\n",
        "\n",
        "get_crew_list(movies.loc[3,\"crew\"])"
      ]
    },
    {
      "cell_type": "markdown",
      "metadata": {
        "id": "XKk0Ufzrf7ni"
      },
      "source": [
        "Now lets test all these lists for a movie"
      ]
    },
    {
      "cell_type": "code",
      "execution_count": null,
      "metadata": {
        "colab": {
          "base_uri": "https://localhost:8080/"
        },
        "id": "N6k61iItgG1u",
        "outputId": "5bed0ff1-c090-4489-c6e0-6be557bdb160"
      },
      "outputs": [
        {
          "name": "stdout",
          "output_type": "stream",
          "text": [
            "TITLE: Waterworld\n",
            "KEYWORDS: ['mutant', 'doomsday', 'water', 'tattoo', 'dystopia', 'ocean']\n",
            "GENRES: ['Adventure', 'Action']\n",
            "CAST: ['Kevin Costner', 'Chaim Girafi', 'Rick Aviles', 'R. D. Call', 'Zitto Kazann', 'Jeanne Tripplehorn', 'Dennis Hopper', 'Jack Black', 'Zakes Mokae', 'Jack Kehler', 'Tina Majorino', 'Rita Zohar', 'Gerard Murphy', 'Michael Jeter', 'Kim Coates']\n",
            "DIRECTOR: ['Kevin Reynolds']\n"
          ]
        }
      ],
      "source": [
        "row_id=int((100*random.random())//1)\n",
        "print(\"TITLE:\",movies.loc[row_id,\"title\"])\n",
        "print(\"KEYWORDS:\",str(get_keywords(movies.loc[row_id,\"keywords\"])))\n",
        "print(\"GENRES:\",str(get_genre_list(movies.loc[row_id,\"genres\"])))\n",
        "print(\"CAST:\",str(get_cast_list(movies.loc[row_id,\"cast\"])))\n",
        "print(\"DIRECTOR:\",str(get_crew_list(movies.loc[row_id,\"crew\"])))"
      ]
    },
    {
      "cell_type": "markdown",
      "metadata": {
        "id": "0dtF4U8JjTes"
      },
      "source": [
        "Now,let's develop a similarity measure between any 2 arbitary movies"
      ]
    },
    {
      "cell_type": "code",
      "execution_count": null,
      "metadata": {
        "id": "HkQZ3WaRjShm"
      },
      "outputs": [],
      "source": [
        "def get_sim(list1,list2):\n",
        "  ctr=0\n",
        "  for ele in list1:\n",
        "    if ele in list2:\n",
        "      ctr+=1\n",
        "  return ctr/len(list1)\n",
        "\n",
        "def get_similarity(i,j):\n",
        "  #let's the get the features of movies in row i\n",
        "  past_title=get_title(movies.loc[i,\"title\"])\n",
        "  past_keywords=get_keywords(movies.loc[i,\"keywords\"])\n",
        "  past_genres=get_genre_list(movies.loc[i,\"genres\"])\n",
        "  past_cast=get_cast_list(movies.loc[i,\"cast\"])\n",
        "  past_directors=get_crew_list(movies.loc[i,\"crew\"])\n",
        "  #Now,lets get the features of movie at row j\n",
        "  present_title=get_title(movies.loc[j,\"title\"])\n",
        "  present_keywords=get_keywords(movies.loc[j,\"keywords\"])\n",
        "  present_genres=get_genre_list(movies.loc[j,\"genres\"])\n",
        "  present_cast=get_cast_list(movies.loc[j,\"cast\"])\n",
        "  present_directors=get_crew_list(movies.loc[j,\"crew\"])\n",
        "  similarity=0\n",
        "  weights=[5,5,3,10,2]\n",
        "  similarity+=weights[0]*get_sim(past_title,present_title)\n",
        "  similarity+=weights[1]*get_sim(past_keywords,present_keywords)\n",
        "  similarity+=weights[2]*get_sim(past_genres,present_genres)\n",
        "  similarity+=weights[3]*get_sim(past_cast,present_cast)\n",
        "  similarity+=weights[4]*get_sim(past_directors,present_directors)\n",
        "  return similarity/sum(weights)"
      ]
    },
    {
      "cell_type": "code",
      "execution_count": null,
      "metadata": {
        "id": "omrJNLr2MEBL"
      },
      "outputs": [],
      "source": [
        "def get_rowId(movie):\n",
        "  for row_id in range(movies.shape[0]):\n",
        "    if(movie==movies.loc[row_id,\"title\"]):\n",
        "      return row_id\n",
        "  return -1\n",
        "\n",
        "def get_recommendation(watch_history,rating_history=-1):   \n",
        "  #Here,watch_history is list of previous movies & rating_history is the corresponding rating given by the user(if no rating were given feed -1)\n",
        "  similarity_scores=np.zeros((movies.shape[0],len(watch_history)))\n",
        "  rowIds=[]\n",
        "  for past_movie in watch_history:\n",
        "    row_id=get_rowId(past_movie)\n",
        "    if(row_id==-1):\n",
        "      print(past_movie,\"isn't a vaid movie name\")\n",
        "      print(\"Please,check the movie name,maybe some issue with case or 'the','a' etc.\")\n",
        "      return\n",
        "    rowIds.append(row_id)\n",
        "  for idx,past_movie_id in enumerate(rowIds):\n",
        "    for row_id in range(movies.shape[0]):\n",
        "      if row_id not in rowIds:\n",
        "        similarity_scores[row_id,idx]=get_similarity(past_movie_id,row_id)\n",
        "  cummulative_similarity_score=np.dot(similarity_scores,np.array(rating_history))\n",
        "  #Recommend movies with Top 10 cummulative similarity scores\n",
        "  recommended_rowIds=np.flip(cummulative_similarity_score.argsort()[-20:])\n",
        "  top_movies=movies.loc[recommended_rowIds,:]\n",
        "  recommendations=list(top_movies.nlargest(10,'popularity').loc[:,'title'])\n",
        "  print(\"****TOP PERSONALIZED RECOMMENDATIONS****\")\n",
        "  for idx,movie in enumerate(recommendations):\n",
        "    print(idx+1,')',movie)"
      ]
    },
    {
      "cell_type": "markdown",
      "metadata": {
        "id": "NZVqzH8Uxp78"
      },
      "source": [
        "Give a a list of watch history and the corresponding ratings u have given,to get 10 personalised recommendations"
      ]
    },
    {
      "cell_type": "code",
      "execution_count": null,
      "metadata": {
        "colab": {
          "base_uri": "https://localhost:8080/"
        },
        "id": "fniP8TPXz4Qc",
        "outputId": "ef5954e8-34d0-413e-e997-ca50b3d5c8fc"
      },
      "outputs": [
        {
          "name": "stdout",
          "output_type": "stream",
          "text": [
            "How many movies have u rated till now:\n",
            "0\n",
            "Plz wait your recommendation are being processed\n",
            "****TOP PERSONALIZED RECOMMENDATIONS****\n",
            "1 ) The Age of Adaline\n",
            "2 ) The Cabin in the Woods\n",
            "3 ) Southpaw\n",
            "4 ) Sicario\n",
            "5 ) Drag Me to Hell\n",
            "6 ) Corpse Bride\n",
            "7 ) 30 Days of Night\n",
            "8 ) Stranger Than Fiction\n",
            "9 ) Hanna\n",
            "10 ) The Running Man\n"
          ]
        }
      ],
      "source": [
        "n=int(input(\"How many movies have u rated till now:\\n\"))\n",
        "movie_list=[]\n",
        "rating_list=[]\n",
        "i=n\n",
        "while(i>0):\n",
        "  movie=input(\"Give {}th movie name:\".format(n-i+1))\n",
        "  rating=int(input(\"Your rating to this movie:\")) #Keep it 1,2,3,4,5\n",
        "  if(get_rowId(movie)==-1):\n",
        "    print(movie,\"isn't a vaid movie name\")\n",
        "    print(\"Please,check the movie name,maybe some issue with case or 'the','a' etc.\\n\")\n",
        "  else:\n",
        "    movie_list.append(movie)\n",
        "    rating_list.append(rating)\n",
        "    i=i-1\n",
        "    print('Perfect!!!\\n')\n",
        "\n",
        "print(\"Plz wait your recommendation are being processed\")\n",
        "get_recommendation(movie_list,rating_list)"
      ]
    },
    {
      "cell_type": "markdown",
      "metadata": {
        "id": "PeOPu9q_0BPl"
      },
      "source": [
        "Check manually here"
      ]
    },
    {
      "cell_type": "code",
      "execution_count": null,
      "metadata": {
        "colab": {
          "base_uri": "https://localhost:8080/"
        },
        "id": "aHUOgi7Eq1IL",
        "outputId": "a53a02f3-9832-477d-c815-51b7263967ed"
      },
      "outputs": [
        {
          "name": "stdout",
          "output_type": "stream",
          "text": [
            "****TOP PERSONALIZED RECOMMENDATIONS****\n",
            "1 ) Minions\n",
            "2 ) Brave\n",
            "3 ) Monsters, Inc.\n",
            "4 ) How to Train Your Dragon 2\n",
            "5 ) Aladdin\n",
            "6 ) A Bug's Life\n",
            "7 ) Cars\n",
            "8 ) Toy Story 2\n",
            "9 ) WALL·E\n",
            "10 ) Ratatouille\n"
          ]
        }
      ],
      "source": [
        "get_recommendation([\"Hotel Transylvania\",\"Finding Nemo\"],[4,3])"
      ]
    },
    {
      "cell_type": "markdown",
      "metadata": {
        "id": "--_kv93XxJeq"
      },
      "source": [
        "Test if the movie names are appropriate here,\n",
        "For example 'Avengers' is not movie, 'The Avengers'"
      ]
    },
    {
      "cell_type": "markdown",
      "metadata": {
        "id": "b__QRE9VzaE6"
      },
      "source": [
        "If rowId is -1 there is some issue with movie name maybe case,'the','a' missing etc.\n",
        "First check it before feeding as input"
      ]
    },
    {
      "cell_type": "code",
      "execution_count": null,
      "metadata": {
        "colab": {
          "base_uri": "https://localhost:8080/"
        },
        "id": "nO-XGco6xgpk",
        "outputId": "760e3e10-8d77-4946-d85c-ccd447a3bb3e"
      },
      "outputs": [
        {
          "data": {
            "text/plain": [
              "7"
            ]
          },
          "execution_count": 75,
          "metadata": {},
          "output_type": "execute_result"
        }
      ],
      "source": [
        "get_rowId(\"Avengers: Age of Ultron\")"
      ]
    },
    {
      "cell_type": "markdown",
      "metadata": {
        "id": "cdo1EzYuyOOk"
      },
      "source": [
        "Get some radom movie names here for feeding as input"
      ]
    },
    {
      "cell_type": "code",
      "execution_count": null,
      "metadata": {
        "colab": {
          "base_uri": "https://localhost:8080/"
        },
        "id": "w0m0PTOqO6MG",
        "outputId": "8a1b26a4-98ab-4618-ad5e-8094fac4c5dd"
      },
      "outputs": [
        {
          "name": "stdout",
          "output_type": "stream",
          "text": [
            "Pirates of the Caribbean: Dead Man's Chest\n"
          ]
        }
      ],
      "source": [
        "print(movies.loc[12,\"title\"])"
      ]
    }
  ],
  "metadata": {
    "colab": {
      "collapsed_sections": [],
      "name": "Movie-Recommendation-System",
      "provenance": []
    },
    "interpreter": {
      "hash": "08df03469270791abce4d111a163a549e5ba80edbf5c80c571ef63192bbc7146"
    },
    "kernelspec": {
      "display_name": "Python 3.7.11 ('CS419')",
      "language": "python",
      "name": "python3"
    },
    "language_info": {
      "codemirror_mode": {
        "name": "ipython",
        "version": 3
      },
      "file_extension": ".py",
      "mimetype": "text/x-python",
      "name": "python",
      "nbconvert_exporter": "python",
      "pygments_lexer": "ipython3",
      "version": "3.7.11"
    }
  },
  "nbformat": 4,
  "nbformat_minor": 0
}
