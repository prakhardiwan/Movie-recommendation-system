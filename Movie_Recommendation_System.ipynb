{
  "nbformat": 4,
  "nbformat_minor": 0,
  "metadata": {
    "colab": {
      "name": "Movie-Recommendation-System",
      "provenance": [],
      "collapsed_sections": []
    },
    "kernelspec": {
      "name": "python3",
      "display_name": "Python 3"
    }
  },
  "cells": [
    {
      "cell_type": "markdown",
      "source": [
        "#**MOVIE RECOMMENDATION SYSTEM**\n",
        "CS419M Course Project \\\n",
        "\\\n",
        "For this task, we utilized following 3 approaches: \n",
        "1. Collaborative Filtering \n",
        "2. Content-based Filtering \n",
        "3. Demographic Filtering \n",
        "\n",
        "The code for each of them is listed below"
      ],
      "metadata": {
        "id": "zvRQUUD9onul"
      }
    },
    {
      "cell_type": "markdown",
      "metadata": {
        "id": "5UcVK2UILOl_"
      },
      "source": [
        "#Demographic filtering"
      ]
    },
    {
      "cell_type": "markdown",
      "metadata": {
        "id": "X9m8AQPaLYHe"
      },
      "source": [
        "Demographic filtering is a technique used in recommender technique which recommends movies taking into consideration the general popularity of a movie.Since each user is different , this approach is considered to be too simple. The basic idea behind this system is that movies that are more popular and critically acclaimed will have a higher probability of being liked by the average audience.(But that's the best u can do when u know nothing in specific about the user,this is typically the case with new subscribers) \\\n",
        "So,first lets go through the aspects of demographic filtering "
      ]
    },
    {
      "cell_type": "markdown",
      "metadata": {
        "id": "bT-WY7dDKbMT"
      },
      "source": [
        "###![](https://makesmarttv.net/wp-content/uploads/2014/10/netflix_more_movies.jpg)"
      ]
    },
    {
      "cell_type": "markdown",
      "metadata": {
        "id": "oOEUzMuFOQ1a"
      },
      "source": [
        "So,lets get started we will try doing something like the NETFLIX demographic filtering shown above\n",
        "\n",
        "We would try recommending the top 10 highly rated films,top 10 most popular films etc.\n",
        "\n",
        "Followed by more specific recommendations like top 10 of each genre(comedy,action,children&family movies etc.),followed by 5 best movies of popular actors\n",
        "\n",
        "This doesn't involve any machine learning(though ML techniques would be extensively used in content-based & collaborative filtering) but is mainly about capitalizing on the critical stats from the TMDB ratings data\n",
        "\n",
        "Thus,demographic filtering is about giving crude recommendation knowing nothing about the viewer(which is the case for most new subscribers to NETFLIX or other streaming platforms)\n",
        "\n",
        "\n",
        "\n"
      ]
    },
    {
      "cell_type": "markdown",
      "metadata": {
        "id": "kRx108FNXP3L"
      },
      "source": [
        "##Importing libraries and a peek into the dataset"
      ]
    },
    {
      "cell_type": "code",
      "metadata": {
        "colab": {
          "base_uri": "https://localhost:8080/"
        },
        "id": "mcSK2DXDkAqs",
        "outputId": "ff8051bb-3719-47a2-ef7a-465e8e6b7ca5"
      },
      "source": [
        "from google.colab import drive\n",
        "drive.mount('/content/drive')"
      ],
      "execution_count": 21,
      "outputs": [
        {
          "output_type": "stream",
          "name": "stdout",
          "text": [
            "Drive already mounted at /content/drive; to attempt to forcibly remount, call drive.mount(\"/content/drive\", force_remount=True).\n"
          ]
        }
      ]
    },
    {
      "cell_type": "code",
      "metadata": {
        "colab": {
          "base_uri": "https://localhost:8080/"
        },
        "id": "FNQwwd3kKRWF",
        "outputId": "baeba196-b21f-4bd3-e873-251cf5540ba3"
      },
      "source": [
        "import numpy as np\n",
        "import pandas as pd\n",
        "import matplotlib.pyplot as plt\n",
        "import seaborn as sns\n",
        "movies=pd.read_csv(\"/content/drive/MyDrive/movies_data/tmdb_5000_movies.csv/tmdb_5000_movies.csv\")\n",
        "credits=pd.read_csv(\"/content/drive/MyDrive/movies_data/tmdb_5000_credits.csv/tmdb_5000_credits.csv\")\n",
        "print(movies.shape,credits.shape)"
      ],
      "execution_count": 22,
      "outputs": [
        {
          "output_type": "stream",
          "name": "stdout",
          "text": [
            "(4803, 20) (4803, 4)\n"
          ]
        }
      ]
    },
    {
      "cell_type": "code",
      "metadata": {
        "colab": {
          "base_uri": "https://localhost:8080/",
          "height": 773
        },
        "id": "GNYCH5SROD5m",
        "outputId": "c6a3ee93-7ddd-4664-9c82-003ec5e92c3c"
      },
      "source": [
        "movies.head()"
      ],
      "execution_count": 23,
      "outputs": [
        {
          "output_type": "execute_result",
          "data": {
            "text/plain": [
              "      budget                                             genres  \\\n",
              "0  237000000  [{\"id\": 28, \"name\": \"Action\"}, {\"id\": 12, \"nam...   \n",
              "1  300000000  [{\"id\": 12, \"name\": \"Adventure\"}, {\"id\": 14, \"...   \n",
              "2  245000000  [{\"id\": 28, \"name\": \"Action\"}, {\"id\": 12, \"nam...   \n",
              "3  250000000  [{\"id\": 28, \"name\": \"Action\"}, {\"id\": 80, \"nam...   \n",
              "4  260000000  [{\"id\": 28, \"name\": \"Action\"}, {\"id\": 12, \"nam...   \n",
              "\n",
              "                                       homepage      id  \\\n",
              "0                   http://www.avatarmovie.com/   19995   \n",
              "1  http://disney.go.com/disneypictures/pirates/     285   \n",
              "2   http://www.sonypictures.com/movies/spectre/  206647   \n",
              "3            http://www.thedarkknightrises.com/   49026   \n",
              "4          http://movies.disney.com/john-carter   49529   \n",
              "\n",
              "                                            keywords original_language  \\\n",
              "0  [{\"id\": 1463, \"name\": \"culture clash\"}, {\"id\":...                en   \n",
              "1  [{\"id\": 270, \"name\": \"ocean\"}, {\"id\": 726, \"na...                en   \n",
              "2  [{\"id\": 470, \"name\": \"spy\"}, {\"id\": 818, \"name...                en   \n",
              "3  [{\"id\": 849, \"name\": \"dc comics\"}, {\"id\": 853,...                en   \n",
              "4  [{\"id\": 818, \"name\": \"based on novel\"}, {\"id\":...                en   \n",
              "\n",
              "                             original_title  \\\n",
              "0                                    Avatar   \n",
              "1  Pirates of the Caribbean: At World's End   \n",
              "2                                   Spectre   \n",
              "3                     The Dark Knight Rises   \n",
              "4                               John Carter   \n",
              "\n",
              "                                            overview  popularity  \\\n",
              "0  In the 22nd century, a paraplegic Marine is di...  150.437577   \n",
              "1  Captain Barbossa, long believed to be dead, ha...  139.082615   \n",
              "2  A cryptic message from Bond’s past sends him o...  107.376788   \n",
              "3  Following the death of District Attorney Harve...  112.312950   \n",
              "4  John Carter is a war-weary, former military ca...   43.926995   \n",
              "\n",
              "                                production_companies  \\\n",
              "0  [{\"name\": \"Ingenious Film Partners\", \"id\": 289...   \n",
              "1  [{\"name\": \"Walt Disney Pictures\", \"id\": 2}, {\"...   \n",
              "2  [{\"name\": \"Columbia Pictures\", \"id\": 5}, {\"nam...   \n",
              "3  [{\"name\": \"Legendary Pictures\", \"id\": 923}, {\"...   \n",
              "4        [{\"name\": \"Walt Disney Pictures\", \"id\": 2}]   \n",
              "\n",
              "                                production_countries release_date     revenue  \\\n",
              "0  [{\"iso_3166_1\": \"US\", \"name\": \"United States o...   2009-12-10  2787965087   \n",
              "1  [{\"iso_3166_1\": \"US\", \"name\": \"United States o...   2007-05-19   961000000   \n",
              "2  [{\"iso_3166_1\": \"GB\", \"name\": \"United Kingdom\"...   2015-10-26   880674609   \n",
              "3  [{\"iso_3166_1\": \"US\", \"name\": \"United States o...   2012-07-16  1084939099   \n",
              "4  [{\"iso_3166_1\": \"US\", \"name\": \"United States o...   2012-03-07   284139100   \n",
              "\n",
              "   runtime                                   spoken_languages    status  \\\n",
              "0    162.0  [{\"iso_639_1\": \"en\", \"name\": \"English\"}, {\"iso...  Released   \n",
              "1    169.0           [{\"iso_639_1\": \"en\", \"name\": \"English\"}]  Released   \n",
              "2    148.0  [{\"iso_639_1\": \"fr\", \"name\": \"Fran\\u00e7ais\"},...  Released   \n",
              "3    165.0           [{\"iso_639_1\": \"en\", \"name\": \"English\"}]  Released   \n",
              "4    132.0           [{\"iso_639_1\": \"en\", \"name\": \"English\"}]  Released   \n",
              "\n",
              "                                          tagline  \\\n",
              "0                     Enter the World of Pandora.   \n",
              "1  At the end of the world, the adventure begins.   \n",
              "2                           A Plan No One Escapes   \n",
              "3                                 The Legend Ends   \n",
              "4            Lost in our world, found in another.   \n",
              "\n",
              "                                      title  vote_average  vote_count  \n",
              "0                                    Avatar           7.2       11800  \n",
              "1  Pirates of the Caribbean: At World's End           6.9        4500  \n",
              "2                                   Spectre           6.3        4466  \n",
              "3                     The Dark Knight Rises           7.6        9106  \n",
              "4                               John Carter           6.1        2124  "
            ],
            "text/html": [
              "\n",
              "  <div id=\"df-f1de38a1-1b55-4f0c-a807-526a9675d1db\">\n",
              "    <div class=\"colab-df-container\">\n",
              "      <div>\n",
              "<style scoped>\n",
              "    .dataframe tbody tr th:only-of-type {\n",
              "        vertical-align: middle;\n",
              "    }\n",
              "\n",
              "    .dataframe tbody tr th {\n",
              "        vertical-align: top;\n",
              "    }\n",
              "\n",
              "    .dataframe thead th {\n",
              "        text-align: right;\n",
              "    }\n",
              "</style>\n",
              "<table border=\"1\" class=\"dataframe\">\n",
              "  <thead>\n",
              "    <tr style=\"text-align: right;\">\n",
              "      <th></th>\n",
              "      <th>budget</th>\n",
              "      <th>genres</th>\n",
              "      <th>homepage</th>\n",
              "      <th>id</th>\n",
              "      <th>keywords</th>\n",
              "      <th>original_language</th>\n",
              "      <th>original_title</th>\n",
              "      <th>overview</th>\n",
              "      <th>popularity</th>\n",
              "      <th>production_companies</th>\n",
              "      <th>production_countries</th>\n",
              "      <th>release_date</th>\n",
              "      <th>revenue</th>\n",
              "      <th>runtime</th>\n",
              "      <th>spoken_languages</th>\n",
              "      <th>status</th>\n",
              "      <th>tagline</th>\n",
              "      <th>title</th>\n",
              "      <th>vote_average</th>\n",
              "      <th>vote_count</th>\n",
              "    </tr>\n",
              "  </thead>\n",
              "  <tbody>\n",
              "    <tr>\n",
              "      <th>0</th>\n",
              "      <td>237000000</td>\n",
              "      <td>[{\"id\": 28, \"name\": \"Action\"}, {\"id\": 12, \"nam...</td>\n",
              "      <td>http://www.avatarmovie.com/</td>\n",
              "      <td>19995</td>\n",
              "      <td>[{\"id\": 1463, \"name\": \"culture clash\"}, {\"id\":...</td>\n",
              "      <td>en</td>\n",
              "      <td>Avatar</td>\n",
              "      <td>In the 22nd century, a paraplegic Marine is di...</td>\n",
              "      <td>150.437577</td>\n",
              "      <td>[{\"name\": \"Ingenious Film Partners\", \"id\": 289...</td>\n",
              "      <td>[{\"iso_3166_1\": \"US\", \"name\": \"United States o...</td>\n",
              "      <td>2009-12-10</td>\n",
              "      <td>2787965087</td>\n",
              "      <td>162.0</td>\n",
              "      <td>[{\"iso_639_1\": \"en\", \"name\": \"English\"}, {\"iso...</td>\n",
              "      <td>Released</td>\n",
              "      <td>Enter the World of Pandora.</td>\n",
              "      <td>Avatar</td>\n",
              "      <td>7.2</td>\n",
              "      <td>11800</td>\n",
              "    </tr>\n",
              "    <tr>\n",
              "      <th>1</th>\n",
              "      <td>300000000</td>\n",
              "      <td>[{\"id\": 12, \"name\": \"Adventure\"}, {\"id\": 14, \"...</td>\n",
              "      <td>http://disney.go.com/disneypictures/pirates/</td>\n",
              "      <td>285</td>\n",
              "      <td>[{\"id\": 270, \"name\": \"ocean\"}, {\"id\": 726, \"na...</td>\n",
              "      <td>en</td>\n",
              "      <td>Pirates of the Caribbean: At World's End</td>\n",
              "      <td>Captain Barbossa, long believed to be dead, ha...</td>\n",
              "      <td>139.082615</td>\n",
              "      <td>[{\"name\": \"Walt Disney Pictures\", \"id\": 2}, {\"...</td>\n",
              "      <td>[{\"iso_3166_1\": \"US\", \"name\": \"United States o...</td>\n",
              "      <td>2007-05-19</td>\n",
              "      <td>961000000</td>\n",
              "      <td>169.0</td>\n",
              "      <td>[{\"iso_639_1\": \"en\", \"name\": \"English\"}]</td>\n",
              "      <td>Released</td>\n",
              "      <td>At the end of the world, the adventure begins.</td>\n",
              "      <td>Pirates of the Caribbean: At World's End</td>\n",
              "      <td>6.9</td>\n",
              "      <td>4500</td>\n",
              "    </tr>\n",
              "    <tr>\n",
              "      <th>2</th>\n",
              "      <td>245000000</td>\n",
              "      <td>[{\"id\": 28, \"name\": \"Action\"}, {\"id\": 12, \"nam...</td>\n",
              "      <td>http://www.sonypictures.com/movies/spectre/</td>\n",
              "      <td>206647</td>\n",
              "      <td>[{\"id\": 470, \"name\": \"spy\"}, {\"id\": 818, \"name...</td>\n",
              "      <td>en</td>\n",
              "      <td>Spectre</td>\n",
              "      <td>A cryptic message from Bond’s past sends him o...</td>\n",
              "      <td>107.376788</td>\n",
              "      <td>[{\"name\": \"Columbia Pictures\", \"id\": 5}, {\"nam...</td>\n",
              "      <td>[{\"iso_3166_1\": \"GB\", \"name\": \"United Kingdom\"...</td>\n",
              "      <td>2015-10-26</td>\n",
              "      <td>880674609</td>\n",
              "      <td>148.0</td>\n",
              "      <td>[{\"iso_639_1\": \"fr\", \"name\": \"Fran\\u00e7ais\"},...</td>\n",
              "      <td>Released</td>\n",
              "      <td>A Plan No One Escapes</td>\n",
              "      <td>Spectre</td>\n",
              "      <td>6.3</td>\n",
              "      <td>4466</td>\n",
              "    </tr>\n",
              "    <tr>\n",
              "      <th>3</th>\n",
              "      <td>250000000</td>\n",
              "      <td>[{\"id\": 28, \"name\": \"Action\"}, {\"id\": 80, \"nam...</td>\n",
              "      <td>http://www.thedarkknightrises.com/</td>\n",
              "      <td>49026</td>\n",
              "      <td>[{\"id\": 849, \"name\": \"dc comics\"}, {\"id\": 853,...</td>\n",
              "      <td>en</td>\n",
              "      <td>The Dark Knight Rises</td>\n",
              "      <td>Following the death of District Attorney Harve...</td>\n",
              "      <td>112.312950</td>\n",
              "      <td>[{\"name\": \"Legendary Pictures\", \"id\": 923}, {\"...</td>\n",
              "      <td>[{\"iso_3166_1\": \"US\", \"name\": \"United States o...</td>\n",
              "      <td>2012-07-16</td>\n",
              "      <td>1084939099</td>\n",
              "      <td>165.0</td>\n",
              "      <td>[{\"iso_639_1\": \"en\", \"name\": \"English\"}]</td>\n",
              "      <td>Released</td>\n",
              "      <td>The Legend Ends</td>\n",
              "      <td>The Dark Knight Rises</td>\n",
              "      <td>7.6</td>\n",
              "      <td>9106</td>\n",
              "    </tr>\n",
              "    <tr>\n",
              "      <th>4</th>\n",
              "      <td>260000000</td>\n",
              "      <td>[{\"id\": 28, \"name\": \"Action\"}, {\"id\": 12, \"nam...</td>\n",
              "      <td>http://movies.disney.com/john-carter</td>\n",
              "      <td>49529</td>\n",
              "      <td>[{\"id\": 818, \"name\": \"based on novel\"}, {\"id\":...</td>\n",
              "      <td>en</td>\n",
              "      <td>John Carter</td>\n",
              "      <td>John Carter is a war-weary, former military ca...</td>\n",
              "      <td>43.926995</td>\n",
              "      <td>[{\"name\": \"Walt Disney Pictures\", \"id\": 2}]</td>\n",
              "      <td>[{\"iso_3166_1\": \"US\", \"name\": \"United States o...</td>\n",
              "      <td>2012-03-07</td>\n",
              "      <td>284139100</td>\n",
              "      <td>132.0</td>\n",
              "      <td>[{\"iso_639_1\": \"en\", \"name\": \"English\"}]</td>\n",
              "      <td>Released</td>\n",
              "      <td>Lost in our world, found in another.</td>\n",
              "      <td>John Carter</td>\n",
              "      <td>6.1</td>\n",
              "      <td>2124</td>\n",
              "    </tr>\n",
              "  </tbody>\n",
              "</table>\n",
              "</div>\n",
              "      <button class=\"colab-df-convert\" onclick=\"convertToInteractive('df-f1de38a1-1b55-4f0c-a807-526a9675d1db')\"\n",
              "              title=\"Convert this dataframe to an interactive table.\"\n",
              "              style=\"display:none;\">\n",
              "        \n",
              "  <svg xmlns=\"http://www.w3.org/2000/svg\" height=\"24px\"viewBox=\"0 0 24 24\"\n",
              "       width=\"24px\">\n",
              "    <path d=\"M0 0h24v24H0V0z\" fill=\"none\"/>\n",
              "    <path d=\"M18.56 5.44l.94 2.06.94-2.06 2.06-.94-2.06-.94-.94-2.06-.94 2.06-2.06.94zm-11 1L8.5 8.5l.94-2.06 2.06-.94-2.06-.94L8.5 2.5l-.94 2.06-2.06.94zm10 10l.94 2.06.94-2.06 2.06-.94-2.06-.94-.94-2.06-.94 2.06-2.06.94z\"/><path d=\"M17.41 7.96l-1.37-1.37c-.4-.4-.92-.59-1.43-.59-.52 0-1.04.2-1.43.59L10.3 9.45l-7.72 7.72c-.78.78-.78 2.05 0 2.83L4 21.41c.39.39.9.59 1.41.59.51 0 1.02-.2 1.41-.59l7.78-7.78 2.81-2.81c.8-.78.8-2.07 0-2.86zM5.41 20L4 18.59l7.72-7.72 1.47 1.35L5.41 20z\"/>\n",
              "  </svg>\n",
              "      </button>\n",
              "      \n",
              "  <style>\n",
              "    .colab-df-container {\n",
              "      display:flex;\n",
              "      flex-wrap:wrap;\n",
              "      gap: 12px;\n",
              "    }\n",
              "\n",
              "    .colab-df-convert {\n",
              "      background-color: #E8F0FE;\n",
              "      border: none;\n",
              "      border-radius: 50%;\n",
              "      cursor: pointer;\n",
              "      display: none;\n",
              "      fill: #1967D2;\n",
              "      height: 32px;\n",
              "      padding: 0 0 0 0;\n",
              "      width: 32px;\n",
              "    }\n",
              "\n",
              "    .colab-df-convert:hover {\n",
              "      background-color: #E2EBFA;\n",
              "      box-shadow: 0px 1px 2px rgba(60, 64, 67, 0.3), 0px 1px 3px 1px rgba(60, 64, 67, 0.15);\n",
              "      fill: #174EA6;\n",
              "    }\n",
              "\n",
              "    [theme=dark] .colab-df-convert {\n",
              "      background-color: #3B4455;\n",
              "      fill: #D2E3FC;\n",
              "    }\n",
              "\n",
              "    [theme=dark] .colab-df-convert:hover {\n",
              "      background-color: #434B5C;\n",
              "      box-shadow: 0px 1px 3px 1px rgba(0, 0, 0, 0.15);\n",
              "      filter: drop-shadow(0px 1px 2px rgba(0, 0, 0, 0.3));\n",
              "      fill: #FFFFFF;\n",
              "    }\n",
              "  </style>\n",
              "\n",
              "      <script>\n",
              "        const buttonEl =\n",
              "          document.querySelector('#df-f1de38a1-1b55-4f0c-a807-526a9675d1db button.colab-df-convert');\n",
              "        buttonEl.style.display =\n",
              "          google.colab.kernel.accessAllowed ? 'block' : 'none';\n",
              "\n",
              "        async function convertToInteractive(key) {\n",
              "          const element = document.querySelector('#df-f1de38a1-1b55-4f0c-a807-526a9675d1db');\n",
              "          const dataTable =\n",
              "            await google.colab.kernel.invokeFunction('convertToInteractive',\n",
              "                                                     [key], {});\n",
              "          if (!dataTable) return;\n",
              "\n",
              "          const docLinkHtml = 'Like what you see? Visit the ' +\n",
              "            '<a target=\"_blank\" href=https://colab.research.google.com/notebooks/data_table.ipynb>data table notebook</a>'\n",
              "            + ' to learn more about interactive tables.';\n",
              "          element.innerHTML = '';\n",
              "          dataTable['output_type'] = 'display_data';\n",
              "          await google.colab.output.renderOutput(dataTable, element);\n",
              "          const docLink = document.createElement('div');\n",
              "          docLink.innerHTML = docLinkHtml;\n",
              "          element.appendChild(docLink);\n",
              "        }\n",
              "      </script>\n",
              "    </div>\n",
              "  </div>\n",
              "  "
            ]
          },
          "metadata": {},
          "execution_count": 23
        }
      ]
    },
    {
      "cell_type": "code",
      "metadata": {
        "colab": {
          "base_uri": "https://localhost:8080/",
          "height": 424
        },
        "id": "lJf4u8sHVbbd",
        "outputId": "9f437440-640e-481e-c4bc-5aee4c52b306"
      },
      "source": [
        "credits.head()"
      ],
      "execution_count": 24,
      "outputs": [
        {
          "output_type": "execute_result",
          "data": {
            "text/plain": [
              "   movie_id                                     title  \\\n",
              "0     19995                                    Avatar   \n",
              "1       285  Pirates of the Caribbean: At World's End   \n",
              "2    206647                                   Spectre   \n",
              "3     49026                     The Dark Knight Rises   \n",
              "4     49529                               John Carter   \n",
              "\n",
              "                                                cast  \\\n",
              "0  [{\"cast_id\": 242, \"character\": \"Jake Sully\", \"...   \n",
              "1  [{\"cast_id\": 4, \"character\": \"Captain Jack Spa...   \n",
              "2  [{\"cast_id\": 1, \"character\": \"James Bond\", \"cr...   \n",
              "3  [{\"cast_id\": 2, \"character\": \"Bruce Wayne / Ba...   \n",
              "4  [{\"cast_id\": 5, \"character\": \"John Carter\", \"c...   \n",
              "\n",
              "                                                crew  \n",
              "0  [{\"credit_id\": \"52fe48009251416c750aca23\", \"de...  \n",
              "1  [{\"credit_id\": \"52fe4232c3a36847f800b579\", \"de...  \n",
              "2  [{\"credit_id\": \"54805967c3a36829b5002c41\", \"de...  \n",
              "3  [{\"credit_id\": \"52fe4781c3a36847f81398c3\", \"de...  \n",
              "4  [{\"credit_id\": \"52fe479ac3a36847f813eaa3\", \"de...  "
            ],
            "text/html": [
              "\n",
              "  <div id=\"df-55b637f0-7e57-450f-a54f-7cd98fc98e64\">\n",
              "    <div class=\"colab-df-container\">\n",
              "      <div>\n",
              "<style scoped>\n",
              "    .dataframe tbody tr th:only-of-type {\n",
              "        vertical-align: middle;\n",
              "    }\n",
              "\n",
              "    .dataframe tbody tr th {\n",
              "        vertical-align: top;\n",
              "    }\n",
              "\n",
              "    .dataframe thead th {\n",
              "        text-align: right;\n",
              "    }\n",
              "</style>\n",
              "<table border=\"1\" class=\"dataframe\">\n",
              "  <thead>\n",
              "    <tr style=\"text-align: right;\">\n",
              "      <th></th>\n",
              "      <th>movie_id</th>\n",
              "      <th>title</th>\n",
              "      <th>cast</th>\n",
              "      <th>crew</th>\n",
              "    </tr>\n",
              "  </thead>\n",
              "  <tbody>\n",
              "    <tr>\n",
              "      <th>0</th>\n",
              "      <td>19995</td>\n",
              "      <td>Avatar</td>\n",
              "      <td>[{\"cast_id\": 242, \"character\": \"Jake Sully\", \"...</td>\n",
              "      <td>[{\"credit_id\": \"52fe48009251416c750aca23\", \"de...</td>\n",
              "    </tr>\n",
              "    <tr>\n",
              "      <th>1</th>\n",
              "      <td>285</td>\n",
              "      <td>Pirates of the Caribbean: At World's End</td>\n",
              "      <td>[{\"cast_id\": 4, \"character\": \"Captain Jack Spa...</td>\n",
              "      <td>[{\"credit_id\": \"52fe4232c3a36847f800b579\", \"de...</td>\n",
              "    </tr>\n",
              "    <tr>\n",
              "      <th>2</th>\n",
              "      <td>206647</td>\n",
              "      <td>Spectre</td>\n",
              "      <td>[{\"cast_id\": 1, \"character\": \"James Bond\", \"cr...</td>\n",
              "      <td>[{\"credit_id\": \"54805967c3a36829b5002c41\", \"de...</td>\n",
              "    </tr>\n",
              "    <tr>\n",
              "      <th>3</th>\n",
              "      <td>49026</td>\n",
              "      <td>The Dark Knight Rises</td>\n",
              "      <td>[{\"cast_id\": 2, \"character\": \"Bruce Wayne / Ba...</td>\n",
              "      <td>[{\"credit_id\": \"52fe4781c3a36847f81398c3\", \"de...</td>\n",
              "    </tr>\n",
              "    <tr>\n",
              "      <th>4</th>\n",
              "      <td>49529</td>\n",
              "      <td>John Carter</td>\n",
              "      <td>[{\"cast_id\": 5, \"character\": \"John Carter\", \"c...</td>\n",
              "      <td>[{\"credit_id\": \"52fe479ac3a36847f813eaa3\", \"de...</td>\n",
              "    </tr>\n",
              "  </tbody>\n",
              "</table>\n",
              "</div>\n",
              "      <button class=\"colab-df-convert\" onclick=\"convertToInteractive('df-55b637f0-7e57-450f-a54f-7cd98fc98e64')\"\n",
              "              title=\"Convert this dataframe to an interactive table.\"\n",
              "              style=\"display:none;\">\n",
              "        \n",
              "  <svg xmlns=\"http://www.w3.org/2000/svg\" height=\"24px\"viewBox=\"0 0 24 24\"\n",
              "       width=\"24px\">\n",
              "    <path d=\"M0 0h24v24H0V0z\" fill=\"none\"/>\n",
              "    <path d=\"M18.56 5.44l.94 2.06.94-2.06 2.06-.94-2.06-.94-.94-2.06-.94 2.06-2.06.94zm-11 1L8.5 8.5l.94-2.06 2.06-.94-2.06-.94L8.5 2.5l-.94 2.06-2.06.94zm10 10l.94 2.06.94-2.06 2.06-.94-2.06-.94-.94-2.06-.94 2.06-2.06.94z\"/><path d=\"M17.41 7.96l-1.37-1.37c-.4-.4-.92-.59-1.43-.59-.52 0-1.04.2-1.43.59L10.3 9.45l-7.72 7.72c-.78.78-.78 2.05 0 2.83L4 21.41c.39.39.9.59 1.41.59.51 0 1.02-.2 1.41-.59l7.78-7.78 2.81-2.81c.8-.78.8-2.07 0-2.86zM5.41 20L4 18.59l7.72-7.72 1.47 1.35L5.41 20z\"/>\n",
              "  </svg>\n",
              "      </button>\n",
              "      \n",
              "  <style>\n",
              "    .colab-df-container {\n",
              "      display:flex;\n",
              "      flex-wrap:wrap;\n",
              "      gap: 12px;\n",
              "    }\n",
              "\n",
              "    .colab-df-convert {\n",
              "      background-color: #E8F0FE;\n",
              "      border: none;\n",
              "      border-radius: 50%;\n",
              "      cursor: pointer;\n",
              "      display: none;\n",
              "      fill: #1967D2;\n",
              "      height: 32px;\n",
              "      padding: 0 0 0 0;\n",
              "      width: 32px;\n",
              "    }\n",
              "\n",
              "    .colab-df-convert:hover {\n",
              "      background-color: #E2EBFA;\n",
              "      box-shadow: 0px 1px 2px rgba(60, 64, 67, 0.3), 0px 1px 3px 1px rgba(60, 64, 67, 0.15);\n",
              "      fill: #174EA6;\n",
              "    }\n",
              "\n",
              "    [theme=dark] .colab-df-convert {\n",
              "      background-color: #3B4455;\n",
              "      fill: #D2E3FC;\n",
              "    }\n",
              "\n",
              "    [theme=dark] .colab-df-convert:hover {\n",
              "      background-color: #434B5C;\n",
              "      box-shadow: 0px 1px 3px 1px rgba(0, 0, 0, 0.15);\n",
              "      filter: drop-shadow(0px 1px 2px rgba(0, 0, 0, 0.3));\n",
              "      fill: #FFFFFF;\n",
              "    }\n",
              "  </style>\n",
              "\n",
              "      <script>\n",
              "        const buttonEl =\n",
              "          document.querySelector('#df-55b637f0-7e57-450f-a54f-7cd98fc98e64 button.colab-df-convert');\n",
              "        buttonEl.style.display =\n",
              "          google.colab.kernel.accessAllowed ? 'block' : 'none';\n",
              "\n",
              "        async function convertToInteractive(key) {\n",
              "          const element = document.querySelector('#df-55b637f0-7e57-450f-a54f-7cd98fc98e64');\n",
              "          const dataTable =\n",
              "            await google.colab.kernel.invokeFunction('convertToInteractive',\n",
              "                                                     [key], {});\n",
              "          if (!dataTable) return;\n",
              "\n",
              "          const docLinkHtml = 'Like what you see? Visit the ' +\n",
              "            '<a target=\"_blank\" href=https://colab.research.google.com/notebooks/data_table.ipynb>data table notebook</a>'\n",
              "            + ' to learn more about interactive tables.';\n",
              "          element.innerHTML = '';\n",
              "          dataTable['output_type'] = 'display_data';\n",
              "          await google.colab.output.renderOutput(dataTable, element);\n",
              "          const docLink = document.createElement('div');\n",
              "          docLink.innerHTML = docLinkHtml;\n",
              "          element.appendChild(docLink);\n",
              "        }\n",
              "      </script>\n",
              "    </div>\n",
              "  </div>\n",
              "  "
            ]
          },
          "metadata": {},
          "execution_count": 24
        }
      ]
    },
    {
      "cell_type": "markdown",
      "metadata": {
        "id": "ukP1fLLxViGW"
      },
      "source": [
        "Lets make note of the key features in both datsets:\n",
        "\n",
        "1)genres\n",
        "\n",
        "2)cast\n",
        "\n",
        "3)popularity\n",
        "\n",
        "2)average rating\n",
        "\n",
        "3)number of votes"
      ]
    },
    {
      "cell_type": "markdown",
      "metadata": {
        "id": "WSJXxRQ4XIOh"
      },
      "source": [
        "##Data-preprocessing"
      ]
    },
    {
      "cell_type": "markdown",
      "metadata": {
        "id": "AiwOj3lrXeU1"
      },
      "source": [
        "Lets make the things simple by discarding all other features and merging both the datasets"
      ]
    },
    {
      "cell_type": "markdown",
      "metadata": {
        "id": "zipKpst0cTKJ"
      },
      "source": [
        "###Merging the datsets"
      ]
    },
    {
      "cell_type": "code",
      "metadata": {
        "colab": {
          "base_uri": "https://localhost:8080/"
        },
        "id": "ip6Hsc0zVfC0",
        "outputId": "276e55c5-f966-40d7-9d9b-54d3d70ea124"
      },
      "source": [
        "#rename movie-id to id so as to merge both on the id\n",
        "credits.rename(columns={\"movie_id\":\"id\"},inplace=True)\n",
        "print(credits.columns)"
      ],
      "execution_count": 25,
      "outputs": [
        {
          "output_type": "stream",
          "name": "stdout",
          "text": [
            "Index(['id', 'title', 'cast', 'crew'], dtype='object')\n"
          ]
        }
      ]
    },
    {
      "cell_type": "code",
      "metadata": {
        "colab": {
          "base_uri": "https://localhost:8080/"
        },
        "id": "7P5sPGCJYIey",
        "outputId": "005128df-70cb-451f-80d3-15299dac9fbb"
      },
      "source": [
        "movies= movies.merge(credits,on='id')\n",
        "print(movies.shape)\n",
        "movies.columns"
      ],
      "execution_count": 26,
      "outputs": [
        {
          "output_type": "stream",
          "name": "stdout",
          "text": [
            "(4803, 23)\n"
          ]
        },
        {
          "output_type": "execute_result",
          "data": {
            "text/plain": [
              "Index(['budget', 'genres', 'homepage', 'id', 'keywords', 'original_language',\n",
              "       'original_title', 'overview', 'popularity', 'production_companies',\n",
              "       'production_countries', 'release_date', 'revenue', 'runtime',\n",
              "       'spoken_languages', 'status', 'tagline', 'title_x', 'vote_average',\n",
              "       'vote_count', 'title_y', 'cast', 'crew'],\n",
              "      dtype='object')"
            ]
          },
          "metadata": {},
          "execution_count": 26
        }
      ]
    },
    {
      "cell_type": "markdown",
      "metadata": {
        "id": "KsDOJj_nZVvh"
      },
      "source": [
        "Having merged both datasets let's discard the less useful features"
      ]
    },
    {
      "cell_type": "code",
      "metadata": {
        "colab": {
          "base_uri": "https://localhost:8080/"
        },
        "id": "4LifoE_AZLmQ",
        "outputId": "4d209bf3-bb87-4781-ca76-e54478eedbe9"
      },
      "source": [
        "relevant_cols=[\"id\",\"title_x\",\"genres\",\"popularity\",\"vote_average\",\"vote_count\",\"cast\"]\n",
        "movies=movies.loc[:,relevant_cols]\n",
        "movies.shape"
      ],
      "execution_count": 27,
      "outputs": [
        {
          "output_type": "execute_result",
          "data": {
            "text/plain": [
              "(4803, 7)"
            ]
          },
          "metadata": {},
          "execution_count": 27
        }
      ]
    },
    {
      "cell_type": "code",
      "metadata": {
        "colab": {
          "base_uri": "https://localhost:8080/"
        },
        "id": "0jAyn3PRaqGf",
        "outputId": "02168a8f-582d-42b9-b594-9c4f541125d8"
      },
      "source": [
        "movies.rename(columns={\"title_x\":\"title\",\"vote_average\":\"rating\"},inplace=True)\n",
        "movies.columns"
      ],
      "execution_count": 28,
      "outputs": [
        {
          "output_type": "execute_result",
          "data": {
            "text/plain": [
              "Index(['id', 'title', 'genres', 'popularity', 'rating', 'vote_count', 'cast'], dtype='object')"
            ]
          },
          "metadata": {},
          "execution_count": 28
        }
      ]
    },
    {
      "cell_type": "markdown",
      "metadata": {
        "id": "me_VCjcTbz3J"
      },
      "source": [
        "###The data in genres and cast columns are strings,let's attempt to understand them and process these data into lists of genres and actors respectively"
      ]
    },
    {
      "cell_type": "code",
      "metadata": {
        "colab": {
          "base_uri": "https://localhost:8080/"
        },
        "id": "BoYVSKTlbKvs",
        "outputId": "2ae03c60-a9ac-4c11-add0-6e3f82f9e847"
      },
      "source": [
        "#Lets pick row 100 and analyse its genres & cast columns\n",
        "row_id=100\n",
        "print(movies.loc[row_id,\"title\"])\n",
        "print(movies.loc[row_id,\"genres\"],'\\n',movies.loc[row_id,\"cast\"])"
      ],
      "execution_count": 29,
      "outputs": [
        {
          "output_type": "stream",
          "name": "stdout",
          "text": [
            "The Curious Case of Benjamin Button\n",
            "[{\"id\": 14, \"name\": \"Fantasy\"}, {\"id\": 18, \"name\": \"Drama\"}, {\"id\": 53, \"name\": \"Thriller\"}, {\"id\": 9648, \"name\": \"Mystery\"}, {\"id\": 10749, \"name\": \"Romance\"}] \n",
            " [{\"cast_id\": 4, \"character\": \"Daisy\", \"credit_id\": \"52fe43e2c3a36847f807632b\", \"gender\": 1, \"id\": 112, \"name\": \"Cate Blanchett\", \"order\": 0}, {\"cast_id\": 5, \"character\": \"Benjamin Button\", \"credit_id\": \"52fe43e2c3a36847f807632f\", \"gender\": 2, \"id\": 287, \"name\": \"Brad Pitt\", \"order\": 1}, {\"cast_id\": 6, \"character\": \"Elizabeth Abbott\", \"credit_id\": \"52fe43e2c3a36847f8076333\", \"gender\": 1, \"id\": 3063, \"name\": \"Tilda Swinton\", \"order\": 2}, {\"cast_id\": 10, \"character\": \"Caroline\", \"credit_id\": \"52fe43e2c3a36847f8076343\", \"gender\": 1, \"id\": 15887, \"name\": \"Julia Ormond\", \"order\": 3}, {\"cast_id\": 7, \"character\": \"Daisy Age 7\", \"credit_id\": \"52fe43e2c3a36847f8076337\", \"gender\": 1, \"id\": 18050, \"name\": \"Elle Fanning\", \"order\": 4}, {\"cast_id\": 183, \"character\": \"Daisy Age 10\", \"credit_id\": \"56ec883a9251414dba0022af\", \"gender\": 1, \"id\": 219666, \"name\": \"Madisen Beaty\", \"order\": 5}, {\"cast_id\": 8, \"character\": \"Thomas Button\", \"credit_id\": \"52fe43e2c3a36847f807633b\", \"gender\": 2, \"id\": 973, \"name\": \"Jason Flemyng\", \"order\": 6}, {\"cast_id\": 9, \"character\": \"Monsieur Gateau\", \"credit_id\": \"52fe43e2c3a36847f807633f\", \"gender\": 2, \"id\": 13550, \"name\": \"Elias Koteas\", \"order\": 7}, {\"cast_id\": 11, \"character\": \"Queenie\", \"credit_id\": \"52fe43e2c3a36847f8076347\", \"gender\": 1, \"id\": 40036, \"name\": \"Taraji P. Henson\", \"order\": 8}, {\"cast_id\": 13, \"character\": \"Pleasant Curtis\", \"credit_id\": \"52fe43e2c3a36847f807634f\", \"gender\": 2, \"id\": 40039, \"name\": \"Josh Stewart\", \"order\": 9}, {\"cast_id\": 15, \"character\": \"Dorothy Baker\", \"credit_id\": \"52fe43e2c3a36847f8076359\", \"gender\": 1, \"id\": 58953, \"name\": \"Faune A. Chambers\", \"order\": 10}, {\"cast_id\": 16, \"character\": \"Blanche Devereux\", \"credit_id\": \"52fe43e2c3a36847f807635d\", \"gender\": 1, \"id\": 230995, \"name\": \"Donna DuPlantier\", \"order\": 11}, {\"cast_id\": 17, \"character\": \"Martin Gateau\", \"credit_id\": \"52fe43e2c3a36847f8076361\", \"gender\": 2, \"id\": 1074186, \"name\": \"Jacob Tolano\", \"order\": 12}, {\"cast_id\": 19, \"character\": \"Teddy Roosevelt\", \"credit_id\": \"52fe43e2c3a36847f8076369\", \"gender\": 0, \"id\": 231274, \"name\": \"Ed Metzger\", \"order\": 13}, {\"cast_id\": 20, \"character\": \"Priest Giving Last Rites\", \"credit_id\": \"52fe43e2c3a36847f807636d\", \"gender\": 0, \"id\": 1074187, \"name\": \"Danny Vinson\", \"order\": 14}, {\"cast_id\": 21, \"character\": \"Doctor at Benjamin's Birth\", \"credit_id\": \"52fe43e2c3a36847f8076371\", \"gender\": 2, \"id\": 60875, \"name\": \"David Jensen\", \"order\": 15}, {\"cast_id\": 22, \"character\": \"Caroline Button\", \"credit_id\": \"52fe43e2c3a36847f8076375\", \"gender\": 1, \"id\": 203867, \"name\": \"Joeanna Sayler\", \"order\": 16}, {\"cast_id\": 180, \"character\": \"Robert Williams\", \"credit_id\": \"56ec756b9251415e620035ae\", \"gender\": 2, \"id\": 52483, \"name\": \"Rus Blackwell\", \"order\": 17}, {\"cast_id\": 23, \"character\": \"Tizzy\", \"credit_id\": \"52fe43e2c3a36847f8076379\", \"gender\": 2, \"id\": 932967, \"name\": \"Mahershala Ali\", \"order\": 18}, {\"cast_id\": 191, \"character\": \"David\", \"credit_id\": \"573e41e99251413fdc000768\", \"gender\": 2, \"id\": 928295, \"name\": \"Adrian Armas\", \"order\": 19}, {\"cast_id\": 24, \"character\": \"Grandma Fuller\", \"credit_id\": \"52fe43e2c3a36847f807637d\", \"gender\": 1, \"id\": 17184, \"name\": \"Phyllis Somerville\", \"order\": 20}, {\"cast_id\": 177, \"character\": \"Preacher\", \"credit_id\": \"56ec6d279251415e59003162\", \"gender\": 2, \"id\": 101847, \"name\": \"Lance E. Nichols\", \"order\": 21}, {\"cast_id\": 194, \"character\": \"Walter Abbott\", \"credit_id\": \"58cec8f7c3a368508c025b00\", \"gender\": 2, \"id\": 1235414, \"name\": \"David Ross Paterson\", \"order\": 22}, {\"cast_id\": 181, \"character\": \"Mrs. Hollister\", \"credit_id\": \"56ec7f67c3a3682253003c55\", \"gender\": 1, \"id\": 1219313, \"name\": \"Fiona Hale\", \"order\": 23}, {\"cast_id\": 184, \"character\": \"Mrs. Horton\", \"credit_id\": \"56ec89f492514143fc003897\", \"gender\": 1, \"id\": 60388, \"name\": \"Marion Zinser\", \"order\": 24}, {\"cast_id\": 189, \"character\": \"Mrs. Maple\", \"credit_id\": \"56ec8eafc3a368224e003c66\", \"gender\": 1, \"id\": 44063, \"name\": \"Edith Ivey\", \"order\": 25}, {\"cast_id\": 182, \"character\": \"Dr. Rose\", \"credit_id\": \"56ec8759c3a36822650037c5\", \"gender\": 2, \"id\": 75325, \"name\": \"Patrick Thomas O'Brien\", \"order\": 26}, {\"cast_id\": 187, \"character\": \"Mr. Daws\", \"credit_id\": \"56ec8e86c3a3682253003ebe\", \"gender\": 2, \"id\": 86812, \"name\": \"Ted Manson\", \"order\": 27}, {\"cast_id\": 188, \"character\": \"Young Mr. Daws\", \"credit_id\": \"56ec8e9c9251414408003808\", \"gender\": 2, \"id\": 60536, \"name\": \"Clay Cullen\", \"order\": 28}, {\"cast_id\": 185, \"character\": \"Benjamin 1928-31\", \"credit_id\": \"56ec8af892514144010038f1\", \"gender\": 2, \"id\": 1056117, \"name\": \"Peter Donald Badalamenti II\", \"order\": 29}, {\"cast_id\": 186, \"character\": \"Sybil Wagner\", \"credit_id\": \"56ec8dcbc3a3682251003fac\", \"gender\": 1, \"id\": 1592644, \"name\": \"Paula Gray\", \"order\": 30}, {\"cast_id\": 193, \"character\": \"Captain Mike\", \"credit_id\": \"57e4f699c3a3684225000727\", \"gender\": 2, \"id\": 15440, \"name\": \"Jared Harris\", \"order\": 31}, {\"cast_id\": 18, \"character\": \"Man at Train Station\", \"credit_id\": \"52fe43e2c3a36847f8076365\", \"gender\": 2, \"id\": 60884, \"name\": \"Earl Maddox\", \"order\": 32}, {\"cast_id\": 12, \"character\": \"Ballerina Who Ties Up Shoelace (uncredited)\", \"credit_id\": \"52fe43e2c3a36847f807634b\", \"gender\": 1, \"id\": 40038, \"name\": \"Bianca Chiminello\", \"order\": 33}, {\"cast_id\": 178, \"character\": \"Ballet Dancer (uncredited)\", \"credit_id\": \"56ec731cc3a36822650034be\", \"gender\": 1, \"id\": 1224131, \"name\": \"Emma Degerstedt\", \"order\": 34}, {\"cast_id\": 179, \"character\": \"Woman Kissing Benjamin (uncredited)\", \"credit_id\": \"56ec73a6c3a3682256003905\", \"gender\": 1, \"id\": 1169284, \"name\": \"Megan Brown\", \"order\": 35}, {\"cast_id\": 192, \"character\": \"The Grumpy Sailor (uncredited)\", \"credit_id\": \"57591733925141754800087e\", \"gender\": 2, \"id\": 1503756, \"name\": \"Clay Chamberlin\", \"order\": 36}]\n"
          ]
        }
      ]
    },
    {
      "cell_type": "code",
      "metadata": {
        "id": "plzaFr3_nc5y"
      },
      "source": [
        "#The genre and cast are string type first lets make functions to convert them to dictionaries\n",
        "def process_genre(s):\n",
        "  id_str=s.split(\", \")[0]\n",
        "  genre_str=s.split(\", \")[-1]\n",
        "  genre={}\n",
        "  genre[\"id\"]=int(id_str.split(':')[-1])\n",
        "  genre[\"name\"]=(genre_str.split(':')[-1])[2:-1]\n",
        "  return genre\n",
        "\n",
        "def get_genres(s):\n",
        "  if(len(s)<5):\n",
        "    return {}\n",
        "  genres=s.split(\"}, {\")\n",
        "  genres[0]=genres[0][2:]\n",
        "  genres[-1]=genres[-1][:-2]\n",
        "  genre_list=[]\n",
        "  for genre in genres:\n",
        "    genre_list.append(process_genre(genre))\n",
        "  return genre_list\n",
        "\n",
        "def process_actor(s):\n",
        "  id_str=s.split(\", \")[0]\n",
        "  actor_str=s.split(\", \")[-2]\n",
        "  actor={}\n",
        "  actor[\"id\"]=int(id_str.split(':')[-1])\n",
        "  actor[\"name\"]=(actor_str.split(':')[-1])[2:-1]\n",
        "  return actor\n",
        "\n",
        "def get_cast(s):\n",
        "  if(len(s)<5):\n",
        "    return {}\n",
        "  cast=s.split(\"}, {\")\n",
        "  cast[0]=cast[0][2:]\n",
        "  cast[-1]=cast[-1][:-2]\n",
        "  cast_list=[]\n",
        "  for actor in cast:\n",
        "    cast_list.append(process_actor(actor))\n",
        "  return cast_list"
      ],
      "execution_count": 30,
      "outputs": []
    },
    {
      "cell_type": "code",
      "metadata": {
        "colab": {
          "base_uri": "https://localhost:8080/"
        },
        "id": "WZhXqtNuqJhG",
        "outputId": "1c4cc503-0dfc-4a5b-98b8-3c7f1474a9de"
      },
      "source": [
        "#Lets test these functions\n",
        "import random\n",
        "row_id=int(random.random()*movies.shape[0]//1)      #choose a random movie\n",
        "print(movies.loc[row_id,\"title\"])\n",
        "Genres=get_genres(movies.loc[row_id,\"genres\"])\n",
        "print(\"GENRES\")\n",
        "for idx,genre in enumerate(Genres):\n",
        "  print((idx+1),':',genre)\n",
        "Cast=get_cast(movies.loc[row_id,\"cast\"])\n",
        "print(\"CAST\")\n",
        "for idx,actor in enumerate(Cast):\n",
        "  print((idx+1),':',actor)"
      ],
      "execution_count": 31,
      "outputs": [
        {
          "output_type": "stream",
          "name": "stdout",
          "text": [
            "Changeling\n",
            "GENRES\n",
            "1 : {'id': 80, 'name': 'Crime'}\n",
            "2 : {'id': 18, 'name': 'Drama'}\n",
            "3 : {'id': 9648, 'name': 'Mystery'}\n",
            "CAST\n",
            "1 : {'id': 6, 'name': 'Angelina Jolie'}\n",
            "2 : {'id': 7, 'name': 'Jeffrey Donovan'}\n",
            "3 : {'id': 8, 'name': 'John Malkovich'}\n",
            "4 : {'id': 9, 'name': 'Geoff Pierson'}\n",
            "5 : {'id': 10, 'name': 'Amy Ryan'}\n",
            "6 : {'id': 11, 'name': 'Gattlin Griffith'}\n",
            "7 : {'id': 12, 'name': 'Michelle Gunn'}\n",
            "8 : {'id': 18, 'name': 'Frank Wood'}\n",
            "9 : {'id': 21, 'name': 'Colm Feore'}\n",
            "10 : {'id': 24, 'name': 'Michael Kelly'}\n",
            "11 : {'id': 25, 'name': \"Denis O'Hare\"}\n",
            "12 : {'id': 35, 'name': 'Jeffrey Hutchinson'}\n",
            "13 : {'id': 37, 'name': 'Devon Conti'}\n",
            "14 : {'id': 38, 'name': 'Peter Breitmayer'}\n",
            "15 : {'id': 39, 'name': 'Antonia Bennett'}\n",
            "16 : {'id': 40, 'name': 'Erica Grant'}\n",
            "17 : {'id': 41, 'name': 'Jan Devereaux'}\n",
            "18 : {'id': 42, 'name': 'Kerri Randles'}\n",
            "19 : {'id': 43, 'name': 'Morgan Eastwood'}\n",
            "20 : {'id': 44, 'name': 'Ric Sarabia'}\n",
            "21 : {'id': 45, 'name': 'Debra Christofferson'}\n",
            "22 : {'id': 46, 'name': 'Russell Edge'}\n",
            "23 : {'id': 47, 'name': 'Mary Stein'}\n",
            "24 : {'id': 48, 'name': 'Gregg Binkley'}\n",
            "25 : {'id': 49, 'name': 'E.J. Callahan'}\n",
            "26 : {'id': 50, 'name': 'Reed Birney'}\n",
            "27 : {'id': 51, 'name': 'Colby French'}\n",
            "28 : {'id': 52, 'name': 'Kelly Lynn Warren'}\n",
            "29 : {'id': 53, 'name': 'Richard King'}\n",
            "30 : {'id': 54, 'name': 'William Charlton'}\n",
            "31 : {'id': 55, 'name': 'Cooper Thornton'}\n",
            "32 : {'id': 56, 'name': 'J.P. Bumstead'}\n",
            "33 : {'id': 57, 'name': 'Peter Gerety'}\n",
            "34 : {'id': 58, 'name': 'John Harrington Bland'}\n",
            "35 : {'id': 59, 'name': 'Pamela Dunlap'}\n",
            "36 : {'id': 60, 'name': 'Roger Hewlett'}\n",
            "37 : {'id': 61, 'name': 'Jim Cantafio'}\n",
            "38 : {'id': 62, 'name': 'Wendy Worthington'}\n",
            "39 : {'id': 63, 'name': 'Riki Lindhome'}\n",
            "40 : {'id': 64, 'name': 'Dale Dickey'}\n",
            "41 : {'id': 65, 'name': 'Jason Butler Harner'}\n",
            "42 : {'id': 66, 'name': 'Eddie Alderson'}\n",
            "43 : {'id': 67, 'name': 'Michael McCafferty'}\n",
            "44 : {'id': 68, 'name': 'David Goldman'}\n",
            "45 : {'id': 69, 'name': 'Anthony De Marco'}\n",
            "46 : {'id': 70, 'name': 'Kevin Glikmann'}\n",
            "47 : {'id': 71, 'name': 'Hope Shapiro'}\n",
            "48 : {'id': 72, 'name': 'Caleb Campbell'}\n",
            "49 : {'id': 73, 'name': 'Zach Mills'}\n",
            "50 : {'id': 74, 'name': 'Scott Leva'}\n",
            "51 : {'id': 76, 'name': 'Clint Ward'}\n",
            "52 : {'id': 77, 'name': 'Michael Dempsey'}\n",
            "53 : {'id': 78, 'name': 'Phil Van Tee'}\n",
            "54 : {'id': 79, 'name': 'Jim Nieb'}\n",
            "55 : {'id': 116, 'name': 'Pete Rockwell'}\n",
            "56 : {'id': 80, 'name': 'Lily Knight'}\n",
            "57 : {'id': 81, 'name': 'Ryan Cutrona'}\n",
            "58 : {'id': 82, 'name': 'Devon Gearhart'}\n",
            "59 : {'id': 83, 'name': 'Andre Alexsen'}\n",
            "60 : {'id': 97, 'name': 'William Brent'}\n",
            "61 : {'id': 98, 'name': 'Jason Ciok'}\n",
            "62 : {'id': 99, 'name': 'Wrong'}\n",
            "63 : {'id': 100, 'name': 'Dominick Dunne'}\n",
            "64 : {'id': 101, 'name': 'Leslie Gunning'}\n",
            "65 : {'id': 102, 'name': 'Patrizia Milano'}\n",
            "66 : {'id': 103, 'name': 'Kerry Hennessy'}\n",
            "67 : {'id': 104, 'name': 'Bruce Holman'}\n",
            "68 : {'id': 105, 'name': 'Christopher Karl Johnson'}\n",
            "69 : {'id': 106, 'name': 'Jen Lilley'}\n",
            "70 : {'id': 107, 'name': 'Darin Mangan'}\n",
            "71 : {'id': 108, 'name': 'Michael Saglimbeni'}\n",
            "72 : {'id': 109, 'name': 'John H. Tobin'}\n",
            "73 : {'id': 110, 'name': 'George F. Watson'}\n",
            "74 : {'id': 111, 'name': 'JW Wiseman'}\n"
          ]
        }
      ]
    },
    {
      "cell_type": "markdown",
      "metadata": {
        "id": "xuwOBaR6KyUf"
      },
      "source": [
        "Seems to be working fine"
      ]
    },
    {
      "cell_type": "markdown",
      "metadata": {
        "id": "b8c6Fu2BSC0G"
      },
      "source": [
        "##Data visualization"
      ]
    },
    {
      "cell_type": "code",
      "metadata": {
        "colab": {
          "base_uri": "https://localhost:8080/",
          "height": 407
        },
        "id": "HoxgEJuGSG2q",
        "outputId": "323ee6d1-c1aa-4481-fcca-2feb4bd6beac"
      },
      "source": [
        "plt.figure(figsize=(8,6))\n",
        "plt.hist(movies['vote_count'],bins=20,color='c')\n",
        "plt.title(\"Histogram of vote count\")\n",
        "plt.ylabel(\"Vote count\")"
      ],
      "execution_count": 32,
      "outputs": [
        {
          "output_type": "execute_result",
          "data": {
            "text/plain": [
              "Text(0, 0.5, 'Vote count')"
            ]
          },
          "metadata": {},
          "execution_count": 32
        },
        {
          "output_type": "display_data",
          "data": {
            "text/plain": [
              "<Figure size 576x432 with 1 Axes>"
            ],
            "image/png": "[encoded data removed]"
          },
          "metadata": {
            "needs_background": "light"
          }
        }
      ]
    },
    {
      "cell_type": "markdown",
      "metadata": {
        "id": "oo9Y-YiqXYl2"
      },
      "source": [
        "Thus,most of the movies have less than 1000 rating votes"
      ]
    },
    {
      "cell_type": "code",
      "metadata": {
        "colab": {
          "base_uri": "https://localhost:8080/",
          "height": 421
        },
        "id": "dauBzQ8NTloF",
        "outputId": "aa6bc137-0adb-4908-928c-eeaeea04afac"
      },
      "source": [
        "plt.figure(figsize=(8,6))\n",
        "plt.grid(2)\n",
        "plt.scatter(movies[\"rating\"],movies[\"popularity\"],c='r')\n",
        "plt.xlabel(\"ratings\")\n",
        "plt.ylabel(\"popularity\")\n",
        "plt.title(\"popularity v/s ratings\")"
      ],
      "execution_count": 33,
      "outputs": [
        {
          "output_type": "execute_result",
          "data": {
            "text/plain": [
              "Text(0.5, 1.0, 'popularity v/s ratings')"
            ]
          },
          "metadata": {},
          "execution_count": 33
        },
        {
          "output_type": "display_data",
          "data": {
            "text/plain": [
              "<Figure size 576x432 with 1 Axes>"
            ],
            "image/png": "[encoded data removed]"
          },
          "metadata": {
            "needs_background": "light"
          }
        }
      ]
    },
    {
      "cell_type": "markdown",
      "metadata": {
        "id": "XwyatJD8XfJm"
      },
      "source": [
        "There is a positive correlation between ratings and popularity"
      ]
    },
    {
      "cell_type": "markdown",
      "metadata": {
        "id": "OsaWCVRSK2Gq"
      },
      "source": [
        "##Demographic filtering"
      ]
    },
    {
      "cell_type": "markdown",
      "metadata": {
        "id": "tFxDZ9yIK7h4"
      },
      "source": [
        "###Top 10 most popular movies"
      ]
    },
    {
      "cell_type": "code",
      "metadata": {
        "colab": {
          "base_uri": "https://localhost:8080/"
        },
        "id": "0aR7mmSdJKbx",
        "outputId": "63617d22-37b0-46b8-d825-d99a6ab9e75b"
      },
      "source": [
        "#Lets look at movies with vote_count greater than the 90th percentile or quantile\n",
        "#As others aren't really popular and their popularity score is most likely subject to high variance\n",
        "threshold_vote= movies['vote_count'].quantile(0.9)\n",
        "print(threshold_vote)\n",
        "#Basically the 90th quantile of vote_count "
      ],
      "execution_count": 34,
      "outputs": [
        {
          "output_type": "stream",
          "name": "stdout",
          "text": [
            "1838.4000000000015\n"
          ]
        }
      ]
    },
    {
      "cell_type": "markdown",
      "metadata": {
        "id": "fphWtp7VMqjY"
      },
      "source": [
        "Now lets look at the top 10 movies with highest popularity among movies with vote_count greater than the threshold"
      ]
    },
    {
      "cell_type": "code",
      "metadata": {
        "colab": {
          "base_uri": "https://localhost:8080/",
          "height": 1000
        },
        "id": "aS-jjzv9NIer",
        "outputId": "7fcb13ff-454f-419d-ef7c-6f571994f526"
      },
      "source": [
        "popular_picks=list(movies[movies['vote_count']>threshold_vote].nlargest(10,'popularity').loc[:,'title'])\n",
        "movies[movies['vote_count']>threshold_vote].nlargest(10,'popularity')"
      ],
      "execution_count": 35,
      "outputs": [
        {
          "output_type": "execute_result",
          "data": {
            "text/plain": [
              "         id                                              title  \\\n",
              "546  211672                                            Minions   \n",
              "95   157336                                       Interstellar   \n",
              "788  293660                                           Deadpool   \n",
              "94   118340                            Guardians of the Galaxy   \n",
              "127   76341                                 Mad Max: Fury Road   \n",
              "28   135397                                     Jurassic World   \n",
              "199      22  Pirates of the Caribbean: The Curse of the Bla...   \n",
              "82   119450                     Dawn of the Planet of the Apes   \n",
              "200  131631              The Hunger Games: Mockingjay - Part 1   \n",
              "88   177572                                         Big Hero 6   \n",
              "\n",
              "                                                genres  popularity  rating  \\\n",
              "546  [{\"id\": 10751, \"name\": \"Family\"}, {\"id\": 16, \"...  875.581305     6.4   \n",
              "95   [{\"id\": 12, \"name\": \"Adventure\"}, {\"id\": 18, \"...  724.247784     8.1   \n",
              "788  [{\"id\": 28, \"name\": \"Action\"}, {\"id\": 12, \"nam...  514.569956     7.4   \n",
              "94   [{\"id\": 28, \"name\": \"Action\"}, {\"id\": 878, \"na...  481.098624     7.9   \n",
              "127  [{\"id\": 28, \"name\": \"Action\"}, {\"id\": 12, \"nam...  434.278564     7.2   \n",
              "28   [{\"id\": 28, \"name\": \"Action\"}, {\"id\": 12, \"nam...  418.708552     6.5   \n",
              "199  [{\"id\": 12, \"name\": \"Adventure\"}, {\"id\": 14, \"...  271.972889     7.5   \n",
              "82   [{\"id\": 878, \"name\": \"Science Fiction\"}, {\"id\"...  243.791743     7.3   \n",
              "200  [{\"id\": 878, \"name\": \"Science Fiction\"}, {\"id\"...  206.227151     6.6   \n",
              "88   [{\"id\": 12, \"name\": \"Adventure\"}, {\"id\": 10751...  203.734590     7.8   \n",
              "\n",
              "     vote_count                                               cast  \n",
              "546        4571  [{\"cast_id\": 22, \"character\": \"Scarlet Overkil...  \n",
              "95        10867  [{\"cast_id\": 9, \"character\": \"Joseph Cooper\", ...  \n",
              "788       10995  [{\"cast_id\": 99, \"character\": \"Wade Wilson / D...  \n",
              "94         9742  [{\"cast_id\": 1, \"character\": \"Peter Quill / St...  \n",
              "127        9427  [{\"cast_id\": 2, \"character\": \"Max Rockatansky\"...  \n",
              "28         8662  [{\"cast_id\": 10, \"character\": \"Owen Grady\", \"c...  \n",
              "199        6985  [{\"cast_id\": 12, \"character\": \"Captain Jack Sp...  \n",
              "82         4410  [{\"cast_id\": 8, \"character\": \"Caesar\", \"credit...  \n",
              "200        5584  [{\"cast_id\": 2, \"character\": \"Katniss Everdeen...  \n",
              "88         6135  [{\"cast_id\": 23, \"character\": \"Baymax (voice)\"...  "
            ],
            "text/html": [
              "\n",
              "  <div id=\"df-b556422f-61c2-4ad0-ab96-f838fcec0990\">\n",
              "    <div class=\"colab-df-container\">\n",
              "      <div>\n",
              "<style scoped>\n",
              "    .dataframe tbody tr th:only-of-type {\n",
              "        vertical-align: middle;\n",
              "    }\n",
              "\n",
              "    .dataframe tbody tr th {\n",
              "        vertical-align: top;\n",
              "    }\n",
              "\n",
              "    .dataframe thead th {\n",
              "        text-align: right;\n",
              "    }\n",
              "</style>\n",
              "<table border=\"1\" class=\"dataframe\">\n",
              "  <thead>\n",
              "    <tr style=\"text-align: right;\">\n",
              "      <th></th>\n",
              "      <th>id</th>\n",
              "      <th>title</th>\n",
              "      <th>genres</th>\n",
              "      <th>popularity</th>\n",
              "      <th>rating</th>\n",
              "      <th>vote_count</th>\n",
              "      <th>cast</th>\n",
              "    </tr>\n",
              "  </thead>\n",
              "  <tbody>\n",
              "    <tr>\n",
              "      <th>546</th>\n",
              "      <td>211672</td>\n",
              "      <td>Minions</td>\n",
              "      <td>[{\"id\": 10751, \"name\": \"Family\"}, {\"id\": 16, \"...</td>\n",
              "      <td>875.581305</td>\n",
              "      <td>6.4</td>\n",
              "      <td>4571</td>\n",
              "      <td>[{\"cast_id\": 22, \"character\": \"Scarlet Overkil...</td>\n",
              "    </tr>\n",
              "    <tr>\n",
              "      <th>95</th>\n",
              "      <td>157336</td>\n",
              "      <td>Interstellar</td>\n",
              "      <td>[{\"id\": 12, \"name\": \"Adventure\"}, {\"id\": 18, \"...</td>\n",
              "      <td>724.247784</td>\n",
              "      <td>8.1</td>\n",
              "      <td>10867</td>\n",
              "      <td>[{\"cast_id\": 9, \"character\": \"Joseph Cooper\", ...</td>\n",
              "    </tr>\n",
              "    <tr>\n",
              "      <th>788</th>\n",
              "      <td>293660</td>\n",
              "      <td>Deadpool</td>\n",
              "      <td>[{\"id\": 28, \"name\": \"Action\"}, {\"id\": 12, \"nam...</td>\n",
              "      <td>514.569956</td>\n",
              "      <td>7.4</td>\n",
              "      <td>10995</td>\n",
              "      <td>[{\"cast_id\": 99, \"character\": \"Wade Wilson / D...</td>\n",
              "    </tr>\n",
              "    <tr>\n",
              "      <th>94</th>\n",
              "      <td>118340</td>\n",
              "      <td>Guardians of the Galaxy</td>\n",
              "      <td>[{\"id\": 28, \"name\": \"Action\"}, {\"id\": 878, \"na...</td>\n",
              "      <td>481.098624</td>\n",
              "      <td>7.9</td>\n",
              "      <td>9742</td>\n",
              "      <td>[{\"cast_id\": 1, \"character\": \"Peter Quill / St...</td>\n",
              "    </tr>\n",
              "    <tr>\n",
              "      <th>127</th>\n",
              "      <td>76341</td>\n",
              "      <td>Mad Max: Fury Road</td>\n",
              "      <td>[{\"id\": 28, \"name\": \"Action\"}, {\"id\": 12, \"nam...</td>\n",
              "      <td>434.278564</td>\n",
              "      <td>7.2</td>\n",
              "      <td>9427</td>\n",
              "      <td>[{\"cast_id\": 2, \"character\": \"Max Rockatansky\"...</td>\n",
              "    </tr>\n",
              "    <tr>\n",
              "      <th>28</th>\n",
              "      <td>135397</td>\n",
              "      <td>Jurassic World</td>\n",
              "      <td>[{\"id\": 28, \"name\": \"Action\"}, {\"id\": 12, \"nam...</td>\n",
              "      <td>418.708552</td>\n",
              "      <td>6.5</td>\n",
              "      <td>8662</td>\n",
              "      <td>[{\"cast_id\": 10, \"character\": \"Owen Grady\", \"c...</td>\n",
              "    </tr>\n",
              "    <tr>\n",
              "      <th>199</th>\n",
              "      <td>22</td>\n",
              "      <td>Pirates of the Caribbean: The Curse of the Bla...</td>\n",
              "      <td>[{\"id\": 12, \"name\": \"Adventure\"}, {\"id\": 14, \"...</td>\n",
              "      <td>271.972889</td>\n",
              "      <td>7.5</td>\n",
              "      <td>6985</td>\n",
              "      <td>[{\"cast_id\": 12, \"character\": \"Captain Jack Sp...</td>\n",
              "    </tr>\n",
              "    <tr>\n",
              "      <th>82</th>\n",
              "      <td>119450</td>\n",
              "      <td>Dawn of the Planet of the Apes</td>\n",
              "      <td>[{\"id\": 878, \"name\": \"Science Fiction\"}, {\"id\"...</td>\n",
              "      <td>243.791743</td>\n",
              "      <td>7.3</td>\n",
              "      <td>4410</td>\n",
              "      <td>[{\"cast_id\": 8, \"character\": \"Caesar\", \"credit...</td>\n",
              "    </tr>\n",
              "    <tr>\n",
              "      <th>200</th>\n",
              "      <td>131631</td>\n",
              "      <td>The Hunger Games: Mockingjay - Part 1</td>\n",
              "      <td>[{\"id\": 878, \"name\": \"Science Fiction\"}, {\"id\"...</td>\n",
              "      <td>206.227151</td>\n",
              "      <td>6.6</td>\n",
              "      <td>5584</td>\n",
              "      <td>[{\"cast_id\": 2, \"character\": \"Katniss Everdeen...</td>\n",
              "    </tr>\n",
              "    <tr>\n",
              "      <th>88</th>\n",
              "      <td>177572</td>\n",
              "      <td>Big Hero 6</td>\n",
              "      <td>[{\"id\": 12, \"name\": \"Adventure\"}, {\"id\": 10751...</td>\n",
              "      <td>203.734590</td>\n",
              "      <td>7.8</td>\n",
              "      <td>6135</td>\n",
              "      <td>[{\"cast_id\": 23, \"character\": \"Baymax (voice)\"...</td>\n",
              "    </tr>\n",
              "  </tbody>\n",
              "</table>\n",
              "</div>\n",
              "      <button class=\"colab-df-convert\" onclick=\"convertToInteractive('df-b556422f-61c2-4ad0-ab96-f838fcec0990')\"\n",
              "              title=\"Convert this dataframe to an interactive table.\"\n",
              "              style=\"display:none;\">\n",
              "        \n",
              "  <svg xmlns=\"http://www.w3.org/2000/svg\" height=\"24px\"viewBox=\"0 0 24 24\"\n",
              "       width=\"24px\">\n",
              "    <path d=\"M0 0h24v24H0V0z\" fill=\"none\"/>\n",
              "    <path d=\"M18.56 5.44l.94 2.06.94-2.06 2.06-.94-2.06-.94-.94-2.06-.94 2.06-2.06.94zm-11 1L8.5 8.5l.94-2.06 2.06-.94-2.06-.94L8.5 2.5l-.94 2.06-2.06.94zm10 10l.94 2.06.94-2.06 2.06-.94-2.06-.94-.94-2.06-.94 2.06-2.06.94z\"/><path d=\"M17.41 7.96l-1.37-1.37c-.4-.4-.92-.59-1.43-.59-.52 0-1.04.2-1.43.59L10.3 9.45l-7.72 7.72c-.78.78-.78 2.05 0 2.83L4 21.41c.39.39.9.59 1.41.59.51 0 1.02-.2 1.41-.59l7.78-7.78 2.81-2.81c.8-.78.8-2.07 0-2.86zM5.41 20L4 18.59l7.72-7.72 1.47 1.35L5.41 20z\"/>\n",
              "  </svg>\n",
              "      </button>\n",
              "      \n",
              "  <style>\n",
              "    .colab-df-container {\n",
              "      display:flex;\n",
              "      flex-wrap:wrap;\n",
              "      gap: 12px;\n",
              "    }\n",
              "\n",
              "    .colab-df-convert {\n",
              "      background-color: #E8F0FE;\n",
              "      border: none;\n",
              "      border-radius: 50%;\n",
              "      cursor: pointer;\n",
              "      display: none;\n",
              "      fill: #1967D2;\n",
              "      height: 32px;\n",
              "      padding: 0 0 0 0;\n",
              "      width: 32px;\n",
              "    }\n",
              "\n",
              "    .colab-df-convert:hover {\n",
              "      background-color: #E2EBFA;\n",
              "      box-shadow: 0px 1px 2px rgba(60, 64, 67, 0.3), 0px 1px 3px 1px rgba(60, 64, 67, 0.15);\n",
              "      fill: #174EA6;\n",
              "    }\n",
              "\n",
              "    [theme=dark] .colab-df-convert {\n",
              "      background-color: #3B4455;\n",
              "      fill: #D2E3FC;\n",
              "    }\n",
              "\n",
              "    [theme=dark] .colab-df-convert:hover {\n",
              "      background-color: #434B5C;\n",
              "      box-shadow: 0px 1px 3px 1px rgba(0, 0, 0, 0.15);\n",
              "      filter: drop-shadow(0px 1px 2px rgba(0, 0, 0, 0.3));\n",
              "      fill: #FFFFFF;\n",
              "    }\n",
              "  </style>\n",
              "\n",
              "      <script>\n",
              "        const buttonEl =\n",
              "          document.querySelector('#df-b556422f-61c2-4ad0-ab96-f838fcec0990 button.colab-df-convert');\n",
              "        buttonEl.style.display =\n",
              "          google.colab.kernel.accessAllowed ? 'block' : 'none';\n",
              "\n",
              "        async function convertToInteractive(key) {\n",
              "          const element = document.querySelector('#df-b556422f-61c2-4ad0-ab96-f838fcec0990');\n",
              "          const dataTable =\n",
              "            await google.colab.kernel.invokeFunction('convertToInteractive',\n",
              "                                                     [key], {});\n",
              "          if (!dataTable) return;\n",
              "\n",
              "          const docLinkHtml = 'Like what you see? Visit the ' +\n",
              "            '<a target=\"_blank\" href=https://colab.research.google.com/notebooks/data_table.ipynb>data table notebook</a>'\n",
              "            + ' to learn more about interactive tables.';\n",
              "          element.innerHTML = '';\n",
              "          dataTable['output_type'] = 'display_data';\n",
              "          await google.colab.output.renderOutput(dataTable, element);\n",
              "          const docLink = document.createElement('div');\n",
              "          docLink.innerHTML = docLinkHtml;\n",
              "          element.appendChild(docLink);\n",
              "        }\n",
              "      </script>\n",
              "    </div>\n",
              "  </div>\n",
              "  "
            ]
          },
          "metadata": {},
          "execution_count": 35
        }
      ]
    },
    {
      "cell_type": "markdown",
      "metadata": {
        "id": "UmOuCkVlLB9S"
      },
      "source": [
        "###Top 10 highest rated movies"
      ]
    },
    {
      "cell_type": "markdown",
      "metadata": {
        "id": "1IgyzuJpPqu1"
      },
      "source": [
        "Now lets look at the top 10 movies with highest rating among movies with vote_count greater than the threshold"
      ]
    },
    {
      "cell_type": "code",
      "metadata": {
        "colab": {
          "base_uri": "https://localhost:8080/",
          "height": 1000
        },
        "id": "BhYov4O-LFW7",
        "outputId": "8e25f78d-7f68-4907-e81c-58e14231c0ad"
      },
      "source": [
        "top_rated=list(movies[movies['vote_count']>threshold_vote].nlargest(10,'rating').loc[:,'title'])\n",
        "movies[movies['vote_count']>threshold_vote].nlargest(10,'rating')"
      ],
      "execution_count": 36,
      "outputs": [
        {
          "output_type": "execute_result",
          "data": {
            "text/plain": [
              "          id                     title  \\\n",
              "1881     278  The Shawshank Redemption   \n",
              "3337     238             The Godfather   \n",
              "662      550                Fight Club   \n",
              "1818     424          Schindler's List   \n",
              "2294     129             Spirited Away   \n",
              "2731     240    The Godfather: Part II   \n",
              "3232     680              Pulp Fiction   \n",
              "3865  244786                  Whiplash   \n",
              "65       155           The Dark Knight   \n",
              "690      497            The Green Mile   \n",
              "\n",
              "                                                 genres  popularity  rating  \\\n",
              "1881  [{\"id\": 18, \"name\": \"Drama\"}, {\"id\": 80, \"name...  136.747729     8.5   \n",
              "3337  [{\"id\": 18, \"name\": \"Drama\"}, {\"id\": 80, \"name...  143.659698     8.4   \n",
              "662                       [{\"id\": 18, \"name\": \"Drama\"}]  146.757391     8.3   \n",
              "1818  [{\"id\": 18, \"name\": \"Drama\"}, {\"id\": 36, \"name...  104.469351     8.3   \n",
              "2294  [{\"id\": 14, \"name\": \"Fantasy\"}, {\"id\": 12, \"na...  118.968562     8.3   \n",
              "2731  [{\"id\": 18, \"name\": \"Drama\"}, {\"id\": 80, \"name...  105.792936     8.3   \n",
              "3232  [{\"id\": 53, \"name\": \"Thriller\"}, {\"id\": 80, \"n...  121.463076     8.3   \n",
              "3865                      [{\"id\": 18, \"name\": \"Drama\"}]  192.528841     8.3   \n",
              "65    [{\"id\": 18, \"name\": \"Drama\"}, {\"id\": 28, \"name...  187.322927     8.2   \n",
              "690   [{\"id\": 14, \"name\": \"Fantasy\"}, {\"id\": 18, \"na...  103.698022     8.2   \n",
              "\n",
              "      vote_count                                               cast  \n",
              "1881        8205  [{\"cast_id\": 3, \"character\": \"Andy Dufresne\", ...  \n",
              "3337        5893  [{\"cast_id\": 5, \"character\": \"Don Vito Corleon...  \n",
              "662         9413  [{\"cast_id\": 4, \"character\": \"The Narrator\", \"...  \n",
              "1818        4329  [{\"cast_id\": 14, \"character\": \"Oskar Schindler...  \n",
              "2294        3840  [{\"cast_id\": 3, \"character\": \"Chihiro (voice)\"...  \n",
              "2731        3338  [{\"cast_id\": 8, \"character\": \"Don Michael Corl...  \n",
              "3232        8428  [{\"cast_id\": 2, \"character\": \"Vincent Vega\", \"...  \n",
              "3865        4254  [{\"cast_id\": 5, \"character\": \"Andrew Neimann\",...  \n",
              "65         12002  [{\"cast_id\": 35, \"character\": \"Bruce Wayne\", \"...  \n",
              "690         4048  [{\"cast_id\": 4, \"character\": \"Paul Edgecomb\", ...  "
            ],
            "text/html": [
              "\n",
              "  <div id=\"df-ec80ec1c-8dd3-42b4-bcb8-927ee065e3af\">\n",
              "    <div class=\"colab-df-container\">\n",
              "      <div>\n",
              "<style scoped>\n",
              "    .dataframe tbody tr th:only-of-type {\n",
              "        vertical-align: middle;\n",
              "    }\n",
              "\n",
              "    .dataframe tbody tr th {\n",
              "        vertical-align: top;\n",
              "    }\n",
              "\n",
              "    .dataframe thead th {\n",
              "        text-align: right;\n",
              "    }\n",
              "</style>\n",
              "<table border=\"1\" class=\"dataframe\">\n",
              "  <thead>\n",
              "    <tr style=\"text-align: right;\">\n",
              "      <th></th>\n",
              "      <th>id</th>\n",
              "      <th>title</th>\n",
              "      <th>genres</th>\n",
              "      <th>popularity</th>\n",
              "      <th>rating</th>\n",
              "      <th>vote_count</th>\n",
              "      <th>cast</th>\n",
              "    </tr>\n",
              "  </thead>\n",
              "  <tbody>\n",
              "    <tr>\n",
              "      <th>1881</th>\n",
              "      <td>278</td>\n",
              "      <td>The Shawshank Redemption</td>\n",
              "      <td>[{\"id\": 18, \"name\": \"Drama\"}, {\"id\": 80, \"name...</td>\n",
              "      <td>136.747729</td>\n",
              "      <td>8.5</td>\n",
              "      <td>8205</td>\n",
              "      <td>[{\"cast_id\": 3, \"character\": \"Andy Dufresne\", ...</td>\n",
              "    </tr>\n",
              "    <tr>\n",
              "      <th>3337</th>\n",
              "      <td>238</td>\n",
              "      <td>The Godfather</td>\n",
              "      <td>[{\"id\": 18, \"name\": \"Drama\"}, {\"id\": 80, \"name...</td>\n",
              "      <td>143.659698</td>\n",
              "      <td>8.4</td>\n",
              "      <td>5893</td>\n",
              "      <td>[{\"cast_id\": 5, \"character\": \"Don Vito Corleon...</td>\n",
              "    </tr>\n",
              "    <tr>\n",
              "      <th>662</th>\n",
              "      <td>550</td>\n",
              "      <td>Fight Club</td>\n",
              "      <td>[{\"id\": 18, \"name\": \"Drama\"}]</td>\n",
              "      <td>146.757391</td>\n",
              "      <td>8.3</td>\n",
              "      <td>9413</td>\n",
              "      <td>[{\"cast_id\": 4, \"character\": \"The Narrator\", \"...</td>\n",
              "    </tr>\n",
              "    <tr>\n",
              "      <th>1818</th>\n",
              "      <td>424</td>\n",
              "      <td>Schindler's List</td>\n",
              "      <td>[{\"id\": 18, \"name\": \"Drama\"}, {\"id\": 36, \"name...</td>\n",
              "      <td>104.469351</td>\n",
              "      <td>8.3</td>\n",
              "      <td>4329</td>\n",
              "      <td>[{\"cast_id\": 14, \"character\": \"Oskar Schindler...</td>\n",
              "    </tr>\n",
              "    <tr>\n",
              "      <th>2294</th>\n",
              "      <td>129</td>\n",
              "      <td>Spirited Away</td>\n",
              "      <td>[{\"id\": 14, \"name\": \"Fantasy\"}, {\"id\": 12, \"na...</td>\n",
              "      <td>118.968562</td>\n",
              "      <td>8.3</td>\n",
              "      <td>3840</td>\n",
              "      <td>[{\"cast_id\": 3, \"character\": \"Chihiro (voice)\"...</td>\n",
              "    </tr>\n",
              "    <tr>\n",
              "      <th>2731</th>\n",
              "      <td>240</td>\n",
              "      <td>The Godfather: Part II</td>\n",
              "      <td>[{\"id\": 18, \"name\": \"Drama\"}, {\"id\": 80, \"name...</td>\n",
              "      <td>105.792936</td>\n",
              "      <td>8.3</td>\n",
              "      <td>3338</td>\n",
              "      <td>[{\"cast_id\": 8, \"character\": \"Don Michael Corl...</td>\n",
              "    </tr>\n",
              "    <tr>\n",
              "      <th>3232</th>\n",
              "      <td>680</td>\n",
              "      <td>Pulp Fiction</td>\n",
              "      <td>[{\"id\": 53, \"name\": \"Thriller\"}, {\"id\": 80, \"n...</td>\n",
              "      <td>121.463076</td>\n",
              "      <td>8.3</td>\n",
              "      <td>8428</td>\n",
              "      <td>[{\"cast_id\": 2, \"character\": \"Vincent Vega\", \"...</td>\n",
              "    </tr>\n",
              "    <tr>\n",
              "      <th>3865</th>\n",
              "      <td>244786</td>\n",
              "      <td>Whiplash</td>\n",
              "      <td>[{\"id\": 18, \"name\": \"Drama\"}]</td>\n",
              "      <td>192.528841</td>\n",
              "      <td>8.3</td>\n",
              "      <td>4254</td>\n",
              "      <td>[{\"cast_id\": 5, \"character\": \"Andrew Neimann\",...</td>\n",
              "    </tr>\n",
              "    <tr>\n",
              "      <th>65</th>\n",
              "      <td>155</td>\n",
              "      <td>The Dark Knight</td>\n",
              "      <td>[{\"id\": 18, \"name\": \"Drama\"}, {\"id\": 28, \"name...</td>\n",
              "      <td>187.322927</td>\n",
              "      <td>8.2</td>\n",
              "      <td>12002</td>\n",
              "      <td>[{\"cast_id\": 35, \"character\": \"Bruce Wayne\", \"...</td>\n",
              "    </tr>\n",
              "    <tr>\n",
              "      <th>690</th>\n",
              "      <td>497</td>\n",
              "      <td>The Green Mile</td>\n",
              "      <td>[{\"id\": 14, \"name\": \"Fantasy\"}, {\"id\": 18, \"na...</td>\n",
              "      <td>103.698022</td>\n",
              "      <td>8.2</td>\n",
              "      <td>4048</td>\n",
              "      <td>[{\"cast_id\": 4, \"character\": \"Paul Edgecomb\", ...</td>\n",
              "    </tr>\n",
              "  </tbody>\n",
              "</table>\n",
              "</div>\n",
              "      <button class=\"colab-df-convert\" onclick=\"convertToInteractive('df-ec80ec1c-8dd3-42b4-bcb8-927ee065e3af')\"\n",
              "              title=\"Convert this dataframe to an interactive table.\"\n",
              "              style=\"display:none;\">\n",
              "        \n",
              "  <svg xmlns=\"http://www.w3.org/2000/svg\" height=\"24px\"viewBox=\"0 0 24 24\"\n",
              "       width=\"24px\">\n",
              "    <path d=\"M0 0h24v24H0V0z\" fill=\"none\"/>\n",
              "    <path d=\"M18.56 5.44l.94 2.06.94-2.06 2.06-.94-2.06-.94-.94-2.06-.94 2.06-2.06.94zm-11 1L8.5 8.5l.94-2.06 2.06-.94-2.06-.94L8.5 2.5l-.94 2.06-2.06.94zm10 10l.94 2.06.94-2.06 2.06-.94-2.06-.94-.94-2.06-.94 2.06-2.06.94z\"/><path d=\"M17.41 7.96l-1.37-1.37c-.4-.4-.92-.59-1.43-.59-.52 0-1.04.2-1.43.59L10.3 9.45l-7.72 7.72c-.78.78-.78 2.05 0 2.83L4 21.41c.39.39.9.59 1.41.59.51 0 1.02-.2 1.41-.59l7.78-7.78 2.81-2.81c.8-.78.8-2.07 0-2.86zM5.41 20L4 18.59l7.72-7.72 1.47 1.35L5.41 20z\"/>\n",
              "  </svg>\n",
              "      </button>\n",
              "      \n",
              "  <style>\n",
              "    .colab-df-container {\n",
              "      display:flex;\n",
              "      flex-wrap:wrap;\n",
              "      gap: 12px;\n",
              "    }\n",
              "\n",
              "    .colab-df-convert {\n",
              "      background-color: #E8F0FE;\n",
              "      border: none;\n",
              "      border-radius: 50%;\n",
              "      cursor: pointer;\n",
              "      display: none;\n",
              "      fill: #1967D2;\n",
              "      height: 32px;\n",
              "      padding: 0 0 0 0;\n",
              "      width: 32px;\n",
              "    }\n",
              "\n",
              "    .colab-df-convert:hover {\n",
              "      background-color: #E2EBFA;\n",
              "      box-shadow: 0px 1px 2px rgba(60, 64, 67, 0.3), 0px 1px 3px 1px rgba(60, 64, 67, 0.15);\n",
              "      fill: #174EA6;\n",
              "    }\n",
              "\n",
              "    [theme=dark] .colab-df-convert {\n",
              "      background-color: #3B4455;\n",
              "      fill: #D2E3FC;\n",
              "    }\n",
              "\n",
              "    [theme=dark] .colab-df-convert:hover {\n",
              "      background-color: #434B5C;\n",
              "      box-shadow: 0px 1px 3px 1px rgba(0, 0, 0, 0.15);\n",
              "      filter: drop-shadow(0px 1px 2px rgba(0, 0, 0, 0.3));\n",
              "      fill: #FFFFFF;\n",
              "    }\n",
              "  </style>\n",
              "\n",
              "      <script>\n",
              "        const buttonEl =\n",
              "          document.querySelector('#df-ec80ec1c-8dd3-42b4-bcb8-927ee065e3af button.colab-df-convert');\n",
              "        buttonEl.style.display =\n",
              "          google.colab.kernel.accessAllowed ? 'block' : 'none';\n",
              "\n",
              "        async function convertToInteractive(key) {\n",
              "          const element = document.querySelector('#df-ec80ec1c-8dd3-42b4-bcb8-927ee065e3af');\n",
              "          const dataTable =\n",
              "            await google.colab.kernel.invokeFunction('convertToInteractive',\n",
              "                                                     [key], {});\n",
              "          if (!dataTable) return;\n",
              "\n",
              "          const docLinkHtml = 'Like what you see? Visit the ' +\n",
              "            '<a target=\"_blank\" href=https://colab.research.google.com/notebooks/data_table.ipynb>data table notebook</a>'\n",
              "            + ' to learn more about interactive tables.';\n",
              "          element.innerHTML = '';\n",
              "          dataTable['output_type'] = 'display_data';\n",
              "          await google.colab.output.renderOutput(dataTable, element);\n",
              "          const docLink = document.createElement('div');\n",
              "          docLink.innerHTML = docLinkHtml;\n",
              "          element.appendChild(docLink);\n",
              "        }\n",
              "      </script>\n",
              "    </div>\n",
              "  </div>\n",
              "  "
            ]
          },
          "metadata": {},
          "execution_count": 36
        }
      ]
    },
    {
      "cell_type": "markdown",
      "metadata": {
        "id": "9xSJ5cpMLGt_"
      },
      "source": [
        "###Top movies in different genres"
      ]
    },
    {
      "cell_type": "code",
      "metadata": {
        "id": "f05rSpYpLPU6"
      },
      "source": [
        "def check_genre(top_genre,genres):\n",
        "  for genre in genres:\n",
        "    if(genre[\"name\"]==top_genre):\n",
        "      return True\n",
        "  return False\n",
        "\n",
        "top_genre={}\n",
        "#Let's look at common genres & let's recommend 3 movies for each genres\n",
        "allGenres={}\n",
        "for row_id in range(movies.shape[0]):\n",
        "  genres=get_genres(movies.loc[row_id,\"genres\"])\n",
        "  for genre in genres:\n",
        "    if genre[\"name\"] in allGenres.keys():\n",
        "      allGenres[genre[\"name\"]]+=1\n",
        "    else:\n",
        "      allGenres[genre[\"name\"]]=1\n",
        "\n",
        "#If say there are over 10% movies of a particluar genre let's call that a common genre\n",
        "#for each common genre let's choose top 3 based on the ratings\n",
        "\n",
        "for key,val in allGenres.items():\n",
        "  if(val>movies.shape[0]/10):\n",
        "    top_genre[key]=[]\n",
        "\n",
        "for genre in top_genre.keys():\n",
        "  top_in_genre=[]\n",
        "  for row_id in range(movies.shape[0]):\n",
        "    if(check_genre(genre,get_genres(movies.loc[row_id,\"genres\"]))):\n",
        "      if(len(top_in_genre)<3):\n",
        "        top_in_genre.append((row_id,movies.loc[row_id,\"rating\"]))\n",
        "      else:\n",
        "        if(top_in_genre[-1][1]<movies.loc[row_id,\"rating\"]):\n",
        "          top_in_genre.pop()\n",
        "          top_in_genre.append((row_id,movies.loc[row_id,\"rating\"]))\n",
        "      sorted(top_in_genre,key=lambda x:x[1],reverse=True)\n",
        "  top_genre[genre].append(movies.loc[top_in_genre[2][0],\"title\"])\n",
        "  top_genre[genre].append(movies.loc[top_in_genre[1][0],\"title\"])\n",
        "  top_genre[genre].append(movies.loc[top_in_genre[0][0],\"title\"])"
      ],
      "execution_count": 37,
      "outputs": []
    },
    {
      "cell_type": "markdown",
      "metadata": {
        "id": "6Zbuu2XIXLZa"
      },
      "source": [
        "Lets visualize the number of movies in each genre"
      ]
    },
    {
      "cell_type": "code",
      "metadata": {
        "colab": {
          "base_uri": "https://localhost:8080/",
          "height": 450
        },
        "id": "mhiIDnvoVPi2",
        "outputId": "5cb58ab2-e3eb-4ba7-cd59-3feaabd8f026"
      },
      "source": [
        "X=[]\n",
        "y=[]\n",
        "for genre,n_movies in allGenres.items():\n",
        "  if(n_movies>300):\n",
        "    X.append(genre)\n",
        "    y.append(n_movies)\n",
        "plt.figure(figsize=(16,10))\n",
        "plt.bar(X,y,color='green')\n",
        "plt.xlabel(\"genre\",fontsize=20)\n",
        "plt.ylabel(\"num_movies\",fontsize=20)\n",
        "plt.title(\"Number of movies in each genre\",fontsize=20)"
      ],
      "execution_count": 38,
      "outputs": [
        {
          "output_type": "execute_result",
          "data": {
            "text/plain": [
              "Text(0.5, 1.0, 'Number of movies in each genre')"
            ]
          },
          "metadata": {},
          "execution_count": 38
        },
        {
          "output_type": "display_data",
          "data": {
            "text/plain": [
              "<Figure size 1152x720 with 1 Axes>"
            ],
            "image/png": "[encoded data removed]"
          },
          "metadata": {
            "needs_background": "light"
          }
        }
      ]
    },
    {
      "cell_type": "markdown",
      "metadata": {
        "id": "29_TqMCdXqhD"
      },
      "source": [
        "Most of the movies are drama,comedy and all others have substantial number of movies"
      ]
    },
    {
      "cell_type": "markdown",
      "metadata": {
        "id": "MWMto3kiLQV4"
      },
      "source": [
        "###Top movies of popular actors"
      ]
    },
    {
      "cell_type": "code",
      "metadata": {
        "id": "F-j_bqJqLVHf"
      },
      "source": [
        "def check_actor(top_actor,cast):\n",
        "  for actor in cast:\n",
        "    if(actor[\"name\"]==top_actor):\n",
        "      return True\n",
        "  return False\n",
        "\n",
        "top_actors={}\n",
        "#Let's look at 10 top actors(based on number of movies they were a part of) & let's recommend 2 movies for each actor\n",
        "allActors={}\n",
        "for row_id in range(movies.shape[0]):\n",
        "  cast=get_cast(movies.loc[row_id,\"cast\"])\n",
        "  for actor in cast:\n",
        "    if actor[\"name\"] in allActors.keys():\n",
        "      allActors[actor[\"name\"]]+=1\n",
        "    else:\n",
        "      allActors[actor[\"name\"]]=1\n",
        "\n",
        "allActors.pop('.')    #remove all movies without caste\n",
        "top_actors_list=[i[0] for i in sorted(allActors.items(),key=lambda x:x[1],reverse=True)[:10]]\n",
        "\n",
        "for actor in top_actors_list:\n",
        "  top_actors[actor]=[]\n",
        "\n",
        "for actor in top_actors.keys():\n",
        "  top_in_actor=[]\n",
        "  for row_id in range(movies.shape[0]):\n",
        "    if(check_actor(actor,get_cast(movies.loc[row_id,\"cast\"]))):\n",
        "      if(len(top_in_actor)<3):\n",
        "        top_in_actor.append((row_id,movies.loc[row_id,\"rating\"]))\n",
        "      else:\n",
        "        if(top_in_actor[-1][1]<movies.loc[row_id,\"rating\"]):\n",
        "          top_in_actor.pop()\n",
        "          top_in_actor.append((row_id,movies.loc[row_id,\"rating\"]))\n",
        "      sorted(top_in_actor,key=lambda x:x[1],reverse=True)\n",
        "  top_actors[actor].append(movies.loc[top_in_actor[1][0],\"title\"])\n",
        "  top_actors[actor].append(movies.loc[top_in_actor[0][0],\"title\"])"
      ],
      "execution_count": 39,
      "outputs": []
    },
    {
      "cell_type": "markdown",
      "metadata": {
        "id": "NhH5wmABQ_O5"
      },
      "source": [
        "##Final demographic recommendations"
      ]
    },
    {
      "cell_type": "code",
      "metadata": {
        "colab": {
          "base_uri": "https://localhost:8080/"
        },
        "id": "CQ_D4pvIREaG",
        "outputId": "ebfa01a6-2b5a-4bbb-ee4a-0d5ed93530f8"
      },
      "source": [
        "print(\"***POPULAR PICKS***\")\n",
        "for idx,movie in enumerate(popular_picks):\n",
        "  print(idx+1,movie)\n",
        "print('\\n',\"****TOP RATED****\")\n",
        "for idx,movie in enumerate(top_rated):\n",
        "  print(idx+1,movie)\n",
        "print('\\n',\"**BEST ACROSS GENRES**\")\n",
        "for genre,movies in top_genre.items():\n",
        "  print(\"------>\",genre)\n",
        "  for idx,movie in enumerate(movies):\n",
        "    print(idx+1,movie)\n",
        "print('\\n',\"**MOVIES OF TOP ACTORS**\")\n",
        "for actor,movies in top_actors.items():\n",
        "  print(\"------>\",actor)\n",
        "  for idx,movie in enumerate(movies):\n",
        "    print(idx+1,movie)"
      ],
      "execution_count": 40,
      "outputs": [
        {
          "output_type": "stream",
          "name": "stdout",
          "text": [
            "***POPULAR PICKS***\n",
            "1 Minions\n",
            "2 Interstellar\n",
            "3 Deadpool\n",
            "4 Guardians of the Galaxy\n",
            "5 Mad Max: Fury Road\n",
            "6 Jurassic World\n",
            "7 Pirates of the Caribbean: The Curse of the Black Pearl\n",
            "8 Dawn of the Planet of the Apes\n",
            "9 The Hunger Games: Mockingjay - Part 1\n",
            "10 Big Hero 6\n",
            "\n",
            " ****TOP RATED****\n",
            "1 The Shawshank Redemption\n",
            "2 The Godfather\n",
            "3 Fight Club\n",
            "4 Schindler's List\n",
            "5 Spirited Away\n",
            "6 The Godfather: Part II\n",
            "7 Pulp Fiction\n",
            "8 Whiplash\n",
            "9 The Dark Knight\n",
            "10 The Green Mile\n",
            "\n",
            " **BEST ACROSS GENRES**\n",
            "------> Action\n",
            "1 One Man's Hero\n",
            "2 Pirates of the Caribbean: At World's End\n",
            "3 Avatar\n",
            "------> Adventure\n",
            "1 The Prisoner of Zenda\n",
            "2 Pirates of the Caribbean: At World's End\n",
            "3 Avatar\n",
            "------> Science Fiction\n",
            "1 The Empire Strikes Back\n",
            "2 John Carter\n",
            "3 Avatar\n",
            "------> Crime\n",
            "1 The Shawshank Redemption\n",
            "2 The Dark Knight Rises\n",
            "3 Spectre\n",
            "------> Drama\n",
            "1 Dancer, Texas Pop. 81\n",
            "2 King Kong\n",
            "3 The Dark Knight Rises\n",
            "------> Thriller\n",
            "1 Pulp Fiction\n",
            "2 Quantum of Solace\n",
            "3 The Dark Knight Rises\n",
            "------> Family\n",
            "1 Dancer, Texas Pop. 81\n",
            "2 Harry Potter and the Half-Blood Prince\n",
            "3 Tangled\n",
            "------> Comedy\n",
            "1 Stiff Upper Lips\n",
            "2 Cars 2\n",
            "3 Men in Black 3\n",
            "------> Romance\n",
            "1 Me You and Five Bucks\n",
            "2 The Great Gatsby\n",
            "3 Titanic\n",
            "------> Horror\n",
            "1 Psycho\n",
            "2 Shin Godzilla\n",
            "3 World War Z\n",
            "\n",
            " **MOVIES OF TOP ACTORS**\n",
            "------> Samuel L. Jackson\n",
            "1 The Avengers\n",
            "2 Avengers: Age of Ultron\n",
            "------> Robert De Niro\n",
            "1 Arthur and the Invisibles\n",
            "2 Little Fockers\n",
            "------> Bruce Willis\n",
            "1 G.I. Joe: Retaliation\n",
            "2 Armageddon\n",
            "------> Matt Damon\n",
            "1 Happy Feet Two\n",
            "2 Interstellar\n",
            "------> Morgan Freeman\n",
            "1 The Dark Knight\n",
            "2 The Dark Knight Rises\n",
            "------> Steve Buscemi\n",
            "1 G-Force\n",
            "2 Monsters University\n",
            "------> Liam Neeson\n",
            "1 The Chronicles of Narnia: Prince Caspian\n",
            "2 The Dark Knight Rises\n",
            "------> Johnny Depp\n",
            "1 Pirates of the Caribbean: Dead Man's Chest\n",
            "2 Pirates of the Caribbean: At World's End\n",
            "------> Owen Wilson\n",
            "1 Night at the Museum: Battle of the Smithsonian\n",
            "2 Cars 2\n",
            "------> John Goodman\n",
            "1 Transformers: Age of Extinction\n",
            "2 Monsters University\n"
          ]
        }
      ]
    },
    {
      "cell_type": "markdown",
      "metadata": {
        "id": "A-3PfSMLXEm7"
      },
      "source": [
        "#Collaborative filtering"
      ]
    },
    {
      "cell_type": "markdown",
      "metadata": {
        "id": "Vy7ZQJMc1nFO"
      },
      "source": [
        "Collaborative filtering looks at similarity between users instead of focusing on similarity of content like content based filtering \\\n",
        "For example: 2 users have given similar ratings to a few movies,so we can recommend movies rated highly by one person to another"
      ]
    },
    {
      "cell_type": "markdown",
      "metadata": {
        "id": "wLY4X4PNXOmy"
      },
      "source": [
        "##Importing libraries and a loading the dataset\n"
      ]
    },
    {
      "cell_type": "code",
      "metadata": {
        "id": "madAj6NNWySe",
        "colab": {
          "base_uri": "https://localhost:8080/"
        },
        "outputId": "435da458-fb3c-476f-8b66-934c523af1a3"
      },
      "source": [
        "from google.colab import drive\n",
        "drive.mount('/content/drive')"
      ],
      "execution_count": 41,
      "outputs": [
        {
          "output_type": "stream",
          "name": "stdout",
          "text": [
            "Drive already mounted at /content/drive; to attempt to forcibly remount, call drive.mount(\"/content/drive\", force_remount=True).\n"
          ]
        }
      ]
    },
    {
      "cell_type": "code",
      "metadata": {
        "colab": {
          "base_uri": "https://localhost:8080/",
          "height": 504
        },
        "id": "RaAYlj9jXWws",
        "outputId": "ceb07bf8-81fb-4fbd-af6a-9d5c3b7f2d5c"
      },
      "source": [
        "%matplotlib inline\n",
        "import pandas as pd\n",
        "import numpy as np\n",
        "import matplotlib.pyplot as plt\n",
        "import seaborn as sns\n",
        "!pip install surprise\n",
        "#Surprise is a library with tools like singular-value decomposition,KNN for recommender systems\n",
        "from surprise import Reader\n",
        "from surprise import Dataset\n",
        "from surprise.model_selection import cross_validate\n",
        "from surprise import KNNBaseline\n",
        "from surprise import SVD\n",
        "from surprise.accuracy import rmse\n",
        "from surprise import accuracy\n",
        "from surprise.model_selection import train_test_split\n",
        "#Enter the appropriate file path for the datasets\n",
        "movies=pd.read_csv(\"/content/drive/MyDrive/movies_data/tmdb_5000_movies.csv/tmdb_5000_movies.csv\")\n",
        "credits=pd.read_csv(\"/content/drive/MyDrive/movies_data/tmdb_5000_credits.csv/tmdb_5000_credits.csv\")\n",
        "#rename movie-id to id so as to merge both on the id\n",
        "credits.rename(columns={\"movie_id\":\"id\"},inplace=True)\n",
        "movies= movies.merge(credits,on='id')\n",
        "relevant_cols=[\"id\",\"title_x\",\"genres\",\"popularity\",\"vote_average\",\"vote_count\",\"cast\"]\n",
        "movies=movies.loc[:,relevant_cols]\n",
        "movies.rename(columns={\"title_x\":\"title\",\"vote_average\":\"rating\"},inplace=True)\n",
        "ratings=pd.read_csv(\"/content/drive/MyDrive/movies_data/ratings_small.csv\")\n",
        "ratings.head()"
      ],
      "execution_count": 42,
      "outputs": [
        {
          "output_type": "stream",
          "name": "stdout",
          "text": [
            "Collecting surprise\n",
            "  Downloading surprise-0.1-py2.py3-none-any.whl (1.8 kB)\n",
            "Collecting scikit-surprise\n",
            "  Downloading scikit-surprise-1.1.1.tar.gz (11.8 MB)\n",
            "\u001b[K     |████████████████████████████████| 11.8 MB 4.5 MB/s \n",
            "\u001b[?25hRequirement already satisfied: joblib>=0.11 in /usr/local/lib/python3.7/dist-packages (from scikit-surprise->surprise) (1.1.0)\n",
            "Requirement already satisfied: numpy>=1.11.2 in /usr/local/lib/python3.7/dist-packages (from scikit-surprise->surprise) (1.21.6)\n",
            "Requirement already satisfied: scipy>=1.0.0 in /usr/local/lib/python3.7/dist-packages (from scikit-surprise->surprise) (1.4.1)\n",
            "Requirement already satisfied: six>=1.10.0 in /usr/local/lib/python3.7/dist-packages (from scikit-surprise->surprise) (1.15.0)\n",
            "Building wheels for collected packages: scikit-surprise\n",
            "  Building wheel for scikit-surprise (setup.py) ... \u001b[?25l\u001b[?25hdone\n",
            "  Created wheel for scikit-surprise: filename=scikit_surprise-1.1.1-cp37-cp37m-linux_x86_64.whl size=1630174 sha256=0d9f7aa30221e3b332c1b19c04d03537e13a869dbc635ad23c4d327bb613aea7\n",
            "  Stored in directory: /root/.cache/pip/wheels/76/44/74/b498c42be47b2406bd27994e16c5188e337c657025ab400c1c\n",
            "Successfully built scikit-surprise\n",
            "Installing collected packages: scikit-surprise, surprise\n",
            "Successfully installed scikit-surprise-1.1.1 surprise-0.1\n"
          ]
        },
        {
          "output_type": "execute_result",
          "data": {
            "text/plain": [
              "   userId  movieId  rating   timestamp\n",
              "0       1       31     2.5  1260759144\n",
              "1       1     1029     3.0  1260759179\n",
              "2       1     1061     3.0  1260759182\n",
              "3       1     1129     2.0  1260759185\n",
              "4       1     1172     4.0  1260759205"
            ],
            "text/html": [
              "\n",
              "  <div id=\"df-8acb0baf-587a-45ec-b979-b1f8ae8c0e29\">\n",
              "    <div class=\"colab-df-container\">\n",
              "      <div>\n",
              "<style scoped>\n",
              "    .dataframe tbody tr th:only-of-type {\n",
              "        vertical-align: middle;\n",
              "    }\n",
              "\n",
              "    .dataframe tbody tr th {\n",
              "        vertical-align: top;\n",
              "    }\n",
              "\n",
              "    .dataframe thead th {\n",
              "        text-align: right;\n",
              "    }\n",
              "</style>\n",
              "<table border=\"1\" class=\"dataframe\">\n",
              "  <thead>\n",
              "    <tr style=\"text-align: right;\">\n",
              "      <th></th>\n",
              "      <th>userId</th>\n",
              "      <th>movieId</th>\n",
              "      <th>rating</th>\n",
              "      <th>timestamp</th>\n",
              "    </tr>\n",
              "  </thead>\n",
              "  <tbody>\n",
              "    <tr>\n",
              "      <th>0</th>\n",
              "      <td>1</td>\n",
              "      <td>31</td>\n",
              "      <td>2.5</td>\n",
              "      <td>1260759144</td>\n",
              "    </tr>\n",
              "    <tr>\n",
              "      <th>1</th>\n",
              "      <td>1</td>\n",
              "      <td>1029</td>\n",
              "      <td>3.0</td>\n",
              "      <td>1260759179</td>\n",
              "    </tr>\n",
              "    <tr>\n",
              "      <th>2</th>\n",
              "      <td>1</td>\n",
              "      <td>1061</td>\n",
              "      <td>3.0</td>\n",
              "      <td>1260759182</td>\n",
              "    </tr>\n",
              "    <tr>\n",
              "      <th>3</th>\n",
              "      <td>1</td>\n",
              "      <td>1129</td>\n",
              "      <td>2.0</td>\n",
              "      <td>1260759185</td>\n",
              "    </tr>\n",
              "    <tr>\n",
              "      <th>4</th>\n",
              "      <td>1</td>\n",
              "      <td>1172</td>\n",
              "      <td>4.0</td>\n",
              "      <td>1260759205</td>\n",
              "    </tr>\n",
              "  </tbody>\n",
              "</table>\n",
              "</div>\n",
              "      <button class=\"colab-df-convert\" onclick=\"convertToInteractive('df-8acb0baf-587a-45ec-b979-b1f8ae8c0e29')\"\n",
              "              title=\"Convert this dataframe to an interactive table.\"\n",
              "              style=\"display:none;\">\n",
              "        \n",
              "  <svg xmlns=\"http://www.w3.org/2000/svg\" height=\"24px\"viewBox=\"0 0 24 24\"\n",
              "       width=\"24px\">\n",
              "    <path d=\"M0 0h24v24H0V0z\" fill=\"none\"/>\n",
              "    <path d=\"M18.56 5.44l.94 2.06.94-2.06 2.06-.94-2.06-.94-.94-2.06-.94 2.06-2.06.94zm-11 1L8.5 8.5l.94-2.06 2.06-.94-2.06-.94L8.5 2.5l-.94 2.06-2.06.94zm10 10l.94 2.06.94-2.06 2.06-.94-2.06-.94-.94-2.06-.94 2.06-2.06.94z\"/><path d=\"M17.41 7.96l-1.37-1.37c-.4-.4-.92-.59-1.43-.59-.52 0-1.04.2-1.43.59L10.3 9.45l-7.72 7.72c-.78.78-.78 2.05 0 2.83L4 21.41c.39.39.9.59 1.41.59.51 0 1.02-.2 1.41-.59l7.78-7.78 2.81-2.81c.8-.78.8-2.07 0-2.86zM5.41 20L4 18.59l7.72-7.72 1.47 1.35L5.41 20z\"/>\n",
              "  </svg>\n",
              "      </button>\n",
              "      \n",
              "  <style>\n",
              "    .colab-df-container {\n",
              "      display:flex;\n",
              "      flex-wrap:wrap;\n",
              "      gap: 12px;\n",
              "    }\n",
              "\n",
              "    .colab-df-convert {\n",
              "      background-color: #E8F0FE;\n",
              "      border: none;\n",
              "      border-radius: 50%;\n",
              "      cursor: pointer;\n",
              "      display: none;\n",
              "      fill: #1967D2;\n",
              "      height: 32px;\n",
              "      padding: 0 0 0 0;\n",
              "      width: 32px;\n",
              "    }\n",
              "\n",
              "    .colab-df-convert:hover {\n",
              "      background-color: #E2EBFA;\n",
              "      box-shadow: 0px 1px 2px rgba(60, 64, 67, 0.3), 0px 1px 3px 1px rgba(60, 64, 67, 0.15);\n",
              "      fill: #174EA6;\n",
              "    }\n",
              "\n",
              "    [theme=dark] .colab-df-convert {\n",
              "      background-color: #3B4455;\n",
              "      fill: #D2E3FC;\n",
              "    }\n",
              "\n",
              "    [theme=dark] .colab-df-convert:hover {\n",
              "      background-color: #434B5C;\n",
              "      box-shadow: 0px 1px 3px 1px rgba(0, 0, 0, 0.15);\n",
              "      filter: drop-shadow(0px 1px 2px rgba(0, 0, 0, 0.3));\n",
              "      fill: #FFFFFF;\n",
              "    }\n",
              "  </style>\n",
              "\n",
              "      <script>\n",
              "        const buttonEl =\n",
              "          document.querySelector('#df-8acb0baf-587a-45ec-b979-b1f8ae8c0e29 button.colab-df-convert');\n",
              "        buttonEl.style.display =\n",
              "          google.colab.kernel.accessAllowed ? 'block' : 'none';\n",
              "\n",
              "        async function convertToInteractive(key) {\n",
              "          const element = document.querySelector('#df-8acb0baf-587a-45ec-b979-b1f8ae8c0e29');\n",
              "          const dataTable =\n",
              "            await google.colab.kernel.invokeFunction('convertToInteractive',\n",
              "                                                     [key], {});\n",
              "          if (!dataTable) return;\n",
              "\n",
              "          const docLinkHtml = 'Like what you see? Visit the ' +\n",
              "            '<a target=\"_blank\" href=https://colab.research.google.com/notebooks/data_table.ipynb>data table notebook</a>'\n",
              "            + ' to learn more about interactive tables.';\n",
              "          element.innerHTML = '';\n",
              "          dataTable['output_type'] = 'display_data';\n",
              "          await google.colab.output.renderOutput(dataTable, element);\n",
              "          const docLink = document.createElement('div');\n",
              "          docLink.innerHTML = docLinkHtml;\n",
              "          element.appendChild(docLink);\n",
              "        }\n",
              "      </script>\n",
              "    </div>\n",
              "  </div>\n",
              "  "
            ]
          },
          "metadata": {},
          "execution_count": 42
        }
      ]
    },
    {
      "cell_type": "markdown",
      "metadata": {
        "id": "qqMuyhst0daU"
      },
      "source": [
        "Basically the ratings dataset has ratings of each user for the movies he has watched and we attempt to predict the ratings he would give to unseen movies by using singular value decomposition or KNN"
      ]
    },
    {
      "cell_type": "code",
      "metadata": {
        "colab": {
          "base_uri": "https://localhost:8080/"
        },
        "id": "WMp0UMMdsAFs",
        "outputId": "09bdd98c-30ec-4e00-89d2-8e3efd525267"
      },
      "source": [
        "print(\"The total number of ratings is:\",ratings.shape[0])"
      ],
      "execution_count": 43,
      "outputs": [
        {
          "output_type": "stream",
          "name": "stdout",
          "text": [
            "The total number of ratings is: 100004\n"
          ]
        }
      ]
    },
    {
      "cell_type": "markdown",
      "metadata": {
        "id": "6qAXHDeqsVZE"
      },
      "source": [
        "Basically,each user has assigned ratings to movies he had watched &there is a timestamp to understand which movie was viewed first"
      ]
    },
    {
      "cell_type": "code",
      "metadata": {
        "colab": {
          "base_uri": "https://localhost:8080/"
        },
        "id": "bnpEAnresTwb",
        "outputId": "6923b139-02dd-493c-ade7-b7257b0639b5"
      },
      "source": [
        "print(\"The number of unique viewers is:\",ratings.describe().loc[\"max\",\"userId\"])"
      ],
      "execution_count": 44,
      "outputs": [
        {
          "output_type": "stream",
          "name": "stdout",
          "text": [
            "The number of unique viewers is: 671.0\n"
          ]
        }
      ]
    },
    {
      "cell_type": "code",
      "metadata": {
        "colab": {
          "base_uri": "https://localhost:8080/"
        },
        "id": "MUemHVPDskg8",
        "outputId": "1eee8e46-3d85-40dc-8d16-9940890e298c"
      },
      "source": [
        "print(\"Average ratings per viewer:\",ratings.shape[0]/ratings.describe().loc[\"max\",\"userId\"])"
      ],
      "execution_count": 45,
      "outputs": [
        {
          "output_type": "stream",
          "name": "stdout",
          "text": [
            "Average ratings per viewer: 149.03725782414307\n"
          ]
        }
      ]
    },
    {
      "cell_type": "markdown",
      "metadata": {
        "id": "dsiwLt3UwjQU"
      },
      "source": [
        "###Lets visualize the number of user ratings for each movie"
      ]
    },
    {
      "cell_type": "code",
      "metadata": {
        "colab": {
          "base_uri": "https://localhost:8080/",
          "height": 296
        },
        "id": "i47wkdqcwhkW",
        "outputId": "753cfb6a-4c33-431b-fab6-4efdaaf51de0"
      },
      "source": [
        "sns.histplot(ratings[\"movieId\"].value_counts(),bins=50)"
      ],
      "execution_count": 46,
      "outputs": [
        {
          "output_type": "execute_result",
          "data": {
            "text/plain": [
              "<matplotlib.axes._subplots.AxesSubplot at 0x7f09b9417110>"
            ]
          },
          "metadata": {},
          "execution_count": 46
        },
        {
          "output_type": "display_data",
          "data": {
            "text/plain": [
              "<Figure size 432x288 with 1 Axes>"
            ],
            "image/png": "[encoded data removed]"
          },
          "metadata": {
            "needs_background": "light"
          }
        }
      ]
    },
    {
      "cell_type": "markdown",
      "metadata": {
        "id": "Xo1_fUgzyW_V"
      },
      "source": [
        "First 10 movies have 6000 ratings next 10 have 1000 and thereafter there very less number of ratings which shows the movieIds ar somewhat in decreasing order of popularity"
      ]
    },
    {
      "cell_type": "markdown",
      "metadata": {
        "id": "sdPo2TyMwrEK"
      },
      "source": [
        "###Lets visualize the number of ratings given by each viewer"
      ]
    },
    {
      "cell_type": "code",
      "metadata": {
        "colab": {
          "base_uri": "https://localhost:8080/",
          "height": 296
        },
        "id": "2Rk9N-hYsoeH",
        "outputId": "6150bffd-0b0f-4cc5-84be-8dc7caebb22c"
      },
      "source": [
        "#Lets visulaize the number of ratings per voter i.e. a histogram\n",
        "sns.histplot(ratings.loc[:,\"userId\"].value_counts(),bins=50)"
      ],
      "execution_count": 47,
      "outputs": [
        {
          "output_type": "execute_result",
          "data": {
            "text/plain": [
              "<matplotlib.axes._subplots.AxesSubplot at 0x7f09b94f2990>"
            ]
          },
          "metadata": {},
          "execution_count": 47
        },
        {
          "output_type": "display_data",
          "data": {
            "text/plain": [
              "<Figure size 432x288 with 1 Axes>"
            ],
            "image/png": "[encoded data removed]"
          },
          "metadata": {
            "needs_background": "light"
          }
        }
      ]
    },
    {
      "cell_type": "markdown",
      "metadata": {
        "id": "V0fxOQEZsyqz"
      },
      "source": [
        "Most of them have watched about 100 movies & almost all have watched less 500 movies except a few outliers"
      ]
    },
    {
      "cell_type": "markdown",
      "metadata": {
        "id": "lkuN_RpXs3y4"
      },
      "source": [
        "Lets ignore the timestamp assuming the viewers interests don't change with time(though this maybe the case as expectations increase after watching few good movies and maybe even a decent movie was giveen a bad rating but let's ignore this aspect)"
      ]
    },
    {
      "cell_type": "markdown",
      "metadata": {
        "id": "EoTpMImk27AG"
      },
      "source": [
        "##Using the Surprise library for collaborative filtering"
      ]
    },
    {
      "cell_type": "code",
      "metadata": {
        "id": "ssq725F_T4Co"
      },
      "source": [
        "#Create a reader object and fit it on our ratings dataset\n",
        "reader = Reader()\n",
        "data = Dataset.load_from_df(ratings[['userId', 'movieId', 'rating']], reader)"
      ],
      "execution_count": 48,
      "outputs": []
    },
    {
      "cell_type": "code",
      "metadata": {
        "colab": {
          "base_uri": "https://localhost:8080/"
        },
        "id": "VTWXCu2TUpVQ",
        "outputId": "62959af1-8cb5-467c-c58f-f23a77bb59c6"
      },
      "source": [
        "#Perform SVD and KNN over the train set and test it over the test set and compare the test rmse\n",
        "benchmark = []\n",
        "# Iterate over all algorithms\n",
        "for algorithm in [SVD(), KNNBaseline()]:\n",
        "    # Perform cross validation\n",
        "    results = cross_validate(algorithm, data, measures=['RMSE'], cv=3, verbose=False)\n",
        "    \n",
        "    # Get results & append algorithm name\n",
        "    tmp = pd.DataFrame.from_dict(results).mean(axis=0)\n",
        "    tmp = tmp.append(pd.Series([str(algorithm).split(' ')[0].split('.')[-1]], index=['Algorithm']))\n",
        "    benchmark.append(tmp)"
      ],
      "execution_count": 49,
      "outputs": [
        {
          "output_type": "stream",
          "name": "stdout",
          "text": [
            "Estimating biases using als...\n",
            "Computing the msd similarity matrix...\n",
            "Done computing similarity matrix.\n",
            "Estimating biases using als...\n",
            "Computing the msd similarity matrix...\n",
            "Done computing similarity matrix.\n",
            "Estimating biases using als...\n",
            "Computing the msd similarity matrix...\n",
            "Done computing similarity matrix.\n"
          ]
        }
      ]
    },
    {
      "cell_type": "code",
      "metadata": {
        "id": "uybbFdUuVDgH"
      },
      "source": [
        "surprise_results = pd.DataFrame(benchmark).set_index('Algorithm').sort_values('test_rmse')"
      ],
      "execution_count": 50,
      "outputs": []
    },
    {
      "cell_type": "markdown",
      "metadata": {
        "id": "3zvhiewu2M84"
      },
      "source": [
        "###Lets look at the test rmse of SVD v/s KNN"
      ]
    },
    {
      "cell_type": "code",
      "metadata": {
        "colab": {
          "base_uri": "https://localhost:8080/",
          "height": 143
        },
        "id": "VF86gkuPVEmg",
        "outputId": "dcdb5db3-9f7f-4127-dc49-3f5a758fc475"
      },
      "source": [
        "surprise_results"
      ],
      "execution_count": 51,
      "outputs": [
        {
          "output_type": "execute_result",
          "data": {
            "text/plain": [
              "             test_rmse  fit_time  test_time\n",
              "Algorithm                                  \n",
              "SVD           0.904301  8.825689   0.583207\n",
              "KNNBaseline   0.904806  0.587118   3.639726"
            ],
            "text/html": [
              "\n",
              "  <div id=\"df-776284ed-a304-4328-b73e-013149868a56\">\n",
              "    <div class=\"colab-df-container\">\n",
              "      <div>\n",
              "<style scoped>\n",
              "    .dataframe tbody tr th:only-of-type {\n",
              "        vertical-align: middle;\n",
              "    }\n",
              "\n",
              "    .dataframe tbody tr th {\n",
              "        vertical-align: top;\n",
              "    }\n",
              "\n",
              "    .dataframe thead th {\n",
              "        text-align: right;\n",
              "    }\n",
              "</style>\n",
              "<table border=\"1\" class=\"dataframe\">\n",
              "  <thead>\n",
              "    <tr style=\"text-align: right;\">\n",
              "      <th></th>\n",
              "      <th>test_rmse</th>\n",
              "      <th>fit_time</th>\n",
              "      <th>test_time</th>\n",
              "    </tr>\n",
              "    <tr>\n",
              "      <th>Algorithm</th>\n",
              "      <th></th>\n",
              "      <th></th>\n",
              "      <th></th>\n",
              "    </tr>\n",
              "  </thead>\n",
              "  <tbody>\n",
              "    <tr>\n",
              "      <th>SVD</th>\n",
              "      <td>0.904301</td>\n",
              "      <td>8.825689</td>\n",
              "      <td>0.583207</td>\n",
              "    </tr>\n",
              "    <tr>\n",
              "      <th>KNNBaseline</th>\n",
              "      <td>0.904806</td>\n",
              "      <td>0.587118</td>\n",
              "      <td>3.639726</td>\n",
              "    </tr>\n",
              "  </tbody>\n",
              "</table>\n",
              "</div>\n",
              "      <button class=\"colab-df-convert\" onclick=\"convertToInteractive('df-776284ed-a304-4328-b73e-013149868a56')\"\n",
              "              title=\"Convert this dataframe to an interactive table.\"\n",
              "              style=\"display:none;\">\n",
              "        \n",
              "  <svg xmlns=\"http://www.w3.org/2000/svg\" height=\"24px\"viewBox=\"0 0 24 24\"\n",
              "       width=\"24px\">\n",
              "    <path d=\"M0 0h24v24H0V0z\" fill=\"none\"/>\n",
              "    <path d=\"M18.56 5.44l.94 2.06.94-2.06 2.06-.94-2.06-.94-.94-2.06-.94 2.06-2.06.94zm-11 1L8.5 8.5l.94-2.06 2.06-.94-2.06-.94L8.5 2.5l-.94 2.06-2.06.94zm10 10l.94 2.06.94-2.06 2.06-.94-2.06-.94-.94-2.06-.94 2.06-2.06.94z\"/><path d=\"M17.41 7.96l-1.37-1.37c-.4-.4-.92-.59-1.43-.59-.52 0-1.04.2-1.43.59L10.3 9.45l-7.72 7.72c-.78.78-.78 2.05 0 2.83L4 21.41c.39.39.9.59 1.41.59.51 0 1.02-.2 1.41-.59l7.78-7.78 2.81-2.81c.8-.78.8-2.07 0-2.86zM5.41 20L4 18.59l7.72-7.72 1.47 1.35L5.41 20z\"/>\n",
              "  </svg>\n",
              "      </button>\n",
              "      \n",
              "  <style>\n",
              "    .colab-df-container {\n",
              "      display:flex;\n",
              "      flex-wrap:wrap;\n",
              "      gap: 12px;\n",
              "    }\n",
              "\n",
              "    .colab-df-convert {\n",
              "      background-color: #E8F0FE;\n",
              "      border: none;\n",
              "      border-radius: 50%;\n",
              "      cursor: pointer;\n",
              "      display: none;\n",
              "      fill: #1967D2;\n",
              "      height: 32px;\n",
              "      padding: 0 0 0 0;\n",
              "      width: 32px;\n",
              "    }\n",
              "\n",
              "    .colab-df-convert:hover {\n",
              "      background-color: #E2EBFA;\n",
              "      box-shadow: 0px 1px 2px rgba(60, 64, 67, 0.3), 0px 1px 3px 1px rgba(60, 64, 67, 0.15);\n",
              "      fill: #174EA6;\n",
              "    }\n",
              "\n",
              "    [theme=dark] .colab-df-convert {\n",
              "      background-color: #3B4455;\n",
              "      fill: #D2E3FC;\n",
              "    }\n",
              "\n",
              "    [theme=dark] .colab-df-convert:hover {\n",
              "      background-color: #434B5C;\n",
              "      box-shadow: 0px 1px 3px 1px rgba(0, 0, 0, 0.15);\n",
              "      filter: drop-shadow(0px 1px 2px rgba(0, 0, 0, 0.3));\n",
              "      fill: #FFFFFF;\n",
              "    }\n",
              "  </style>\n",
              "\n",
              "      <script>\n",
              "        const buttonEl =\n",
              "          document.querySelector('#df-776284ed-a304-4328-b73e-013149868a56 button.colab-df-convert');\n",
              "        buttonEl.style.display =\n",
              "          google.colab.kernel.accessAllowed ? 'block' : 'none';\n",
              "\n",
              "        async function convertToInteractive(key) {\n",
              "          const element = document.querySelector('#df-776284ed-a304-4328-b73e-013149868a56');\n",
              "          const dataTable =\n",
              "            await google.colab.kernel.invokeFunction('convertToInteractive',\n",
              "                                                     [key], {});\n",
              "          if (!dataTable) return;\n",
              "\n",
              "          const docLinkHtml = 'Like what you see? Visit the ' +\n",
              "            '<a target=\"_blank\" href=https://colab.research.google.com/notebooks/data_table.ipynb>data table notebook</a>'\n",
              "            + ' to learn more about interactive tables.';\n",
              "          element.innerHTML = '';\n",
              "          dataTable['output_type'] = 'display_data';\n",
              "          await google.colab.output.renderOutput(dataTable, element);\n",
              "          const docLink = document.createElement('div');\n",
              "          docLink.innerHTML = docLinkHtml;\n",
              "          element.appendChild(docLink);\n",
              "        }\n",
              "      </script>\n",
              "    </div>\n",
              "  </div>\n",
              "  "
            ]
          },
          "metadata": {},
          "execution_count": 51
        }
      ]
    },
    {
      "cell_type": "markdown",
      "metadata": {
        "id": "7s1zi8nf8PQf"
      },
      "source": [
        "###Lets perform SVD as its test_rmse is marginally lower"
      ]
    },
    {
      "cell_type": "code",
      "metadata": {
        "colab": {
          "base_uri": "https://localhost:8080/"
        },
        "id": "mskFkTuEWJkq",
        "outputId": "59f449a2-cfe6-4f08-a3ac-a4fa6e3f419b"
      },
      "source": [
        "algo=SVD()\n",
        "cross_validate(algo, data, measures=['RMSE'], cv=3, verbose=False)"
      ],
      "execution_count": 52,
      "outputs": [
        {
          "output_type": "execute_result",
          "data": {
            "text/plain": [
              "{'fit_time': (4.53439998626709, 9.456140518188477, 12.019136667251587),\n",
              " 'test_rmse': array([0.9032192 , 0.90165639, 0.90246357]),\n",
              " 'test_time': (0.5949263572692871, 0.7400717735290527, 0.5366506576538086)}"
            ]
          },
          "metadata": {},
          "execution_count": 52
        }
      ]
    },
    {
      "cell_type": "markdown",
      "metadata": {
        "id": "HUAqe6Az8X6p"
      },
      "source": [
        "###Split the data into train and test sets and then predict the users ratings to unseen movies"
      ]
    },
    {
      "cell_type": "code",
      "metadata": {
        "colab": {
          "base_uri": "https://localhost:8080/"
        },
        "id": "bokBRRpAWba-",
        "outputId": "2d71088a-15be-4f0d-db7d-8ea7bea1b2e5"
      },
      "source": [
        "trainset, testset = train_test_split(data, test_size=0.25)\n",
        "algo = SVD()\n",
        "predictions = algo.fit(trainset).test(testset)\n",
        "accuracy.rmse(predictions)"
      ],
      "execution_count": 53,
      "outputs": [
        {
          "output_type": "stream",
          "name": "stdout",
          "text": [
            "RMSE: 0.8992\n"
          ]
        },
        {
          "output_type": "execute_result",
          "data": {
            "text/plain": [
              "0.8991900415186981"
            ]
          },
          "metadata": {},
          "execution_count": 53
        }
      ]
    },
    {
      "cell_type": "code",
      "metadata": {
        "id": "NRglgOWlWbLe"
      },
      "source": [
        "def get_Iu(uid):\n",
        "    \"\"\" return the number of items rated by given user\n",
        "    args: \n",
        "      uid: the id of the user\n",
        "    returns: \n",
        "      the number of items rated by the user\n",
        "    \"\"\"\n",
        "    try:\n",
        "        return len(trainset.ur[trainset.to_inner_uid(uid)])\n",
        "    except ValueError: # user was not part of the trainset\n",
        "        return 0\n",
        "    \n",
        "def get_Ui(iid):\n",
        "    \"\"\" return number of users that have rated given item\n",
        "    args:\n",
        "      iid: the raw id of the item\n",
        "    returns:\n",
        "      the number of users that have rated the item.\n",
        "    \"\"\"\n",
        "    try: \n",
        "        return len(trainset.ir[trainset.to_inner_iid(iid)])\n",
        "    except ValueError:\n",
        "        return 0\n",
        "    \n",
        "#Here,uid is user id,iid is movie id rui is rating ,est is estimated rating by this user to this movie\n",
        "df = pd.DataFrame(predictions, columns=['uid', 'iid', 'rui', 'est', 'details'])\n",
        "df['Iu'] = df.uid.apply(get_Iu)\n",
        "df['Ui'] = df.iid.apply(get_Ui)\n",
        "df['err'] = abs(df.est - df.rui)"
      ],
      "execution_count": 54,
      "outputs": []
    },
    {
      "cell_type": "code",
      "metadata": {
        "id": "R2aeWUcoXLwB"
      },
      "source": [
        "df=df.sort_values(by='uid')"
      ],
      "execution_count": 55,
      "outputs": []
    },
    {
      "cell_type": "code",
      "metadata": {
        "colab": {
          "base_uri": "https://localhost:8080/",
          "height": 206
        },
        "id": "y5zLWVmYXWm1",
        "outputId": "6d59927f-8d68-489f-feaf-2c9bd3d2a8cb"
      },
      "source": [
        "df.head()"
      ],
      "execution_count": 56,
      "outputs": [
        {
          "output_type": "execute_result",
          "data": {
            "text/plain": [
              "       uid   iid  rui       est                    details  Iu   Ui       err\n",
              "5490     1  1293  2.0  3.356047  {'was_impossible': False}  17   38  1.356047\n",
              "9197     1    31  2.5  2.330675  {'was_impossible': False}  17   29  0.169325\n",
              "454      1  1172  4.0  3.472903  {'was_impossible': False}  17   32  0.527097\n",
              "24545    2   590  5.0  3.464412  {'was_impossible': False}  59  150  1.535588\n",
              "7401     2   593  3.0  4.153167  {'was_impossible': False}  59  217  1.153167"
            ],
            "text/html": [
              "\n",
              "  <div id=\"df-17e20fdf-4435-46ce-96cd-8dd1546b4078\">\n",
              "    <div class=\"colab-df-container\">\n",
              "      <div>\n",
              "<style scoped>\n",
              "    .dataframe tbody tr th:only-of-type {\n",
              "        vertical-align: middle;\n",
              "    }\n",
              "\n",
              "    .dataframe tbody tr th {\n",
              "        vertical-align: top;\n",
              "    }\n",
              "\n",
              "    .dataframe thead th {\n",
              "        text-align: right;\n",
              "    }\n",
              "</style>\n",
              "<table border=\"1\" class=\"dataframe\">\n",
              "  <thead>\n",
              "    <tr style=\"text-align: right;\">\n",
              "      <th></th>\n",
              "      <th>uid</th>\n",
              "      <th>iid</th>\n",
              "      <th>rui</th>\n",
              "      <th>est</th>\n",
              "      <th>details</th>\n",
              "      <th>Iu</th>\n",
              "      <th>Ui</th>\n",
              "      <th>err</th>\n",
              "    </tr>\n",
              "  </thead>\n",
              "  <tbody>\n",
              "    <tr>\n",
              "      <th>5490</th>\n",
              "      <td>1</td>\n",
              "      <td>1293</td>\n",
              "      <td>2.0</td>\n",
              "      <td>3.356047</td>\n",
              "      <td>{'was_impossible': False}</td>\n",
              "      <td>17</td>\n",
              "      <td>38</td>\n",
              "      <td>1.356047</td>\n",
              "    </tr>\n",
              "    <tr>\n",
              "      <th>9197</th>\n",
              "      <td>1</td>\n",
              "      <td>31</td>\n",
              "      <td>2.5</td>\n",
              "      <td>2.330675</td>\n",
              "      <td>{'was_impossible': False}</td>\n",
              "      <td>17</td>\n",
              "      <td>29</td>\n",
              "      <td>0.169325</td>\n",
              "    </tr>\n",
              "    <tr>\n",
              "      <th>454</th>\n",
              "      <td>1</td>\n",
              "      <td>1172</td>\n",
              "      <td>4.0</td>\n",
              "      <td>3.472903</td>\n",
              "      <td>{'was_impossible': False}</td>\n",
              "      <td>17</td>\n",
              "      <td>32</td>\n",
              "      <td>0.527097</td>\n",
              "    </tr>\n",
              "    <tr>\n",
              "      <th>24545</th>\n",
              "      <td>2</td>\n",
              "      <td>590</td>\n",
              "      <td>5.0</td>\n",
              "      <td>3.464412</td>\n",
              "      <td>{'was_impossible': False}</td>\n",
              "      <td>59</td>\n",
              "      <td>150</td>\n",
              "      <td>1.535588</td>\n",
              "    </tr>\n",
              "    <tr>\n",
              "      <th>7401</th>\n",
              "      <td>2</td>\n",
              "      <td>593</td>\n",
              "      <td>3.0</td>\n",
              "      <td>4.153167</td>\n",
              "      <td>{'was_impossible': False}</td>\n",
              "      <td>59</td>\n",
              "      <td>217</td>\n",
              "      <td>1.153167</td>\n",
              "    </tr>\n",
              "  </tbody>\n",
              "</table>\n",
              "</div>\n",
              "      <button class=\"colab-df-convert\" onclick=\"convertToInteractive('df-17e20fdf-4435-46ce-96cd-8dd1546b4078')\"\n",
              "              title=\"Convert this dataframe to an interactive table.\"\n",
              "              style=\"display:none;\">\n",
              "        \n",
              "  <svg xmlns=\"http://www.w3.org/2000/svg\" height=\"24px\"viewBox=\"0 0 24 24\"\n",
              "       width=\"24px\">\n",
              "    <path d=\"M0 0h24v24H0V0z\" fill=\"none\"/>\n",
              "    <path d=\"M18.56 5.44l.94 2.06.94-2.06 2.06-.94-2.06-.94-.94-2.06-.94 2.06-2.06.94zm-11 1L8.5 8.5l.94-2.06 2.06-.94-2.06-.94L8.5 2.5l-.94 2.06-2.06.94zm10 10l.94 2.06.94-2.06 2.06-.94-2.06-.94-.94-2.06-.94 2.06-2.06.94z\"/><path d=\"M17.41 7.96l-1.37-1.37c-.4-.4-.92-.59-1.43-.59-.52 0-1.04.2-1.43.59L10.3 9.45l-7.72 7.72c-.78.78-.78 2.05 0 2.83L4 21.41c.39.39.9.59 1.41.59.51 0 1.02-.2 1.41-.59l7.78-7.78 2.81-2.81c.8-.78.8-2.07 0-2.86zM5.41 20L4 18.59l7.72-7.72 1.47 1.35L5.41 20z\"/>\n",
              "  </svg>\n",
              "      </button>\n",
              "      \n",
              "  <style>\n",
              "    .colab-df-container {\n",
              "      display:flex;\n",
              "      flex-wrap:wrap;\n",
              "      gap: 12px;\n",
              "    }\n",
              "\n",
              "    .colab-df-convert {\n",
              "      background-color: #E8F0FE;\n",
              "      border: none;\n",
              "      border-radius: 50%;\n",
              "      cursor: pointer;\n",
              "      display: none;\n",
              "      fill: #1967D2;\n",
              "      height: 32px;\n",
              "      padding: 0 0 0 0;\n",
              "      width: 32px;\n",
              "    }\n",
              "\n",
              "    .colab-df-convert:hover {\n",
              "      background-color: #E2EBFA;\n",
              "      box-shadow: 0px 1px 2px rgba(60, 64, 67, 0.3), 0px 1px 3px 1px rgba(60, 64, 67, 0.15);\n",
              "      fill: #174EA6;\n",
              "    }\n",
              "\n",
              "    [theme=dark] .colab-df-convert {\n",
              "      background-color: #3B4455;\n",
              "      fill: #D2E3FC;\n",
              "    }\n",
              "\n",
              "    [theme=dark] .colab-df-convert:hover {\n",
              "      background-color: #434B5C;\n",
              "      box-shadow: 0px 1px 3px 1px rgba(0, 0, 0, 0.15);\n",
              "      filter: drop-shadow(0px 1px 2px rgba(0, 0, 0, 0.3));\n",
              "      fill: #FFFFFF;\n",
              "    }\n",
              "  </style>\n",
              "\n",
              "      <script>\n",
              "        const buttonEl =\n",
              "          document.querySelector('#df-17e20fdf-4435-46ce-96cd-8dd1546b4078 button.colab-df-convert');\n",
              "        buttonEl.style.display =\n",
              "          google.colab.kernel.accessAllowed ? 'block' : 'none';\n",
              "\n",
              "        async function convertToInteractive(key) {\n",
              "          const element = document.querySelector('#df-17e20fdf-4435-46ce-96cd-8dd1546b4078');\n",
              "          const dataTable =\n",
              "            await google.colab.kernel.invokeFunction('convertToInteractive',\n",
              "                                                     [key], {});\n",
              "          if (!dataTable) return;\n",
              "\n",
              "          const docLinkHtml = 'Like what you see? Visit the ' +\n",
              "            '<a target=\"_blank\" href=https://colab.research.google.com/notebooks/data_table.ipynb>data table notebook</a>'\n",
              "            + ' to learn more about interactive tables.';\n",
              "          element.innerHTML = '';\n",
              "          dataTable['output_type'] = 'display_data';\n",
              "          await google.colab.output.renderOutput(dataTable, element);\n",
              "          const docLink = document.createElement('div');\n",
              "          docLink.innerHTML = docLinkHtml;\n",
              "          element.appendChild(docLink);\n",
              "        }\n",
              "      </script>\n",
              "    </div>\n",
              "  </div>\n",
              "  "
            ]
          },
          "metadata": {},
          "execution_count": 56
        }
      ]
    },
    {
      "cell_type": "code",
      "metadata": {
        "colab": {
          "base_uri": "https://localhost:8080/"
        },
        "id": "qwYQs8EklMKh",
        "outputId": "3f53a6ed-7ca3-472f-b2cc-882727b3892e"
      },
      "source": [
        "algo.predict(1, 202, 3)"
      ],
      "execution_count": 57,
      "outputs": [
        {
          "output_type": "execute_result",
          "data": {
            "text/plain": [
              "Prediction(uid=1, iid=202, r_ui=3, est=2.5240832094029915, details={'was_impossible': False})"
            ]
          },
          "metadata": {},
          "execution_count": 57
        }
      ]
    },
    {
      "cell_type": "markdown",
      "metadata": {
        "id": "TYSjlIuc8wjA"
      },
      "source": [
        "##Get the top 10 recommendations from collaborative filtering"
      ]
    },
    {
      "cell_type": "code",
      "metadata": {
        "id": "3JJX_MQrpSlN"
      },
      "source": [
        "def get_top_10_recommendations(uid):\n",
        "  #Takes userId as input\n",
        "  #And then recommends top 10 movies with best estimated ratings\n",
        "  #Using SVD\n",
        "  estimated_ratings=np.zeros(4000)\n",
        "  for iid in range(4000):\n",
        "    estimated_ratings[iid]=algo.predict(uid,iid)[3]\n",
        "  top_indices=estimated_ratings.argsort()[-10:][::-1]\n",
        "  for idx in range(10):\n",
        "    print(movies.loc[top_indices[idx],'title'])"
      ],
      "execution_count": 58,
      "outputs": []
    },
    {
      "cell_type": "markdown",
      "metadata": {
        "id": "QCl0giLE_vwI"
      },
      "source": [
        "Choose the viewer id to recommend movies to"
      ]
    },
    {
      "cell_type": "code",
      "metadata": {
        "id": "NjsRXqST9Ds6"
      },
      "source": [
        "id=348"
      ],
      "execution_count": 59,
      "outputs": []
    },
    {
      "cell_type": "markdown",
      "metadata": {
        "id": "Mr3RJ69n9Fs_"
      },
      "source": [
        "Lets have a look at his recommended movies"
      ]
    },
    {
      "cell_type": "code",
      "metadata": {
        "colab": {
          "base_uri": "https://localhost:8080/"
        },
        "id": "pgn5GlR6rzpJ",
        "outputId": "0191956a-b740-4a58-bb5d-eebc95cecc90"
      },
      "source": [
        "get_top_10_recommendations(id)"
      ],
      "execution_count": 60,
      "outputs": [
        {
          "output_type": "stream",
          "name": "stdout",
          "text": [
            "Aberdeen\n",
            "The Shadow\n",
            "As Good as It Gets\n",
            "Assassins\n",
            "Gremlins 2: The New Batch\n",
            "Shrek\n",
            "A Thousand Words\n",
            "Surf's Up\n",
            "For Greater Glory - The True Story of Cristiada\n",
            "Krrish\n"
          ]
        }
      ]
    },
    {
      "cell_type": "markdown",
      "metadata": {
        "id": "mtH37AQoc7Zp"
      },
      "source": [
        "Most of them have watched about 100 movies & almost all have watched less 500 movies excpet a few outliers"
      ]
    },
    {
      "cell_type": "markdown",
      "metadata": {
        "id": "leHKrTwudK8F"
      },
      "source": [
        "Lets ignore the timestamp assuming the viewers interests don't change with time(though this maybe the case as expectations increase after watching few good movies and maybe even a decent movie was giveen a bad rating but let's ignore this aspect)"
      ]
    },
    {
      "cell_type": "markdown",
      "metadata": {
        "id": "gpDLEzh61UMn"
      },
      "source": [
        "#Content-based filtering"
      ]
    },
    {
      "cell_type": "markdown",
      "metadata": {
        "id": "4-q3HvVd19kh"
      },
      "source": [
        "Content based filtering is more specific to a user as it takes into consideration the viewer's previous activity & ratings given by user to different movies \\\n",
        "The goal is to look at movies the user liked and recommend similar ones based on genre, cast, crew (director, music director etc.), title, tagline etc."
      ]
    },
    {
      "cell_type": "markdown",
      "metadata": {
        "id": "R7Krh9FL1ejz"
      },
      "source": [
        "###![](https://i1.wp.com/astig.ph/wp-content/uploads/2016/01/netflix-philippines-catalog.jpg)"
      ]
    },
    {
      "cell_type": "markdown",
      "metadata": {
        "id": "TrdYhF6U3Vxz"
      },
      "source": [
        "##Importing libraries and loading dataset"
      ]
    },
    {
      "cell_type": "code",
      "metadata": {
        "colab": {
          "base_uri": "https://localhost:8080/"
        },
        "id": "nJaXyJOD0vIO",
        "outputId": "3b430b48-09c7-4421-92d7-41ee96bcf52a"
      },
      "source": [
        "from google.colab import drive\n",
        "drive.mount('/content/drive')"
      ],
      "execution_count": 61,
      "outputs": [
        {
          "output_type": "stream",
          "name": "stdout",
          "text": [
            "Drive already mounted at /content/drive; to attempt to forcibly remount, call drive.mount(\"/content/drive\", force_remount=True).\n"
          ]
        }
      ]
    },
    {
      "cell_type": "code",
      "metadata": {
        "colab": {
          "base_uri": "https://localhost:8080/"
        },
        "id": "4ipySNHC3CEt",
        "outputId": "a91c1bce-1c21-43dd-a7cf-c4f8e04761df"
      },
      "source": [
        "import numpy as np\n",
        "import pandas as pd\n",
        "import matplotlib.pyplot as plt\n",
        "import seaborn as sns\n",
        "movies=pd.read_csv(\"/content/drive/MyDrive/movies_data/tmdb_5000_movies.csv/tmdb_5000_movies.csv\")\n",
        "credits=pd.read_csv(\"/content/drive/MyDrive/movies_data/tmdb_5000_credits.csv/tmdb_5000_credits.csv\")\n",
        "print(movies.shape,credits.shape)"
      ],
      "execution_count": 62,
      "outputs": [
        {
          "output_type": "stream",
          "name": "stdout",
          "text": [
            "(4803, 20) (4803, 4)\n"
          ]
        }
      ]
    },
    {
      "cell_type": "markdown",
      "metadata": {
        "id": "L530F9gx3yVC"
      },
      "source": [
        "##Data preprocessing & visualization"
      ]
    },
    {
      "cell_type": "code",
      "metadata": {
        "colab": {
          "base_uri": "https://localhost:8080/"
        },
        "id": "kDkFMpoT3ElU",
        "outputId": "a91d4f80-30a8-4e21-f779-8556011d69c7"
      },
      "source": [
        "#rename movie-id to id so as to merge both on the id\n",
        "credits.rename(columns={\"movie_id\":\"id\"},inplace=True)\n",
        "movies= movies.merge(credits,on='id')\n",
        "print(movies.shape)"
      ],
      "execution_count": 63,
      "outputs": [
        {
          "output_type": "stream",
          "name": "stdout",
          "text": [
            "(4803, 23)\n"
          ]
        }
      ]
    },
    {
      "cell_type": "code",
      "metadata": {
        "colab": {
          "base_uri": "https://localhost:8080/"
        },
        "id": "-Dqriy_-KnNT",
        "outputId": "1e376ada-a76d-49ca-b0e5-4c839c567749"
      },
      "source": [
        "relevant_cols=[\"id\",\"title_x\",\"genres\",\"popularity\",\"vote_average\",\"vote_count\",\"cast\",\"crew\",\"keywords\"]\n",
        "movies=movies.loc[:,relevant_cols]\n",
        "movies.shape"
      ],
      "execution_count": 64,
      "outputs": [
        {
          "output_type": "execute_result",
          "data": {
            "text/plain": [
              "(4803, 9)"
            ]
          },
          "metadata": {},
          "execution_count": 64
        }
      ]
    },
    {
      "cell_type": "code",
      "metadata": {
        "colab": {
          "base_uri": "https://localhost:8080/"
        },
        "id": "uIvnpafi4Cx8",
        "outputId": "e9f9aee1-31f1-4089-978e-bebe49ef8dc4"
      },
      "source": [
        "movies.rename(columns={\"title_x\":\"title\",\"vote_average\":\"rating\"},inplace=True)\n",
        "print(movies.columns)\n",
        "movies.shape"
      ],
      "execution_count": 65,
      "outputs": [
        {
          "output_type": "stream",
          "name": "stdout",
          "text": [
            "Index(['id', 'title', 'genres', 'popularity', 'rating', 'vote_count', 'cast',\n",
            "       'crew', 'keywords'],\n",
            "      dtype='object')\n"
          ]
        },
        {
          "output_type": "execute_result",
          "data": {
            "text/plain": [
              "(4803, 9)"
            ]
          },
          "metadata": {},
          "execution_count": 65
        }
      ]
    },
    {
      "cell_type": "markdown",
      "metadata": {
        "id": "-CkDncqS4IUm"
      },
      "source": [
        "Lets make a note of features which are critical to examining similarity of movies:\n",
        "\n",
        "\n",
        "\n",
        "1)keywords\n",
        "\n",
        "2)title\n",
        "\n",
        "3)genre\n",
        "\n",
        "4)cast\n",
        "\n",
        "5)crew"
      ]
    },
    {
      "cell_type": "markdown",
      "metadata": {
        "id": "RFcNaJbmBhf_"
      },
      "source": [
        "Firstly,let's convert the keywords,title to a bag of words with tokenisation,stop words"
      ]
    },
    {
      "cell_type": "code",
      "metadata": {
        "colab": {
          "base_uri": "https://localhost:8080/"
        },
        "id": "vCiv9eNT4Fte",
        "outputId": "8f9d294e-2fa4-484e-806c-d31becb051e7"
      },
      "source": [
        "import nltk\n",
        "nltk.download('punkt')\n",
        "nltk.download('stopwords')\n",
        "from nltk.tokenize import word_tokenize\n",
        "from nltk.corpus import stopwords\n",
        "import random\n",
        "row_id=int((100*random.random())//1)                          #sample the keywords of this movie\n",
        "sample=movies.loc[row_id,'keywords']\n",
        "#split into words\n",
        "tokens = word_tokenize(sample)\n",
        "#tokens simply mean that words are broken into their prefixes eg.happiness,happy,happily would all tokenize to happi\n",
        "# remove all tokens that are not alphabetic(eg.punctuation,numbers etc.)\n",
        "words = [word for word in tokens if word.isalpha()]\n",
        "words=list(set(words))\n",
        "if('id' in words):\n",
        "  words.remove('id')\n",
        "if('name' in words):\n",
        "  words.remove('name')\n",
        "#Now,lets remove stopwords i.e. common words like I,am,he,it,on etc. which don't contribute much to the meaning of the sentence\n",
        "stop_words=set(stopwords.words(\"english\"))\n",
        "filtered_words=[]\n",
        "for w in words:\n",
        "  if w not in stop_words:\n",
        "    filtered_words.append(w)\n",
        "print(\"The keywords of the movie:\",movies.loc[row_id,'title'],\"are\",str(filtered_words))"
      ],
      "execution_count": 66,
      "outputs": [
        {
          "output_type": "stream",
          "name": "stdout",
          "text": [
            "[nltk_data] Downloading package punkt to /root/nltk_data...\n",
            "[nltk_data]   Unzipping tokenizers/punkt.zip.\n",
            "[nltk_data] Downloading package stopwords to /root/nltk_data...\n",
            "[nltk_data]   Unzipping corpora/stopwords.zip.\n",
            "The keywords of the movie: TRON: Legacy are ['program', 'duel', 'motorcycle', 'light', 'computer', 'dystopia', 'artificial', 'neon', 'autocracy', 'secret', 'deception', 'identity', 'intelligence']\n"
          ]
        }
      ]
    },
    {
      "cell_type": "code",
      "metadata": {
        "colab": {
          "base_uri": "https://localhost:8080/"
        },
        "id": "Z9qX5reSA1rb",
        "outputId": "0b0f2282-6f36-43f6-d0a7-086fcf269ea1"
      },
      "source": [
        "#Now,lets create a function for genreating a list of key_words from the keywords string\n",
        "def get_keywords(keywords):\n",
        "  tokens = word_tokenize(keywords.lower())\n",
        "  #tokens simply mean that words are broken into their prefixes eg.happiness,happy,happily would all tokenize to happi\n",
        "  #remove all tokens that are not alphabetic(eg.punctuation,numbers etc.)\n",
        "  words = [word for word in tokens if word.isalpha()]\n",
        "  words=list(set(words))\n",
        "  if('id' in words):\n",
        "    words.remove('id')\n",
        "  if('name' in words):\n",
        "    words.remove('name')\n",
        "  #Now,lets remove stopwords i.e. common words like I,am,he,it,on etc. which don't contribute much to the meaning of the sentence\n",
        "  stop_words=set(stopwords.words(\"english\"))\n",
        "  filtered_words=[]\n",
        "  for w in words:\n",
        "    if w not in stop_words:\n",
        "      filtered_words.append(w)\n",
        "  return filtered_words\n",
        "\n",
        "def get_title(title):\n",
        "  tokens = word_tokenize(title.lower())\n",
        "  #tokens simply mean that words are broken into their prefixes eg.happiness,happy,happily would all tokenize to happi\n",
        "  #remove all tokens that are not alphabetic(eg.punctuation,numbers etc.)\n",
        "  words = [word for word in tokens if word.isalpha()]\n",
        "  words=list(set(words))\n",
        "  #Now,lets remove stopwords i.e. common words like I,am,he,it,on etc. which don't contribute much to the meaning of the sentence\n",
        "  stop_words=set(stopwords.words(\"english\"))\n",
        "  filtered_words=[]\n",
        "  for w in words:\n",
        "    if w not in stop_words:\n",
        "      filtered_words.append(w)\n",
        "  return filtered_words\n",
        "\n",
        "#lets test these functions\n",
        "row_id=int((100*random.random())//1)\n",
        "print(\"Title:\",movies.loc[row_id,\"title\"],'| Title(bag of words)',str(get_title(movies.loc[row_id,\"title\"])),'| keywords(bag of words)',str(get_keywords(movies.loc[row_id,\"keywords\"])))"
      ],
      "execution_count": 67,
      "outputs": [
        {
          "output_type": "stream",
          "name": "stdout",
          "text": [
            "Title: Dawn of the Planet of the Apes | Title(bag of words) ['dawn', 'planet', 'apes'] | keywords(bag of words) ['sequel', 'colony', 'plague', 'animal', 'dystopia', 'scientist', 'medical', 'leader', 'ape', 'attack', 'woods', 'forest', 'monkey', 'research']\n"
          ]
        }
      ]
    },
    {
      "cell_type": "code",
      "metadata": {
        "id": "HekU3G7wVS7R"
      },
      "source": [
        "#The genre and cast are string type first lets make functions to convert them to dictionaries\n",
        "def process_genre(s):\n",
        "  id_str=s.split(\", \")[0]\n",
        "  genre_str=s.split(\", \")[-1]\n",
        "  genre={}\n",
        "  genre[\"id\"]=int(id_str.split(':')[-1])\n",
        "  genre[\"name\"]=(genre_str.split(':')[-1])[2:-1]\n",
        "  return genre\n",
        "\n",
        "def get_genres(s):\n",
        "  if(len(s)<5):\n",
        "    return {}\n",
        "  genres=s.split(\"}, {\")\n",
        "  genres[0]=genres[0][2:]\n",
        "  genres[-1]=genres[-1][:-2]\n",
        "  genre_dicts=[]\n",
        "  for genre in genres:\n",
        "    genre_dicts.append(process_genre(genre))\n",
        "  return genre_dicts\n",
        "\n",
        "def process_actor(s):\n",
        "  id_str=s.split(\", \")[0]\n",
        "  actor_str=s.split(\", \")[-2]\n",
        "  actor={}\n",
        "  actor[\"id\"]=int(id_str.split(':')[-1])\n",
        "  actor[\"name\"]=(actor_str.split(':')[-1])[2:-1]\n",
        "  return actor\n",
        "\n",
        "def get_cast(s):\n",
        "  if(len(s)<5):\n",
        "    return {}\n",
        "  cast=s.split(\"}, {\")\n",
        "  cast[0]=cast[0][2:]\n",
        "  cast[-1]=cast[-1][:-2]\n",
        "  cast_dicts=[]\n",
        "  for actor in cast:\n",
        "    cast_dicts.append(process_actor(actor))\n",
        "  return cast_dicts\n",
        "\n",
        "def process_crew(s):\n",
        "  id_str=s.split(\", \")[-3]\n",
        "  job_str=s.split(\", \")[-2]\n",
        "  name_str=s.split(\", \")[-1]\n",
        "  crew={}\n",
        "  crew[\"id\"]=id_str.split(':')[-1]\n",
        "  crew[\"job\"]=(job_str.split(':')[-1])[2:-1]\n",
        "  crew[\"name\"]=(name_str.split(':')[-1])[2:-1]\n",
        "  return crew\n",
        "\n",
        "def get_crew(s):\n",
        "  #only director seems relevant we can safely ignore others like cameraman,producer,dubbing artist etc.\n",
        "  if(len(s)<5):\n",
        "    return {}\n",
        "  crew=s.split(\"}, {\")\n",
        "  crew[0]=crew[0][2:]\n",
        "  crew[-1]=crew[-1][:-2]\n",
        "  crew_dicts=[]\n",
        "  for crew_member in crew:\n",
        "    crew_dicts.append(process_crew(crew_member))\n",
        "  return crew_dicts"
      ],
      "execution_count": 68,
      "outputs": []
    },
    {
      "cell_type": "code",
      "metadata": {
        "colab": {
          "base_uri": "https://localhost:8080/"
        },
        "id": "FGpjSnQ4VSX5",
        "outputId": "abe96fab-9b58-441d-da84-5e05d547d759"
      },
      "source": [
        "#now,lets make cast,genre and crew list\n",
        "\n",
        "def get_genre_list(s):\n",
        "  genre_dicts=get_genres(s)\n",
        "  genre_list=[genre[\"name\"] for genre in genre_dicts]\n",
        "  return genre_list\n",
        "\n",
        "def get_cast_list(s):\n",
        "  cast_dicts=get_cast(s)\n",
        "  cast_list=[actor[\"name\"] for actor in cast_dicts]\n",
        "  return cast_list\n",
        "\n",
        "def get_crew_list(s):\n",
        "  crew_dicts=get_crew(s)\n",
        "  crew_list=[crew_member[\"name\"] for crew_member in crew_dicts if crew_member[\"job\"]==\"Director\"]\n",
        "  return crew_list\n",
        "\n",
        "get_crew_list(movies.loc[3,\"crew\"])"
      ],
      "execution_count": 69,
      "outputs": [
        {
          "output_type": "execute_result",
          "data": {
            "text/plain": [
              "['Christopher Nolan']"
            ]
          },
          "metadata": {},
          "execution_count": 69
        }
      ]
    },
    {
      "cell_type": "markdown",
      "metadata": {
        "id": "XKk0Ufzrf7ni"
      },
      "source": [
        "Now lets test all these lists for a movie"
      ]
    },
    {
      "cell_type": "code",
      "metadata": {
        "colab": {
          "base_uri": "https://localhost:8080/"
        },
        "id": "N6k61iItgG1u",
        "outputId": "5bed0ff1-c090-4489-c6e0-6be557bdb160"
      },
      "source": [
        "row_id=int((100*random.random())//1)\n",
        "print(\"TITLE:\",movies.loc[row_id,\"title\"])\n",
        "print(\"KEYWORDS:\",str(get_keywords(movies.loc[row_id,\"keywords\"])))\n",
        "print(\"GENRES:\",str(get_genre_list(movies.loc[row_id,\"genres\"])))\n",
        "print(\"CAST:\",str(get_cast_list(movies.loc[row_id,\"cast\"])))\n",
        "print(\"DIRECTOR:\",str(get_crew_list(movies.loc[row_id,\"crew\"])))"
      ],
      "execution_count": 70,
      "outputs": [
        {
          "output_type": "stream",
          "name": "stdout",
          "text": [
            "TITLE: Waterworld\n",
            "KEYWORDS: ['mutant', 'doomsday', 'water', 'tattoo', 'dystopia', 'ocean']\n",
            "GENRES: ['Adventure', 'Action']\n",
            "CAST: ['Kevin Costner', 'Chaim Girafi', 'Rick Aviles', 'R. D. Call', 'Zitto Kazann', 'Jeanne Tripplehorn', 'Dennis Hopper', 'Jack Black', 'Zakes Mokae', 'Jack Kehler', 'Tina Majorino', 'Rita Zohar', 'Gerard Murphy', 'Michael Jeter', 'Kim Coates']\n",
            "DIRECTOR: ['Kevin Reynolds']\n"
          ]
        }
      ]
    },
    {
      "cell_type": "markdown",
      "metadata": {
        "id": "0dtF4U8JjTes"
      },
      "source": [
        "Now,let's develop a similarity measure between any 2 arbitary movies"
      ]
    },
    {
      "cell_type": "code",
      "metadata": {
        "id": "HkQZ3WaRjShm"
      },
      "source": [
        "def get_sim(list1,list2):\n",
        "  ctr=0\n",
        "  for ele in list1:\n",
        "    if ele in list2:\n",
        "      ctr+=1\n",
        "  return ctr/len(list1)\n",
        "\n",
        "def get_similarity(i,j):\n",
        "  #let's the get the features of movies in row i\n",
        "  past_title=get_title(movies.loc[i,\"title\"])\n",
        "  past_keywords=get_keywords(movies.loc[i,\"keywords\"])\n",
        "  past_genres=get_genre_list(movies.loc[i,\"genres\"])\n",
        "  past_cast=get_cast_list(movies.loc[i,\"cast\"])\n",
        "  past_directors=get_crew_list(movies.loc[i,\"crew\"])\n",
        "  #Now,lets get the features of movie at row j\n",
        "  present_title=get_title(movies.loc[j,\"title\"])\n",
        "  present_keywords=get_keywords(movies.loc[j,\"keywords\"])\n",
        "  present_genres=get_genre_list(movies.loc[j,\"genres\"])\n",
        "  present_cast=get_cast_list(movies.loc[j,\"cast\"])\n",
        "  present_directors=get_crew_list(movies.loc[j,\"crew\"])\n",
        "  similarity=0\n",
        "  weights=[5,5,3,10,2]\n",
        "  similarity+=weights[0]*get_sim(past_title,present_title)\n",
        "  similarity+=weights[1]*get_sim(past_keywords,present_keywords)\n",
        "  similarity+=weights[2]*get_sim(past_genres,present_genres)\n",
        "  similarity+=weights[3]*get_sim(past_cast,present_cast)\n",
        "  similarity+=weights[4]*get_sim(past_directors,present_directors)\n",
        "  return similarity/sum(weights)"
      ],
      "execution_count": 71,
      "outputs": []
    },
    {
      "cell_type": "code",
      "metadata": {
        "id": "omrJNLr2MEBL"
      },
      "source": [
        "def get_rowId(movie):\n",
        "  for row_id in range(movies.shape[0]):\n",
        "    if(movie==movies.loc[row_id,\"title\"]):\n",
        "      return row_id\n",
        "  return -1\n",
        "\n",
        "def get_recommendation(watch_history,rating_history=-1):   \n",
        "  #Here,watch_history is list of previous movies & rating_history is the corresponding rating given by the user(if no rating were given feed -1)\n",
        "  similarity_scores=np.zeros((movies.shape[0],len(watch_history)))\n",
        "  rowIds=[]\n",
        "  for past_movie in watch_history:\n",
        "    row_id=get_rowId(past_movie)\n",
        "    if(row_id==-1):\n",
        "      print(past_movie,\"isn't a vaid movie name\")\n",
        "      print(\"Please,check the movie name,maybe some issue with case or 'the','a' etc.\")\n",
        "      return\n",
        "    rowIds.append(row_id)\n",
        "  for idx,past_movie_id in enumerate(rowIds):\n",
        "    for row_id in range(movies.shape[0]):\n",
        "      if row_id not in rowIds:\n",
        "        similarity_scores[row_id,idx]=get_similarity(past_movie_id,row_id)\n",
        "  cummulative_similarity_score=np.dot(similarity_scores,np.array(rating_history))\n",
        "  #Recommend movies with Top 10 cummulative similarity scores\n",
        "  recommended_rowIds=np.flip(cummulative_similarity_score.argsort()[-20:])\n",
        "  top_movies=movies.loc[recommended_rowIds,:]\n",
        "  recommendations=list(top_movies.nlargest(10,'popularity').loc[:,'title'])\n",
        "  print(\"****TOP PERSONALIZED RECOMMENDATIONS****\")\n",
        "  for idx,movie in enumerate(recommendations):\n",
        "    print(idx+1,')',movie)"
      ],
      "execution_count": 72,
      "outputs": []
    },
    {
      "cell_type": "markdown",
      "metadata": {
        "id": "NZVqzH8Uxp78"
      },
      "source": [
        "Give a a list of watch history and the corresponding ratings u have given,to get 10 personalised recommendations"
      ]
    },
    {
      "cell_type": "code",
      "metadata": {
        "colab": {
          "base_uri": "https://localhost:8080/"
        },
        "id": "fniP8TPXz4Qc",
        "outputId": "ef5954e8-34d0-413e-e997-ca50b3d5c8fc"
      },
      "source": [
        "n=int(input(\"How many movies have u rated till now:\\n\"))\n",
        "movie_list=[]\n",
        "rating_list=[]\n",
        "i=n\n",
        "while(i>0):\n",
        "  movie=input(\"Give {}th movie name:\".format(n-i+1))\n",
        "  rating=int(input(\"Your rating to this movie:\")) #Keep it 1,2,3,4,5\n",
        "  if(get_rowId(movie)==-1):\n",
        "    print(movie,\"isn't a vaid movie name\")\n",
        "    print(\"Please,check the movie name,maybe some issue with case or 'the','a' etc.\\n\")\n",
        "  else:\n",
        "    movie_list.append(movie)\n",
        "    rating_list.append(rating)\n",
        "    i=i-1\n",
        "    print('Perfect!!!\\n')\n",
        "\n",
        "print(\"Plz wait your recommendation are being processed\")\n",
        "get_recommendation(movie_list,rating_list)"
      ],
      "execution_count": 73,
      "outputs": [
        {
          "output_type": "stream",
          "name": "stdout",
          "text": [
            "How many movies have u rated till now:\n",
            "0\n",
            "Plz wait your recommendation are being processed\n",
            "****TOP PERSONALIZED RECOMMENDATIONS****\n",
            "1 ) The Age of Adaline\n",
            "2 ) The Cabin in the Woods\n",
            "3 ) Southpaw\n",
            "4 ) Sicario\n",
            "5 ) Drag Me to Hell\n",
            "6 ) Corpse Bride\n",
            "7 ) 30 Days of Night\n",
            "8 ) Stranger Than Fiction\n",
            "9 ) Hanna\n",
            "10 ) The Running Man\n"
          ]
        }
      ]
    },
    {
      "cell_type": "markdown",
      "metadata": {
        "id": "PeOPu9q_0BPl"
      },
      "source": [
        "Check manually here"
      ]
    },
    {
      "cell_type": "code",
      "metadata": {
        "colab": {
          "base_uri": "https://localhost:8080/"
        },
        "id": "aHUOgi7Eq1IL",
        "outputId": "a53a02f3-9832-477d-c815-51b7263967ed"
      },
      "source": [
        "get_recommendation([\"Hotel Transylvania\",\"Finding Nemo\"],[4,3])"
      ],
      "execution_count": 74,
      "outputs": [
        {
          "output_type": "stream",
          "name": "stdout",
          "text": [
            "****TOP PERSONALIZED RECOMMENDATIONS****\n",
            "1 ) Minions\n",
            "2 ) Brave\n",
            "3 ) Monsters, Inc.\n",
            "4 ) How to Train Your Dragon 2\n",
            "5 ) Aladdin\n",
            "6 ) A Bug's Life\n",
            "7 ) Cars\n",
            "8 ) Toy Story 2\n",
            "9 ) WALL·E\n",
            "10 ) Ratatouille\n"
          ]
        }
      ]
    },
    {
      "cell_type": "markdown",
      "metadata": {
        "id": "--_kv93XxJeq"
      },
      "source": [
        "Test if the movie names are appropriate here,\n",
        "For example 'Avengers' is not movie, 'The Avengers'"
      ]
    },
    {
      "cell_type": "markdown",
      "metadata": {
        "id": "b__QRE9VzaE6"
      },
      "source": [
        "If rowId is -1 there is some issue with movie name maybe case,'the','a' missing etc.\n",
        "First check it before feeding as input"
      ]
    },
    {
      "cell_type": "code",
      "metadata": {
        "colab": {
          "base_uri": "https://localhost:8080/"
        },
        "id": "nO-XGco6xgpk",
        "outputId": "760e3e10-8d77-4946-d85c-ccd447a3bb3e"
      },
      "source": [
        "get_rowId(\"Avengers: Age of Ultron\")"
      ],
      "execution_count": 75,
      "outputs": [
        {
          "output_type": "execute_result",
          "data": {
            "text/plain": [
              "7"
            ]
          },
          "metadata": {},
          "execution_count": 75
        }
      ]
    },
    {
      "cell_type": "markdown",
      "metadata": {
        "id": "cdo1EzYuyOOk"
      },
      "source": [
        "Get some radom movie names here for feeding as input"
      ]
    },
    {
      "cell_type": "code",
      "metadata": {
        "colab": {
          "base_uri": "https://localhost:8080/"
        },
        "id": "w0m0PTOqO6MG",
        "outputId": "8a1b26a4-98ab-4618-ad5e-8094fac4c5dd"
      },
      "source": [
        "print(movies.loc[12,\"title\"])"
      ],
      "execution_count": 76,
      "outputs": [
        {
          "output_type": "stream",
          "name": "stdout",
          "text": [
            "Pirates of the Caribbean: Dead Man's Chest\n"
          ]
        }
      ]
    }
  ]
}